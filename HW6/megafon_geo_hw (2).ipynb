{
 "cells": [
  {
   "cell_type": "code",
   "execution_count": 2,
   "metadata": {
    "id": "DvBR0pgJwo0f"
   },
   "outputs": [],
   "source": [
    "import warnings\n",
    "warnings.filterwarnings('ignore')\n",
    "\n",
    "import pandas as pd\n",
    "import numpy as np\n",
    "import geopandas as gpd\n",
    "\n",
    "from sklearn.model_selection import train_test_split\n",
    "from sklearn.metrics import mean_absolute_error\n",
    "from sklearn.linear_model import LinearRegression"
   ]
  },
  {
   "cell_type": "markdown",
   "metadata": {
    "id": "e8DEr_krwo0h"
   },
   "source": [
    "### Задача:\n",
    "\n",
    "Прогноз продаж одной из популярных моделей [фичерфонов](https://ru.wikipedia.org/wiki/%D0%A4%D0%B8%D1%87%D0%B5%D1%80%D1%84%D0%BE%D0%BD) (на картинке ниже пример похожего устройства) в салонах МегаФона\n",
    "![](https://39.img.avito.st/640x480/8468720439.jpg)"
   ]
  },
  {
   "cell_type": "markdown",
   "metadata": {
    "id": "DiVhKHWKwo0m"
   },
   "source": [
    "### Исходные данные:\n",
    "\n",
    "Датасет содержит следующие поля:\n",
    "\n",
    "1. `point_id` - Индентификатор салона\n",
    "2. `lon` - Долгота точки\n",
    "3. `lat` - Широта точки\n",
    "4. `target` - Значение таргета, усредненное за несколько месяцев и отнормированное"
   ]
  },
  {
   "cell_type": "markdown",
   "metadata": {
    "id": "KSQUu7Cdwo0n"
   },
   "source": [
    "### Требования к решению и советы:\n",
    "\n",
    "Ниже приведен список из нескольких важных пунктов, необходимых для решения задания. Выполнение каждого из пунктов влияет на итоговую оценку. Вы можете выполнить каждый из пунктов разными способами, самым лучшим будет считаться вариант, когда всё получение и обработка данных будут реализованы на Питоне (пример: вы можете скачать данные из OSM через интерфейс на сайте overpass-turbo или с помощью библиотек `overpass`/`requests`. Оба варианта будут зачтены, но больше баллов можно заработать во втором случае)\n",
    "\n",
    "\n",
    "\n",
    "1. Салоны расположены в нескольких разных городах, вам необходимо **определить город для каждого салона** (это понадобится во многих частях задания). К этому есть разные подходы. Вы можете провести [обратное геокодирование](https://en.wikipedia.org/wiki/Reverse_geocoding) с помощью геокодера [Nominatim](https://nominatim.org/), доступного через библиотеку `geopy` примерно вот так:\n",
    "```python\n",
    "from geopy.geocoders import Nominatim\n",
    "geolocator = Nominatim(user_agent=\"specify_your_app_name_here\")\n",
    "location = geolocator.reverse(\"52.509669, 13.376294\")\n",
    "print(location.address)\n",
    "```\n",
    "В таком случае, вам придется обрабатывать полученную строку адреса, чтобы извлечь название города. Также вы можете скачать из OSM или найти в любом другом источнике границы административно территориальных границ России и пересечь с ними датасет с помощью `geopandas.sjoin` (этот вариант более надежный, но нужно будет разобраться с тем, как устроены границы АТД в OSM, обратите внимание на [этот тег](https://wiki.openstreetmap.org/wiki/Key:admin_level))"
   ]
  },
  {
   "cell_type": "markdown",
   "metadata": {
    "id": "Q8suXmacwo0o"
   },
   "source": [
    "\n",
    "2. **Используйте данные OSM**: подумайте, какие объекты могут влиять на продажи фичерфонов. Гипотеза: такие телефоны покупают люди, приезжающие в город или страну ненадолго, чтобы вставить туда отдельную симкарту для роуминга. Можно попробовать использовать местоположения железнодорожных вокзалов (изучите [этот тег](https://wiki.openstreetmap.org/wiki/Tag:railway%3Dstation)). Необходимо использовать хотя бы 5 разных типов объектов из OSM. Скорее всего, вам придется качать данные OSM отдельно для разных городов (см. пример для Нью-Йорка из лекции)\n",
    "\n",
    "\n",
    "3. **Используйте разные способы генерации признаков**: описать положение салона МегаФона относительно станций метро можно разными способами - найти ***расстояние до ближайшей станции***, или же посчитать, сколько станций попадает в ***500 метровую буферную зону*** вокруг салона. Такие признаки будут нести разную информацию. Так же попробуйте поэкспериментировать с размерами буферных зон (представьте, что значат в реальности радиусы 100, 500, 1000 метров). Попробуйте посчитать расстояние до центра города, до других объектов."
   ]
  },
  {
   "cell_type": "markdown",
   "metadata": {
    "id": "mmKb352Vwo0q"
   },
   "source": [
    "4. **Сделайте визуализации**: постройте 2-3 карты для какого нибудь из городов - как распределен в пространстве таргет, где находятся объекты, полученные вами из OSM. Можете использовать любой инструмент - обычный `plot()`, `folium`, `keplergl`. Если выберете Кеплер, обязательно сохраните в файл конфиг карты, чтобы ее можно было воспроизвести. Сделать это можно вот так:\n",
    "\n",
    "```python\n",
    "import json\n",
    "json_data = kepler_map.config\n",
    "with open('kepler_config.json', 'w') as outfile:\n",
    "    json.dump(json_data, outfile)\n",
    "```\n",
    "5. Задание не ограничено приведенными выше пунктами, попробуйте нагенерировать интересных признаков, найти в интернете дополнительные данные (в таком случае в комментарии к коду укажите ссылку на ресурс, откуда взяли данные)\n",
    "\n",
    "\n",
    "\n",
    "6. Это довольно сложная задача - датасет очень маленький, данные по своей природе довольно случайны. Поэтому место и скор на Kaggle не будут играть решающую роль в оценке, но позволят заработать дополнительные баллы"
   ]
  },
  {
   "cell_type": "markdown",
   "metadata": {
    "id": "HSrjE0DWwo0r"
   },
   "source": [
    "### Read data"
   ]
  },
  {
   "cell_type": "code",
   "execution_count": 421,
   "metadata": {
    "id": "cW8BqcM1wo0t"
   },
   "outputs": [],
   "source": [
    "train = gpd.read_file('mf_geo_train.csv')\n",
    "test = gpd.read_file('mf_geo_test.csv')"
   ]
  },
  {
   "cell_type": "code",
   "execution_count": 422,
   "metadata": {
    "colab": {
     "base_uri": "https://localhost:8080/"
    },
    "id": "e4x76HFdwo0v",
    "outputId": "1e5ce991-3402-4bd4-a411-2a8fb933aef0"
   },
   "outputs": [
    {
     "data": {
      "text/html": [
       "<div>\n",
       "<style scoped>\n",
       "    .dataframe tbody tr th:only-of-type {\n",
       "        vertical-align: middle;\n",
       "    }\n",
       "\n",
       "    .dataframe tbody tr th {\n",
       "        vertical-align: top;\n",
       "    }\n",
       "\n",
       "    .dataframe thead th {\n",
       "        text-align: right;\n",
       "    }\n",
       "</style>\n",
       "<table border=\"1\" class=\"dataframe\">\n",
       "  <thead>\n",
       "    <tr style=\"text-align: right;\">\n",
       "      <th></th>\n",
       "      <th>point_id</th>\n",
       "      <th>lon</th>\n",
       "      <th>lat</th>\n",
       "      <th>target</th>\n",
       "      <th>geometry</th>\n",
       "    </tr>\n",
       "  </thead>\n",
       "  <tbody>\n",
       "    <tr>\n",
       "      <th>0</th>\n",
       "      <td>ommNZCUV</td>\n",
       "      <td>37.590776</td>\n",
       "      <td>55.84863000000001</td>\n",
       "      <td>-0.34815737860381524</td>\n",
       "      <td>None</td>\n",
       "    </tr>\n",
       "    <tr>\n",
       "      <th>1</th>\n",
       "      <td>nMe2LHPb</td>\n",
       "      <td>37.784209999999995</td>\n",
       "      <td>55.750271</td>\n",
       "      <td>1.294206304946465</td>\n",
       "      <td>None</td>\n",
       "    </tr>\n",
       "    <tr>\n",
       "      <th>2</th>\n",
       "      <td>ZgodVRqB</td>\n",
       "      <td>39.635721000000004</td>\n",
       "      <td>47.21333</td>\n",
       "      <td>-1.0396789295723543</td>\n",
       "      <td>None</td>\n",
       "    </tr>\n",
       "    <tr>\n",
       "      <th>3</th>\n",
       "      <td>0t2jNYdz</td>\n",
       "      <td>37.704570000000004</td>\n",
       "      <td>55.782019999999996</td>\n",
       "      <td>-1.1693392203789554</td>\n",
       "      <td>None</td>\n",
       "    </tr>\n",
       "    <tr>\n",
       "      <th>4</th>\n",
       "      <td>U27W4QJ7</td>\n",
       "      <td>37.643983</td>\n",
       "      <td>55.730188</td>\n",
       "      <td>-0.08883679699061309</td>\n",
       "      <td>None</td>\n",
       "    </tr>\n",
       "    <tr>\n",
       "      <th>...</th>\n",
       "      <td>...</td>\n",
       "      <td>...</td>\n",
       "      <td>...</td>\n",
       "      <td>...</td>\n",
       "      <td>...</td>\n",
       "    </tr>\n",
       "    <tr>\n",
       "      <th>420</th>\n",
       "      <td>AA8hN7bJ</td>\n",
       "      <td>37.628765</td>\n",
       "      <td>55.740664</td>\n",
       "      <td>0.21370388155812275</td>\n",
       "      <td>None</td>\n",
       "    </tr>\n",
       "    <tr>\n",
       "      <th>421</th>\n",
       "      <td>uNw6t6xk</td>\n",
       "      <td>37.586825</td>\n",
       "      <td>55.794233</td>\n",
       "      <td>-0.002396603119545705</td>\n",
       "      <td>None</td>\n",
       "    </tr>\n",
       "    <tr>\n",
       "      <th>422</th>\n",
       "      <td>Ap42ei8k</td>\n",
       "      <td>37.67879</td>\n",
       "      <td>55.772909999999996</td>\n",
       "      <td>-0.9100186387657532</td>\n",
       "      <td>None</td>\n",
       "    </tr>\n",
       "    <tr>\n",
       "      <th>423</th>\n",
       "      <td>rn9A8r62</td>\n",
       "      <td>37.75213</td>\n",
       "      <td>55.619640000000004</td>\n",
       "      <td>-0.32654733013604836</td>\n",
       "      <td>None</td>\n",
       "    </tr>\n",
       "    <tr>\n",
       "      <th>424</th>\n",
       "      <td>960M6jye</td>\n",
       "      <td>37.70577</td>\n",
       "      <td>55.78295</td>\n",
       "      <td>-1.234169365782256</td>\n",
       "      <td>None</td>\n",
       "    </tr>\n",
       "  </tbody>\n",
       "</table>\n",
       "<p>425 rows × 5 columns</p>\n",
       "</div>"
      ],
      "text/plain": [
       "     point_id                 lon                 lat                 target  \\\n",
       "0    ommNZCUV           37.590776   55.84863000000001   -0.34815737860381524   \n",
       "1    nMe2LHPb  37.784209999999995           55.750271      1.294206304946465   \n",
       "2    ZgodVRqB  39.635721000000004            47.21333    -1.0396789295723543   \n",
       "3    0t2jNYdz  37.704570000000004  55.782019999999996    -1.1693392203789554   \n",
       "4    U27W4QJ7           37.643983           55.730188   -0.08883679699061309   \n",
       "..        ...                 ...                 ...                    ...   \n",
       "420  AA8hN7bJ           37.628765           55.740664    0.21370388155812275   \n",
       "421  uNw6t6xk           37.586825           55.794233  -0.002396603119545705   \n",
       "422  Ap42ei8k            37.67879  55.772909999999996    -0.9100186387657532   \n",
       "423  rn9A8r62            37.75213  55.619640000000004   -0.32654733013604836   \n",
       "424  960M6jye            37.70577            55.78295     -1.234169365782256   \n",
       "\n",
       "    geometry  \n",
       "0       None  \n",
       "1       None  \n",
       "2       None  \n",
       "3       None  \n",
       "4       None  \n",
       "..       ...  \n",
       "420     None  \n",
       "421     None  \n",
       "422     None  \n",
       "423     None  \n",
       "424     None  \n",
       "\n",
       "[425 rows x 5 columns]"
      ]
     },
     "execution_count": 422,
     "metadata": {},
     "output_type": "execute_result"
    }
   ],
   "source": [
    "train"
   ]
  },
  {
   "cell_type": "code",
   "execution_count": 4,
   "metadata": {
    "colab": {
     "base_uri": "https://localhost:8080/"
    },
    "id": "ljm4dqrkwo0w",
    "outputId": "0d3f45f6-5d35-4170-f1e6-a0968522e456"
   },
   "outputs": [
    {
     "data": {
      "text/html": [
       "<div>\n",
       "<style scoped>\n",
       "    .dataframe tbody tr th:only-of-type {\n",
       "        vertical-align: middle;\n",
       "    }\n",
       "\n",
       "    .dataframe tbody tr th {\n",
       "        vertical-align: top;\n",
       "    }\n",
       "\n",
       "    .dataframe thead th {\n",
       "        text-align: right;\n",
       "    }\n",
       "</style>\n",
       "<table border=\"1\" class=\"dataframe\">\n",
       "  <thead>\n",
       "    <tr style=\"text-align: right;\">\n",
       "      <th></th>\n",
       "      <th>point_id</th>\n",
       "      <th>lon</th>\n",
       "      <th>lat</th>\n",
       "      <th>target</th>\n",
       "      <th>geometry</th>\n",
       "    </tr>\n",
       "  </thead>\n",
       "  <tbody>\n",
       "    <tr>\n",
       "      <th>0</th>\n",
       "      <td>F4lXR1cG</td>\n",
       "      <td>37.681242</td>\n",
       "      <td>55.74804</td>\n",
       "      <td>0.0091</td>\n",
       "      <td>None</td>\n",
       "    </tr>\n",
       "    <tr>\n",
       "      <th>1</th>\n",
       "      <td>4LJu4GTf</td>\n",
       "      <td>60.580909999999996</td>\n",
       "      <td>56.79586</td>\n",
       "      <td>0.0091</td>\n",
       "      <td>None</td>\n",
       "    </tr>\n",
       "    <tr>\n",
       "      <th>2</th>\n",
       "      <td>kLuAAN3s</td>\n",
       "      <td>37.598614000000005</td>\n",
       "      <td>55.78135699999999</td>\n",
       "      <td>0.0091</td>\n",
       "      <td>None</td>\n",
       "    </tr>\n",
       "    <tr>\n",
       "      <th>3</th>\n",
       "      <td>OxQHvaNu</td>\n",
       "      <td>37.794051</td>\n",
       "      <td>55.717468000000004</td>\n",
       "      <td>0.0091</td>\n",
       "      <td>None</td>\n",
       "    </tr>\n",
       "    <tr>\n",
       "      <th>4</th>\n",
       "      <td>paQsTa1K</td>\n",
       "      <td>49.213026</td>\n",
       "      <td>55.748290000000004</td>\n",
       "      <td>0.0091</td>\n",
       "      <td>None</td>\n",
       "    </tr>\n",
       "    <tr>\n",
       "      <th>...</th>\n",
       "      <td>...</td>\n",
       "      <td>...</td>\n",
       "      <td>...</td>\n",
       "      <td>...</td>\n",
       "      <td>...</td>\n",
       "    </tr>\n",
       "    <tr>\n",
       "      <th>102</th>\n",
       "      <td>y8oQuX5v</td>\n",
       "      <td>30.353777</td>\n",
       "      <td>60.049792000000004</td>\n",
       "      <td>0.0091</td>\n",
       "      <td>None</td>\n",
       "    </tr>\n",
       "    <tr>\n",
       "      <th>103</th>\n",
       "      <td>4nmfqUw0</td>\n",
       "      <td>92.928927</td>\n",
       "      <td>56.116262</td>\n",
       "      <td>0.0091</td>\n",
       "      <td>None</td>\n",
       "    </tr>\n",
       "    <tr>\n",
       "      <th>104</th>\n",
       "      <td>N9O45mAh</td>\n",
       "      <td>93.01599300000001</td>\n",
       "      <td>56.023697</td>\n",
       "      <td>0.0091</td>\n",
       "      <td>None</td>\n",
       "    </tr>\n",
       "    <tr>\n",
       "      <th>105</th>\n",
       "      <td>h2InCLKa</td>\n",
       "      <td>30.381171999999996</td>\n",
       "      <td>59.871149</td>\n",
       "      <td>0.0091</td>\n",
       "      <td>None</td>\n",
       "    </tr>\n",
       "    <tr>\n",
       "      <th>106</th>\n",
       "      <td>TQKiIgFt</td>\n",
       "      <td>30.279244</td>\n",
       "      <td>59.94211</td>\n",
       "      <td>0.0091</td>\n",
       "      <td>None</td>\n",
       "    </tr>\n",
       "  </tbody>\n",
       "</table>\n",
       "<p>107 rows × 5 columns</p>\n",
       "</div>"
      ],
      "text/plain": [
       "     point_id                 lon                 lat  target geometry\n",
       "0    F4lXR1cG           37.681242            55.74804  0.0091     None\n",
       "1    4LJu4GTf  60.580909999999996            56.79586  0.0091     None\n",
       "2    kLuAAN3s  37.598614000000005   55.78135699999999  0.0091     None\n",
       "3    OxQHvaNu           37.794051  55.717468000000004  0.0091     None\n",
       "4    paQsTa1K           49.213026  55.748290000000004  0.0091     None\n",
       "..        ...                 ...                 ...     ...      ...\n",
       "102  y8oQuX5v           30.353777  60.049792000000004  0.0091     None\n",
       "103  4nmfqUw0           92.928927           56.116262  0.0091     None\n",
       "104  N9O45mAh   93.01599300000001           56.023697  0.0091     None\n",
       "105  h2InCLKa  30.381171999999996           59.871149  0.0091     None\n",
       "106  TQKiIgFt           30.279244            59.94211  0.0091     None\n",
       "\n",
       "[107 rows x 5 columns]"
      ]
     },
     "execution_count": 4,
     "metadata": {},
     "output_type": "execute_result"
    }
   ],
   "source": [
    "test"
   ]
  },
  {
   "cell_type": "markdown",
   "metadata": {
    "id": "OZh6ZfhuCc72"
   },
   "source": [
    "### hw"
   ]
  },
  {
   "cell_type": "markdown",
   "metadata": {
    "id": "X2__FpM8NSLG"
   },
   "source": [
    "#### overpass"
   ]
  },
  {
   "cell_type": "code",
   "execution_count": 333,
   "metadata": {
    "id": "rGsOUPOHCb1I"
   },
   "outputs": [],
   "source": [
    "from geopy.geocoders import Nominatim\n",
    "import re\n",
    "import requests"
   ]
  },
  {
   "cell_type": "code",
   "execution_count": 13,
   "metadata": {
    "id": "373hSsQmckC5"
   },
   "outputs": [],
   "source": [
    "import shapely.geometry as sg\n",
    "import matplotlib.pyplot as plt\n",
    "import shapely.wkt\n",
    "from shapely.geometry import Point"
   ]
  },
  {
   "cell_type": "code",
   "execution_count": 612,
   "metadata": {},
   "outputs": [],
   "source": [
    "#train = test #для тестовой части"
   ]
  },
  {
   "cell_type": "code",
   "execution_count": 613,
   "metadata": {
    "id": "8hYJvVZgh_Ue"
   },
   "outputs": [],
   "source": [
    "geom = []\n",
    "for i, j in train[['lon', 'lat']].values:\n",
    "    geom.append(Point(np.round(float(i),6), np.round(float(j),6)))\n",
    "\n",
    "k = 0\n",
    "for i in geom:\n",
    "    train.iloc[k,4] = i\n",
    "    k+=1"
   ]
  },
  {
   "cell_type": "code",
   "execution_count": 424,
   "metadata": {
    "colab": {
     "base_uri": "https://localhost:8080/",
     "height": 200
    },
    "id": "2xpnSekOj8O8",
    "outputId": "f1483388-59ad-42a8-ccb4-ec1cb1ed83c3",
    "scrolled": true
   },
   "outputs": [
    {
     "data": {
      "text/html": [
       "<div>\n",
       "<style scoped>\n",
       "    .dataframe tbody tr th:only-of-type {\n",
       "        vertical-align: middle;\n",
       "    }\n",
       "\n",
       "    .dataframe tbody tr th {\n",
       "        vertical-align: top;\n",
       "    }\n",
       "\n",
       "    .dataframe thead th {\n",
       "        text-align: right;\n",
       "    }\n",
       "</style>\n",
       "<table border=\"1\" class=\"dataframe\">\n",
       "  <thead>\n",
       "    <tr style=\"text-align: right;\">\n",
       "      <th></th>\n",
       "      <th>point_id</th>\n",
       "      <th>lon</th>\n",
       "      <th>lat</th>\n",
       "      <th>target</th>\n",
       "      <th>geometry</th>\n",
       "    </tr>\n",
       "  </thead>\n",
       "  <tbody>\n",
       "    <tr>\n",
       "      <th>0</th>\n",
       "      <td>ommNZCUV</td>\n",
       "      <td>37.590776</td>\n",
       "      <td>55.84863000000001</td>\n",
       "      <td>-0.34815737860381524</td>\n",
       "      <td>POINT (37.59078 55.84863)</td>\n",
       "    </tr>\n",
       "    <tr>\n",
       "      <th>1</th>\n",
       "      <td>nMe2LHPb</td>\n",
       "      <td>37.784209999999995</td>\n",
       "      <td>55.750271</td>\n",
       "      <td>1.294206304946465</td>\n",
       "      <td>POINT (37.78421 55.75027)</td>\n",
       "    </tr>\n",
       "    <tr>\n",
       "      <th>2</th>\n",
       "      <td>ZgodVRqB</td>\n",
       "      <td>39.635721000000004</td>\n",
       "      <td>47.21333</td>\n",
       "      <td>-1.0396789295723543</td>\n",
       "      <td>POINT (39.63572 47.21333)</td>\n",
       "    </tr>\n",
       "    <tr>\n",
       "      <th>3</th>\n",
       "      <td>0t2jNYdz</td>\n",
       "      <td>37.704570000000004</td>\n",
       "      <td>55.782019999999996</td>\n",
       "      <td>-1.1693392203789554</td>\n",
       "      <td>POINT (37.70457 55.78202)</td>\n",
       "    </tr>\n",
       "    <tr>\n",
       "      <th>4</th>\n",
       "      <td>U27W4QJ7</td>\n",
       "      <td>37.643983</td>\n",
       "      <td>55.730188</td>\n",
       "      <td>-0.08883679699061309</td>\n",
       "      <td>POINT (37.64398 55.73019)</td>\n",
       "    </tr>\n",
       "  </tbody>\n",
       "</table>\n",
       "</div>"
      ],
      "text/plain": [
       "   point_id                 lon                 lat                target  \\\n",
       "0  ommNZCUV           37.590776   55.84863000000001  -0.34815737860381524   \n",
       "1  nMe2LHPb  37.784209999999995           55.750271     1.294206304946465   \n",
       "2  ZgodVRqB  39.635721000000004            47.21333   -1.0396789295723543   \n",
       "3  0t2jNYdz  37.704570000000004  55.782019999999996   -1.1693392203789554   \n",
       "4  U27W4QJ7           37.643983           55.730188  -0.08883679699061309   \n",
       "\n",
       "                    geometry  \n",
       "0  POINT (37.59078 55.84863)  \n",
       "1  POINT (37.78421 55.75027)  \n",
       "2  POINT (39.63572 47.21333)  \n",
       "3  POINT (37.70457 55.78202)  \n",
       "4  POINT (37.64398 55.73019)  "
      ]
     },
     "execution_count": 424,
     "metadata": {},
     "output_type": "execute_result"
    }
   ],
   "source": [
    "train.head()"
   ]
  },
  {
   "cell_type": "code",
   "execution_count": 3,
   "metadata": {
    "collapsed": true
   },
   "outputs": [
    {
     "ename": "NameError",
     "evalue": "name 'train' is not defined",
     "output_type": "error",
     "traceback": [
      "\u001b[1;31m---------------------------------------------------------------------------\u001b[0m",
      "\u001b[1;31mNameError\u001b[0m                                 Traceback (most recent call last)",
      "\u001b[1;32m<ipython-input-3-222ec0ede757>\u001b[0m in \u001b[0;36m<module>\u001b[1;34m\u001b[0m\n\u001b[0;32m      2\u001b[0m \u001b[0madlvl4\u001b[0m \u001b[1;33m=\u001b[0m \u001b[0madlvl4\u001b[0m\u001b[1;33m[\u001b[0m\u001b[1;33m[\u001b[0m\u001b[1;34m'name'\u001b[0m\u001b[1;33m,\u001b[0m \u001b[1;34m'geometry'\u001b[0m\u001b[1;33m]\u001b[0m\u001b[1;33m]\u001b[0m\u001b[1;33m\u001b[0m\u001b[1;33m\u001b[0m\u001b[0m\n\u001b[0;32m      3\u001b[0m \u001b[1;33m\u001b[0m\u001b[0m\n\u001b[1;32m----> 4\u001b[1;33m \u001b[0mmsk_spb\u001b[0m \u001b[1;33m=\u001b[0m \u001b[0mgpd\u001b[0m\u001b[1;33m.\u001b[0m\u001b[0msjoin\u001b[0m\u001b[1;33m(\u001b[0m\u001b[0mtrain\u001b[0m\u001b[1;33m,\u001b[0m \u001b[0madlvl4\u001b[0m\u001b[1;33m,\u001b[0m \u001b[0mop\u001b[0m\u001b[1;33m=\u001b[0m\u001b[1;34m'within'\u001b[0m\u001b[1;33m)\u001b[0m\u001b[1;33m\u001b[0m\u001b[1;33m\u001b[0m\u001b[0m\n\u001b[0m",
      "\u001b[1;31mNameError\u001b[0m: name 'train' is not defined"
     ]
    }
   ],
   "source": [
    "adlvl4 = gpd.read_file('GeoJSON/admin_level_4.geojson')\n",
    "adlvl4 = adlvl4[['name', 'geometry']]"
   ]
  },
  {
   "cell_type": "code",
   "execution_count": 614,
   "metadata": {},
   "outputs": [],
   "source": [
    "msk_spb = gpd.sjoin(train, adlvl4, op='within')"
   ]
  },
  {
   "cell_type": "code",
   "execution_count": 615,
   "metadata": {},
   "outputs": [],
   "source": [
    "msk = msk_spb[msk_spb['name'] == 'Москва']\n",
    "msk_spb = msk.append(msk_spb[msk_spb['name'] == 'Санкт-Петербург'])"
   ]
  },
  {
   "cell_type": "code",
   "execution_count": 6,
   "metadata": {
    "scrolled": false
   },
   "outputs": [],
   "source": [
    "adlvl6 = gpd.read_file('GeoJSON/admin_level_6.geojson')\n",
    "adlvl6 = adlvl6[['name', 'geometry']]"
   ]
  },
  {
   "cell_type": "code",
   "execution_count": 616,
   "metadata": {
    "id": "UF5qi6Qmgl9e"
   },
   "outputs": [
    {
     "data": {
      "text/html": [
       "<div>\n",
       "<style scoped>\n",
       "    .dataframe tbody tr th:only-of-type {\n",
       "        vertical-align: middle;\n",
       "    }\n",
       "\n",
       "    .dataframe tbody tr th {\n",
       "        vertical-align: top;\n",
       "    }\n",
       "\n",
       "    .dataframe thead th {\n",
       "        text-align: right;\n",
       "    }\n",
       "</style>\n",
       "<table border=\"1\" class=\"dataframe\">\n",
       "  <thead>\n",
       "    <tr style=\"text-align: right;\">\n",
       "      <th></th>\n",
       "      <th>point_id</th>\n",
       "      <th>lon</th>\n",
       "      <th>lat</th>\n",
       "      <th>target</th>\n",
       "      <th>geometry</th>\n",
       "      <th>index_right</th>\n",
       "      <th>name</th>\n",
       "    </tr>\n",
       "  </thead>\n",
       "  <tbody>\n",
       "    <tr>\n",
       "      <th>1</th>\n",
       "      <td>4LJu4GTf</td>\n",
       "      <td>60.580909999999996</td>\n",
       "      <td>56.79586</td>\n",
       "      <td>0.0091</td>\n",
       "      <td>POINT (60.58091 56.79586)</td>\n",
       "      <td>2347</td>\n",
       "      <td>городской округ Екатеринбург</td>\n",
       "    </tr>\n",
       "    <tr>\n",
       "      <th>11</th>\n",
       "      <td>QquqDdRl</td>\n",
       "      <td>60.630766</td>\n",
       "      <td>56.863482999999995</td>\n",
       "      <td>0.0091</td>\n",
       "      <td>POINT (60.63077 56.86348)</td>\n",
       "      <td>2347</td>\n",
       "      <td>городской округ Екатеринбург</td>\n",
       "    </tr>\n",
       "    <tr>\n",
       "      <th>40</th>\n",
       "      <td>TWUIwCah</td>\n",
       "      <td>60.58832099999999</td>\n",
       "      <td>56.902156999999995</td>\n",
       "      <td>0.0091</td>\n",
       "      <td>POINT (60.58832 56.90216)</td>\n",
       "      <td>2347</td>\n",
       "      <td>городской округ Екатеринбург</td>\n",
       "    </tr>\n",
       "    <tr>\n",
       "      <th>46</th>\n",
       "      <td>6PiHBiPm</td>\n",
       "      <td>60.818936</td>\n",
       "      <td>56.759049</td>\n",
       "      <td>0.0091</td>\n",
       "      <td>POINT (60.81894 56.75905)</td>\n",
       "      <td>2347</td>\n",
       "      <td>городской округ Екатеринбург</td>\n",
       "    </tr>\n",
       "    <tr>\n",
       "      <th>50</th>\n",
       "      <td>kuGZ4yXA</td>\n",
       "      <td>60.608227</td>\n",
       "      <td>56.782652</td>\n",
       "      <td>0.0091</td>\n",
       "      <td>POINT (60.60823 56.78265)</td>\n",
       "      <td>2347</td>\n",
       "      <td>городской округ Екатеринбург</td>\n",
       "    </tr>\n",
       "    <tr>\n",
       "      <th>...</th>\n",
       "      <td>...</td>\n",
       "      <td>...</td>\n",
       "      <td>...</td>\n",
       "      <td>...</td>\n",
       "      <td>...</td>\n",
       "      <td>...</td>\n",
       "      <td>...</td>\n",
       "    </tr>\n",
       "    <tr>\n",
       "      <th>97</th>\n",
       "      <td>b8VUVBle</td>\n",
       "      <td>30.318213</td>\n",
       "      <td>59.926476</td>\n",
       "      <td>0.0091</td>\n",
       "      <td>POINT (30.31821 59.92648)</td>\n",
       "      <td>45</td>\n",
       "      <td>Санкт-Петербург</td>\n",
       "    </tr>\n",
       "    <tr>\n",
       "      <th>98</th>\n",
       "      <td>h3S4qdms</td>\n",
       "      <td>30.334946000000002</td>\n",
       "      <td>60.067586</td>\n",
       "      <td>0.0091</td>\n",
       "      <td>POINT (30.33495 60.06759)</td>\n",
       "      <td>45</td>\n",
       "      <td>Санкт-Петербург</td>\n",
       "    </tr>\n",
       "    <tr>\n",
       "      <th>102</th>\n",
       "      <td>y8oQuX5v</td>\n",
       "      <td>30.353777</td>\n",
       "      <td>60.049792000000004</td>\n",
       "      <td>0.0091</td>\n",
       "      <td>POINT (30.35378 60.04979)</td>\n",
       "      <td>45</td>\n",
       "      <td>Санкт-Петербург</td>\n",
       "    </tr>\n",
       "    <tr>\n",
       "      <th>105</th>\n",
       "      <td>h2InCLKa</td>\n",
       "      <td>30.381171999999996</td>\n",
       "      <td>59.871149</td>\n",
       "      <td>0.0091</td>\n",
       "      <td>POINT (30.38117 59.87115)</td>\n",
       "      <td>45</td>\n",
       "      <td>Санкт-Петербург</td>\n",
       "    </tr>\n",
       "    <tr>\n",
       "      <th>106</th>\n",
       "      <td>TQKiIgFt</td>\n",
       "      <td>30.279244</td>\n",
       "      <td>59.94211</td>\n",
       "      <td>0.0091</td>\n",
       "      <td>POINT (30.27924 59.94211)</td>\n",
       "      <td>45</td>\n",
       "      <td>Санкт-Петербург</td>\n",
       "    </tr>\n",
       "  </tbody>\n",
       "</table>\n",
       "<p>107 rows × 7 columns</p>\n",
       "</div>"
      ],
      "text/plain": [
       "     point_id                 lon                 lat  target  \\\n",
       "1    4LJu4GTf  60.580909999999996            56.79586  0.0091   \n",
       "11   QquqDdRl           60.630766  56.863482999999995  0.0091   \n",
       "40   TWUIwCah   60.58832099999999  56.902156999999995  0.0091   \n",
       "46   6PiHBiPm           60.818936           56.759049  0.0091   \n",
       "50   kuGZ4yXA           60.608227           56.782652  0.0091   \n",
       "..        ...                 ...                 ...     ...   \n",
       "97   b8VUVBle           30.318213           59.926476  0.0091   \n",
       "98   h3S4qdms  30.334946000000002           60.067586  0.0091   \n",
       "102  y8oQuX5v           30.353777  60.049792000000004  0.0091   \n",
       "105  h2InCLKa  30.381171999999996           59.871149  0.0091   \n",
       "106  TQKiIgFt           30.279244            59.94211  0.0091   \n",
       "\n",
       "                      geometry  index_right                          name  \n",
       "1    POINT (60.58091 56.79586)         2347  городской округ Екатеринбург  \n",
       "11   POINT (60.63077 56.86348)         2347  городской округ Екатеринбург  \n",
       "40   POINT (60.58832 56.90216)         2347  городской округ Екатеринбург  \n",
       "46   POINT (60.81894 56.75905)         2347  городской округ Екатеринбург  \n",
       "50   POINT (60.60823 56.78265)         2347  городской округ Екатеринбург  \n",
       "..                         ...          ...                           ...  \n",
       "97   POINT (30.31821 59.92648)           45               Санкт-Петербург  \n",
       "98   POINT (30.33495 60.06759)           45               Санкт-Петербург  \n",
       "102  POINT (30.35378 60.04979)           45               Санкт-Петербург  \n",
       "105  POINT (30.38117 59.87115)           45               Санкт-Петербург  \n",
       "106  POINT (30.27924 59.94211)           45               Санкт-Петербург  \n",
       "\n",
       "[107 rows x 7 columns]"
      ]
     },
     "execution_count": 616,
     "metadata": {},
     "output_type": "execute_result"
    }
   ],
   "source": [
    "ru = gpd.sjoin(train,adlvl6,op='within')\n",
    "ru = ru.append(msk_spb)\n",
    "ru"
   ]
  },
  {
   "cell_type": "code",
   "execution_count": 11,
   "metadata": {},
   "outputs": [
    {
     "data": {
      "text/html": [
       "<div>\n",
       "<style scoped>\n",
       "    .dataframe tbody tr th:only-of-type {\n",
       "        vertical-align: middle;\n",
       "    }\n",
       "\n",
       "    .dataframe tbody tr th {\n",
       "        vertical-align: top;\n",
       "    }\n",
       "\n",
       "    .dataframe thead th {\n",
       "        text-align: right;\n",
       "    }\n",
       "</style>\n",
       "<table border=\"1\" class=\"dataframe\">\n",
       "  <thead>\n",
       "    <tr style=\"text-align: right;\">\n",
       "      <th></th>\n",
       "      <th>point_id</th>\n",
       "      <th>lon</th>\n",
       "      <th>lat</th>\n",
       "      <th>target</th>\n",
       "      <th>geometry</th>\n",
       "    </tr>\n",
       "  </thead>\n",
       "  <tbody>\n",
       "    <tr>\n",
       "      <th>0</th>\n",
       "      <td>ommNZCUV</td>\n",
       "      <td>37.590776</td>\n",
       "      <td>55.84863000000001</td>\n",
       "      <td>-0.34815737860381524</td>\n",
       "      <td>None</td>\n",
       "    </tr>\n",
       "    <tr>\n",
       "      <th>1</th>\n",
       "      <td>nMe2LHPb</td>\n",
       "      <td>37.784209999999995</td>\n",
       "      <td>55.750271</td>\n",
       "      <td>1.294206304946465</td>\n",
       "      <td>None</td>\n",
       "    </tr>\n",
       "    <tr>\n",
       "      <th>2</th>\n",
       "      <td>ZgodVRqB</td>\n",
       "      <td>39.635721000000004</td>\n",
       "      <td>47.21333</td>\n",
       "      <td>-1.0396789295723543</td>\n",
       "      <td>None</td>\n",
       "    </tr>\n",
       "    <tr>\n",
       "      <th>3</th>\n",
       "      <td>0t2jNYdz</td>\n",
       "      <td>37.704570000000004</td>\n",
       "      <td>55.782019999999996</td>\n",
       "      <td>-1.1693392203789554</td>\n",
       "      <td>None</td>\n",
       "    </tr>\n",
       "    <tr>\n",
       "      <th>4</th>\n",
       "      <td>U27W4QJ7</td>\n",
       "      <td>37.643983</td>\n",
       "      <td>55.730188</td>\n",
       "      <td>-0.08883679699061309</td>\n",
       "      <td>None</td>\n",
       "    </tr>\n",
       "    <tr>\n",
       "      <th>...</th>\n",
       "      <td>...</td>\n",
       "      <td>...</td>\n",
       "      <td>...</td>\n",
       "      <td>...</td>\n",
       "      <td>...</td>\n",
       "    </tr>\n",
       "    <tr>\n",
       "      <th>420</th>\n",
       "      <td>AA8hN7bJ</td>\n",
       "      <td>37.628765</td>\n",
       "      <td>55.740664</td>\n",
       "      <td>0.21370388155812275</td>\n",
       "      <td>None</td>\n",
       "    </tr>\n",
       "    <tr>\n",
       "      <th>421</th>\n",
       "      <td>uNw6t6xk</td>\n",
       "      <td>37.586825</td>\n",
       "      <td>55.794233</td>\n",
       "      <td>-0.002396603119545705</td>\n",
       "      <td>None</td>\n",
       "    </tr>\n",
       "    <tr>\n",
       "      <th>422</th>\n",
       "      <td>Ap42ei8k</td>\n",
       "      <td>37.67879</td>\n",
       "      <td>55.772909999999996</td>\n",
       "      <td>-0.9100186387657532</td>\n",
       "      <td>None</td>\n",
       "    </tr>\n",
       "    <tr>\n",
       "      <th>423</th>\n",
       "      <td>rn9A8r62</td>\n",
       "      <td>37.75213</td>\n",
       "      <td>55.619640000000004</td>\n",
       "      <td>-0.32654733013604836</td>\n",
       "      <td>None</td>\n",
       "    </tr>\n",
       "    <tr>\n",
       "      <th>424</th>\n",
       "      <td>960M6jye</td>\n",
       "      <td>37.70577</td>\n",
       "      <td>55.78295</td>\n",
       "      <td>-1.234169365782256</td>\n",
       "      <td>None</td>\n",
       "    </tr>\n",
       "  </tbody>\n",
       "</table>\n",
       "<p>425 rows × 5 columns</p>\n",
       "</div>"
      ],
      "text/plain": [
       "     point_id                 lon                 lat                 target  \\\n",
       "0    ommNZCUV           37.590776   55.84863000000001   -0.34815737860381524   \n",
       "1    nMe2LHPb  37.784209999999995           55.750271      1.294206304946465   \n",
       "2    ZgodVRqB  39.635721000000004            47.21333    -1.0396789295723543   \n",
       "3    0t2jNYdz  37.704570000000004  55.782019999999996    -1.1693392203789554   \n",
       "4    U27W4QJ7           37.643983           55.730188   -0.08883679699061309   \n",
       "..        ...                 ...                 ...                    ...   \n",
       "420  AA8hN7bJ           37.628765           55.740664    0.21370388155812275   \n",
       "421  uNw6t6xk           37.586825           55.794233  -0.002396603119545705   \n",
       "422  Ap42ei8k            37.67879  55.772909999999996    -0.9100186387657532   \n",
       "423  rn9A8r62            37.75213  55.619640000000004   -0.32654733013604836   \n",
       "424  960M6jye            37.70577            55.78295     -1.234169365782256   \n",
       "\n",
       "    geometry  \n",
       "0       None  \n",
       "1       None  \n",
       "2       None  \n",
       "3       None  \n",
       "4       None  \n",
       "..       ...  \n",
       "420     None  \n",
       "421     None  \n",
       "422     None  \n",
       "423     None  \n",
       "424     None  \n",
       "\n",
       "[425 rows x 5 columns]"
      ]
     },
     "execution_count": 11,
     "metadata": {},
     "output_type": "execute_result"
    }
   ],
   "source": [
    "train"
   ]
  },
  {
   "cell_type": "code",
   "execution_count": 617,
   "metadata": {},
   "outputs": [
    {
     "data": {
      "text/plain": [
       "Москва                             40\n",
       "Санкт-Петербург                    21\n",
       "городской округ Казань              7\n",
       "городской округ Самара              7\n",
       "городской округ Новосибирск         7\n",
       "городской округ Красноярск          5\n",
       "городской округ Нижний Новгород     5\n",
       "городской округ Екатеринбург        5\n",
       "городской округ Уфа                 5\n",
       "городской округ Ростов-на-Дону      5\n",
       "Name: name, dtype: int64"
      ]
     },
     "execution_count": 617,
     "metadata": {},
     "output_type": "execute_result"
    }
   ],
   "source": [
    "ru['name'].value_counts()"
   ]
  },
  {
   "cell_type": "code",
   "execution_count": 373,
   "metadata": {
    "id": "oPjE8ifLQcj5",
    "scrolled": false
   },
   "outputs": [],
   "source": [
    "reg = adlvl4"
   ]
  },
  {
   "cell_type": "code",
   "execution_count": 618,
   "metadata": {},
   "outputs": [],
   "source": [
    "ind = ru['index_right']"
   ]
  },
  {
   "cell_type": "code",
   "execution_count": 619,
   "metadata": {},
   "outputs": [],
   "source": [
    "ru = gpd.sjoin(ru.drop(columns = 'index_right'),reg,op='within')"
   ]
  },
  {
   "cell_type": "code",
   "execution_count": 620,
   "metadata": {
    "id": "0gzxaNOwQctk"
   },
   "outputs": [],
   "source": [
    "ru['index_right'] = ind"
   ]
  },
  {
   "cell_type": "markdown",
   "metadata": {},
   "source": [
    "#### Собрали датасет, определив город и область"
   ]
  },
  {
   "cell_type": "code",
   "execution_count": 621,
   "metadata": {},
   "outputs": [
    {
     "data": {
      "text/html": [
       "<div>\n",
       "<style scoped>\n",
       "    .dataframe tbody tr th:only-of-type {\n",
       "        vertical-align: middle;\n",
       "    }\n",
       "\n",
       "    .dataframe tbody tr th {\n",
       "        vertical-align: top;\n",
       "    }\n",
       "\n",
       "    .dataframe thead th {\n",
       "        text-align: right;\n",
       "    }\n",
       "</style>\n",
       "<table border=\"1\" class=\"dataframe\">\n",
       "  <thead>\n",
       "    <tr style=\"text-align: right;\">\n",
       "      <th></th>\n",
       "      <th>point_id</th>\n",
       "      <th>lon</th>\n",
       "      <th>lat</th>\n",
       "      <th>target</th>\n",
       "      <th>geometry</th>\n",
       "      <th>name_left</th>\n",
       "      <th>index_right</th>\n",
       "      <th>name_right</th>\n",
       "    </tr>\n",
       "  </thead>\n",
       "  <tbody>\n",
       "    <tr>\n",
       "      <th>1</th>\n",
       "      <td>4LJu4GTf</td>\n",
       "      <td>60.580909999999996</td>\n",
       "      <td>56.79586</td>\n",
       "      <td>0.0091</td>\n",
       "      <td>POINT (60.58091 56.79586)</td>\n",
       "      <td>городской округ Екатеринбург</td>\n",
       "      <td>2347</td>\n",
       "      <td>Свердловская область</td>\n",
       "    </tr>\n",
       "    <tr>\n",
       "      <th>11</th>\n",
       "      <td>QquqDdRl</td>\n",
       "      <td>60.630766</td>\n",
       "      <td>56.863482999999995</td>\n",
       "      <td>0.0091</td>\n",
       "      <td>POINT (60.63077 56.86348)</td>\n",
       "      <td>городской округ Екатеринбург</td>\n",
       "      <td>2347</td>\n",
       "      <td>Свердловская область</td>\n",
       "    </tr>\n",
       "    <tr>\n",
       "      <th>40</th>\n",
       "      <td>TWUIwCah</td>\n",
       "      <td>60.58832099999999</td>\n",
       "      <td>56.902156999999995</td>\n",
       "      <td>0.0091</td>\n",
       "      <td>POINT (60.58832 56.90216)</td>\n",
       "      <td>городской округ Екатеринбург</td>\n",
       "      <td>2347</td>\n",
       "      <td>Свердловская область</td>\n",
       "    </tr>\n",
       "    <tr>\n",
       "      <th>46</th>\n",
       "      <td>6PiHBiPm</td>\n",
       "      <td>60.818936</td>\n",
       "      <td>56.759049</td>\n",
       "      <td>0.0091</td>\n",
       "      <td>POINT (60.81894 56.75905)</td>\n",
       "      <td>городской округ Екатеринбург</td>\n",
       "      <td>2347</td>\n",
       "      <td>Свердловская область</td>\n",
       "    </tr>\n",
       "    <tr>\n",
       "      <th>50</th>\n",
       "      <td>kuGZ4yXA</td>\n",
       "      <td>60.608227</td>\n",
       "      <td>56.782652</td>\n",
       "      <td>0.0091</td>\n",
       "      <td>POINT (60.60823 56.78265)</td>\n",
       "      <td>городской округ Екатеринбург</td>\n",
       "      <td>2347</td>\n",
       "      <td>Свердловская область</td>\n",
       "    </tr>\n",
       "  </tbody>\n",
       "</table>\n",
       "</div>"
      ],
      "text/plain": [
       "    point_id                 lon                 lat  target  \\\n",
       "1   4LJu4GTf  60.580909999999996            56.79586  0.0091   \n",
       "11  QquqDdRl           60.630766  56.863482999999995  0.0091   \n",
       "40  TWUIwCah   60.58832099999999  56.902156999999995  0.0091   \n",
       "46  6PiHBiPm           60.818936           56.759049  0.0091   \n",
       "50  kuGZ4yXA           60.608227           56.782652  0.0091   \n",
       "\n",
       "                     geometry                     name_left  index_right  \\\n",
       "1   POINT (60.58091 56.79586)  городской округ Екатеринбург         2347   \n",
       "11  POINT (60.63077 56.86348)  городской округ Екатеринбург         2347   \n",
       "40  POINT (60.58832 56.90216)  городской округ Екатеринбург         2347   \n",
       "46  POINT (60.81894 56.75905)  городской округ Екатеринбург         2347   \n",
       "50  POINT (60.60823 56.78265)  городской округ Екатеринбург         2347   \n",
       "\n",
       "              name_right  \n",
       "1   Свердловская область  \n",
       "11  Свердловская область  \n",
       "40  Свердловская область  \n",
       "46  Свердловская область  \n",
       "50  Свердловская область  "
      ]
     },
     "execution_count": 621,
     "metadata": {},
     "output_type": "execute_result"
    }
   ],
   "source": [
    "ru.head()"
   ]
  },
  {
   "cell_type": "markdown",
   "metadata": {
    "id": "IuzP_tsQRgbU"
   },
   "source": [
    "#### 2"
   ]
  },
  {
   "cell_type": "code",
   "execution_count": 24,
   "metadata": {
    "id": "vO5MMD-4Qcym"
   },
   "outputs": [],
   "source": [
    "import overpass\n",
    "from geopy import distance\n",
    "import pandas"
   ]
  },
  {
   "cell_type": "code",
   "execution_count": 25,
   "metadata": {},
   "outputs": [],
   "source": [
    "api = overpass.API(endpoint=\"https://overpass.kumi.systems/api/interpreter\")"
   ]
  },
  {
   "cell_type": "code",
   "execution_count": 26,
   "metadata": {},
   "outputs": [],
   "source": [
    "amnts = ['index_right','closest_prison', 'closest_railway', 'closest_tram/subway', 'closest_military', 'closest_areo_reg', 'social_facility', 'closest_camp_reg', 'closest_subway']"
   ]
  },
  {
   "cell_type": "code",
   "execution_count": 349,
   "metadata": {},
   "outputs": [
    {
     "data": {
      "text/html": [
       "<div>\n",
       "<style scoped>\n",
       "    .dataframe tbody tr th:only-of-type {\n",
       "        vertical-align: middle;\n",
       "    }\n",
       "\n",
       "    .dataframe tbody tr th {\n",
       "        vertical-align: top;\n",
       "    }\n",
       "\n",
       "    .dataframe thead th {\n",
       "        text-align: right;\n",
       "    }\n",
       "</style>\n",
       "<table border=\"1\" class=\"dataframe\">\n",
       "  <thead>\n",
       "    <tr style=\"text-align: right;\">\n",
       "      <th></th>\n",
       "      <th>closest_prison</th>\n",
       "      <th>closest_railway</th>\n",
       "      <th>closest_tram/subway</th>\n",
       "      <th>closest_military</th>\n",
       "      <th>closest_areo_reg</th>\n",
       "      <th>social_facility</th>\n",
       "      <th>closest_camp_reg</th>\n",
       "      <th>closest_subway</th>\n",
       "    </tr>\n",
       "  </thead>\n",
       "  <tbody>\n",
       "    <tr>\n",
       "      <th>0</th>\n",
       "      <td>[\"amenity\"=\"prison\"]</td>\n",
       "      <td>[\"railway\"=\"station\"]</td>\n",
       "      <td>[\"railway\"=\"tram\"]</td>\n",
       "      <td>[\"landuse\"=\"military\"]</td>\n",
       "      <td>[\"aeroway\"=\"aerodrome\"]</td>\n",
       "      <td>[\"amenity\"=\"social_facility\"]</td>\n",
       "      <td>[\"leisure\"=\"summer_camp\"]</td>\n",
       "      <td>[\"railway\"=\"subway_entrance\"]</td>\n",
       "    </tr>\n",
       "  </tbody>\n",
       "</table>\n",
       "</div>"
      ],
      "text/plain": [
       "         closest_prison        closest_railway closest_tram/subway  \\\n",
       "0  [\"amenity\"=\"prison\"]  [\"railway\"=\"station\"]  [\"railway\"=\"tram\"]   \n",
       "\n",
       "         closest_military         closest_areo_reg  \\\n",
       "0  [\"landuse\"=\"military\"]  [\"aeroway\"=\"aerodrome\"]   \n",
       "\n",
       "                 social_facility           closest_camp_reg  \\\n",
       "0  [\"amenity\"=\"social_facility\"]  [\"leisure\"=\"summer_camp\"]   \n",
       "\n",
       "                  closest_subway  \n",
       "0  [\"railway\"=\"subway_entrance\"]  "
      ]
     },
     "execution_count": 349,
     "metadata": {},
     "output_type": "execute_result"
    }
   ],
   "source": [
    "requests = pd.DataFrame(data = np.zeros((1,8)), columns = amnts[1:])\n",
    "\n",
    "requests.iloc[0,0] = '[\"amenity\"=\"prison\"]'\n",
    "requests.iloc[0,1] = '[\"railway\"=\"station\"]'\n",
    "requests.iloc[0,2] = '[\"railway\"=\"tram\"]'\n",
    "requests.iloc[0,3] = '[\"landuse\"=\"military\"]'\n",
    "requests.iloc[0,4] = '[\"aeroway\"=\"aerodrome\"]'\n",
    "requests.iloc[0,5] = '[\"amenity\"=\"social_facility\"]'\n",
    "requests.iloc[0,6] = '[\"leisure\"=\"summer_camp\"]'\n",
    "requests.iloc[0,7] = '[\"railway\"=\"subway_entrance\"]'\n",
    "\n",
    "requests"
   ]
  },
  {
   "cell_type": "code",
   "execution_count": 622,
   "metadata": {},
   "outputs": [],
   "source": [
    "ru = ru.sort_values('index_right')"
   ]
  },
  {
   "cell_type": "code",
   "execution_count": 433,
   "metadata": {},
   "outputs": [
    {
     "data": {
      "text/html": [
       "<div>\n",
       "<style scoped>\n",
       "    .dataframe tbody tr th:only-of-type {\n",
       "        vertical-align: middle;\n",
       "    }\n",
       "\n",
       "    .dataframe tbody tr th {\n",
       "        vertical-align: top;\n",
       "    }\n",
       "\n",
       "    .dataframe thead th {\n",
       "        text-align: right;\n",
       "    }\n",
       "</style>\n",
       "<table border=\"1\" class=\"dataframe\">\n",
       "  <thead>\n",
       "    <tr style=\"text-align: right;\">\n",
       "      <th></th>\n",
       "      <th>point_id</th>\n",
       "      <th>lon</th>\n",
       "      <th>lat</th>\n",
       "      <th>target</th>\n",
       "      <th>geometry</th>\n",
       "      <th>name_left</th>\n",
       "      <th>index_right</th>\n",
       "      <th>name_right</th>\n",
       "    </tr>\n",
       "  </thead>\n",
       "  <tbody>\n",
       "    <tr>\n",
       "      <th>68</th>\n",
       "      <td>NTjDKBtL</td>\n",
       "      <td>92.865583</td>\n",
       "      <td>56.009935999999996</td>\n",
       "      <td>-0.30493728166828155</td>\n",
       "      <td>POINT (92.86558 56.00994)</td>\n",
       "      <td>городской округ Красноярск</td>\n",
       "      <td>2349</td>\n",
       "      <td>Красноярский край</td>\n",
       "    </tr>\n",
       "    <tr>\n",
       "      <th>24</th>\n",
       "      <td>Fcqb4WDt</td>\n",
       "      <td>92.931228</td>\n",
       "      <td>56.004484</td>\n",
       "      <td>-0.17527699086168047</td>\n",
       "      <td>POINT (92.93123 56.00448)</td>\n",
       "      <td>городской округ Красноярск</td>\n",
       "      <td>2349</td>\n",
       "      <td>Красноярский край</td>\n",
       "    </tr>\n",
       "    <tr>\n",
       "      <th>18</th>\n",
       "      <td>ejjC2aU3</td>\n",
       "      <td>92.974951</td>\n",
       "      <td>56.014022</td>\n",
       "      <td>-0.4345975724748826</td>\n",
       "      <td>POINT (92.97495 56.01402)</td>\n",
       "      <td>городской округ Красноярск</td>\n",
       "      <td>2349</td>\n",
       "      <td>Красноярский край</td>\n",
       "    </tr>\n",
       "    <tr>\n",
       "      <th>5</th>\n",
       "      <td>ci9r9Fr2</td>\n",
       "      <td>92.926002</td>\n",
       "      <td>56.06590799999999</td>\n",
       "      <td>-0.21849708779721416</td>\n",
       "      <td>POINT (92.92600 56.06591)</td>\n",
       "      <td>городской округ Красноярск</td>\n",
       "      <td>2349</td>\n",
       "      <td>Красноярский край</td>\n",
       "    </tr>\n",
       "    <tr>\n",
       "      <th>159</th>\n",
       "      <td>HccXdHMK</td>\n",
       "      <td>92.907574</td>\n",
       "      <td>56.032916</td>\n",
       "      <td>0.17048378462258906</td>\n",
       "      <td>POINT (92.90757 56.03292)</td>\n",
       "      <td>городской округ Красноярск</td>\n",
       "      <td>2349</td>\n",
       "      <td>Красноярский край</td>\n",
       "    </tr>\n",
       "  </tbody>\n",
       "</table>\n",
       "</div>"
      ],
      "text/plain": [
       "     point_id        lon                 lat                target  \\\n",
       "68   NTjDKBtL  92.865583  56.009935999999996  -0.30493728166828155   \n",
       "24   Fcqb4WDt  92.931228           56.004484  -0.17527699086168047   \n",
       "18   ejjC2aU3  92.974951           56.014022   -0.4345975724748826   \n",
       "5    ci9r9Fr2  92.926002   56.06590799999999  -0.21849708779721416   \n",
       "159  HccXdHMK  92.907574           56.032916   0.17048378462258906   \n",
       "\n",
       "                      geometry                   name_left  index_right  \\\n",
       "68   POINT (92.86558 56.00994)  городской округ Красноярск         2349   \n",
       "24   POINT (92.93123 56.00448)  городской округ Красноярск         2349   \n",
       "18   POINT (92.97495 56.01402)  городской округ Красноярск         2349   \n",
       "5    POINT (92.92600 56.06591)  городской округ Красноярск         2349   \n",
       "159  POINT (92.90757 56.03292)  городской округ Красноярск         2349   \n",
       "\n",
       "            name_right  \n",
       "68   Красноярский край  \n",
       "24   Красноярский край  \n",
       "18   Красноярский край  \n",
       "5    Красноярский край  \n",
       "159  Красноярский край  "
      ]
     },
     "execution_count": 433,
     "metadata": {},
     "output_type": "execute_result"
    }
   ],
   "source": [
    "ru.tail()"
   ]
  },
  {
   "cell_type": "markdown",
   "metadata": {},
   "source": [
    "#### Эта функция принимает на вход геодатасет из обьектов, считает расстояние от каждой точки города до каждого из обьектов и выбирает наименьшее для каждой точки"
   ]
  },
  {
   "cell_type": "code",
   "execution_count": 380,
   "metadata": {},
   "outputs": [],
   "source": [
    "def distances(ru, amenities, index):    \n",
    "    dists = np.zeros((ru[ru['index_right'] == index].shape[0], amenities.shape[0]))\n",
    "    d =[]\n",
    "    k = 0\n",
    "    for point in ru[ru['index_right'] == index]['geometry']:\n",
    "        m = 0\n",
    "        for i in amenities['geometry']: \n",
    "            if type(i) == shapely.geometry.linestring.LineString:\n",
    "                amenity = i.coords[0][1],i.coords[0][0]              \n",
    "            else:\n",
    "                 amenity = i.y, i.x\n",
    "            city = point.y, point.x\n",
    "            dists[k,m] = distance.geodesic(city, amenity).km\n",
    "            m += 1\n",
    "        k+=1\n",
    "    k = 0\n",
    "    closest_amenity = np.zeros(dists.shape[0])\n",
    "    for i in np.argmin(dists, axis = 1):\n",
    "        closest_amenity[k] = np.round(dists[k,i], 2)\n",
    "        k+=1\n",
    "    return closest_amenity\n"
   ]
  },
  {
   "cell_type": "markdown",
   "metadata": {},
   "source": [
    "#### Это основная функция дз: для каждого из городов через overpass api делает запрос по всем видам amenities, которые нас интересуют, считает расстояния до обьектов, на выходе получаем датафрейм из фичей для модели. При чем для таких фичей как аэропорты и детские лагеря ищет по областям, для фичей внутри города - по городу"
   ]
  },
  {
   "cell_type": "code",
   "execution_count": 623,
   "metadata": {
    "collapsed": true
   },
   "outputs": [
    {
     "name": "stdout",
     "output_type": "stream",
     "text": [
      "bad response городской округ Самара social_facility\n",
      "bad response Самарская область closest_camp_reg\n",
      "bad response Татарстан closest_camp_reg\n",
      "bad response Ростовская область closest_camp_reg\n",
      "bad response городской округ Ростов-на-Дону closest_subway\n",
      "bad response городской округ Уфа closest_subway\n",
      "bad response городской округ Красноярск closest_subway\n"
     ]
    }
   ],
   "source": [
    "df_dist = pd.DataFrame(data = np.zeros((ru.shape[0],len(amnts))),columns = amnts)\n",
    "c = True\n",
    "idx = 0\n",
    "\n",
    "for feature in amnts[1:]:\n",
    "    \n",
    "    start = 0\n",
    "    step = 0\n",
    "    \n",
    "    for point, geom, name, ind, name_r in ru[['point_id', 'geometry','name_left', 'index_right','name_right']].values:\n",
    "        \n",
    "        if ind == 45 or ind == 64:\n",
    "            lvl = 4\n",
    "        else:\n",
    "            lvl = 6\n",
    "            \n",
    "        if len(re.findall('reg',feature)) != 0:\n",
    "            lvl = 4\n",
    "            if name == 'Москва':\n",
    "                name = 'Московская область'\n",
    "            else:\n",
    "                name = name_r\n",
    "\n",
    "        if ind != idx:\n",
    "            #print(ind, idx)\n",
    "            idx = ind\n",
    "            req = requests[feature][0]\n",
    "            response = api.get(f'area[admin_level={lvl}][\"name\"=\"{name}\"][boundary=administrative]->.arr;(node(area.arr){req};way(area.arr){req};)', verbosity='body geom')\n",
    "            df = gpd.GeoDataFrame.from_features(response)\n",
    "            if df.shape[0] == 0:\n",
    "                #print('bad response', name, feature)\n",
    "                continue\n",
    "            ds = distances(ru, df, ind)\n",
    "            step = len(ds) - 1\n",
    "            if start == df_dist.shape[0]:\n",
    "                continue\n",
    "            df_dist.loc[start:start + step, feature] = ds\n",
    "            if c:\n",
    "                df_dist.iloc[int(start):int(start + step), 0] = int(ind)\n",
    "            start = start + step + 1\n",
    "    c = False        \n",
    "\n",
    "        "
   ]
  },
  {
   "cell_type": "code",
   "execution_count": 416,
   "metadata": {},
   "outputs": [
    {
     "data": {
      "text/plain": [
       "(425, 10)"
      ]
     },
     "execution_count": 416,
     "metadata": {},
     "output_type": "execute_result"
    }
   ],
   "source": [
    "df_dist.shape"
   ]
  },
  {
   "cell_type": "code",
   "execution_count": 624,
   "metadata": {},
   "outputs": [],
   "source": [
    "c = 0\n",
    "for i, j, k in df_dist[['social_facility','closest_camp_reg', 'closest_subway']].values:\n",
    "    #print(k, id,i)\n",
    "    if i == 0.00:\n",
    "        df_dist.iloc[c,6] = -1\n",
    "\n",
    "    if j == 0.00:\n",
    "        df_dist.iloc[c,7] = -1\n",
    "\n",
    "    if k == 0.00:\n",
    "        df_dist.iloc[c,8] = -1\n",
    "\n",
    "    c += 1"
   ]
  },
  {
   "cell_type": "code",
   "execution_count": 32,
   "metadata": {},
   "outputs": [],
   "source": [
    "#df_dist = pd.read_csv('df_dist_correct-1.csv')\n",
    "#df_dist = df_dist.drop(columns='Unnamed: 0')"
   ]
  },
  {
   "cell_type": "markdown",
   "metadata": {},
   "source": [
    "#### Сделаем датафрейм с координатами центров городов (representative_points), чтобы посчитать еще один признак"
   ]
  },
  {
   "cell_type": "code",
   "execution_count": 505,
   "metadata": {},
   "outputs": [],
   "source": [
    "city_centers = gpd.GeoDataFrame(data = np.zeros((10,2)), columns = ['name', 'geometry']) \n",
    "\n",
    "moscow = adlvl4[adlvl4['name'] == 'Москва']['geometry']\n",
    "city_centers.iloc[0, 0] = 'Москва'\n",
    "city_centers.iloc[0, 1] = moscow\n",
    "city_centers.iloc[1, 0] = 'Санкт-Петербург'\n",
    "city_centers.iloc[1, 1] = adlvl4[adlvl4['name'] == 'Санкт-Петербург']['geometry']"
   ]
  },
  {
   "cell_type": "code",
   "execution_count": 72,
   "metadata": {},
   "outputs": [],
   "source": [
    "cities = ru['name_left'].drop_duplicates().values"
   ]
  },
  {
   "cell_type": "code",
   "execution_count": 507,
   "metadata": {},
   "outputs": [],
   "source": [
    "k = 2\n",
    "for name, geom in adlvl6[['name', 'geometry']].values:\n",
    "    if name in cities:\n",
    "        city_centers.iloc[k, 0] = name\n",
    "        city_centers.iloc[k, 1] = geom.representative_point()\n",
    "        k+=1"
   ]
  },
  {
   "cell_type": "code",
   "execution_count": 508,
   "metadata": {},
   "outputs": [
    {
     "data": {
      "text/html": [
       "<div>\n",
       "<style scoped>\n",
       "    .dataframe tbody tr th:only-of-type {\n",
       "        vertical-align: middle;\n",
       "    }\n",
       "\n",
       "    .dataframe tbody tr th {\n",
       "        vertical-align: top;\n",
       "    }\n",
       "\n",
       "    .dataframe thead th {\n",
       "        text-align: right;\n",
       "    }\n",
       "</style>\n",
       "<table border=\"1\" class=\"dataframe\">\n",
       "  <thead>\n",
       "    <tr style=\"text-align: right;\">\n",
       "      <th></th>\n",
       "      <th>name</th>\n",
       "      <th>geometry</th>\n",
       "    </tr>\n",
       "  </thead>\n",
       "  <tbody>\n",
       "    <tr>\n",
       "      <th>0</th>\n",
       "      <td>Москва</td>\n",
       "      <td>(POLYGON ((37.8756653 55.8253424, 37.8760016 5...</td>\n",
       "    </tr>\n",
       "    <tr>\n",
       "      <th>1</th>\n",
       "      <td>Санкт-Петербург</td>\n",
       "      <td>(POLYGON ((30.08271299999999 59.6760822, 30.07...</td>\n",
       "    </tr>\n",
       "    <tr>\n",
       "      <th>2</th>\n",
       "      <td>городской округ Самара</td>\n",
       "      <td>POINT (50.19521712783634 53.32165980000001)</td>\n",
       "    </tr>\n",
       "    <tr>\n",
       "      <th>3</th>\n",
       "      <td>городской округ Новосибирск</td>\n",
       "      <td>POINT (82.96815556020306 54.96556425)</td>\n",
       "    </tr>\n",
       "    <tr>\n",
       "      <th>4</th>\n",
       "      <td>городской округ Нижний Новгород</td>\n",
       "      <td>POINT (43.92919136749244 56.28904080000001)</td>\n",
       "    </tr>\n",
       "    <tr>\n",
       "      <th>5</th>\n",
       "      <td>городской округ Казань</td>\n",
       "      <td>POINT (49.19029447376678 55.76041925000001)</td>\n",
       "    </tr>\n",
       "    <tr>\n",
       "      <th>6</th>\n",
       "      <td>городской округ Ростов-на-Дону</td>\n",
       "      <td>POINT (39.72450056305597 47.26073590000001)</td>\n",
       "    </tr>\n",
       "    <tr>\n",
       "      <th>7</th>\n",
       "      <td>городской округ Уфа</td>\n",
       "      <td>POINT (56.04969715406952 54.76354365)</td>\n",
       "    </tr>\n",
       "    <tr>\n",
       "      <th>8</th>\n",
       "      <td>городской округ Екатеринбург</td>\n",
       "      <td>POINT (60.62026283053082 56.78980290000001)</td>\n",
       "    </tr>\n",
       "    <tr>\n",
       "      <th>9</th>\n",
       "      <td>городской округ Красноярск</td>\n",
       "      <td>POINT (92.87929611372311 56.02290500000001)</td>\n",
       "    </tr>\n",
       "  </tbody>\n",
       "</table>\n",
       "</div>"
      ],
      "text/plain": [
       "                              name  \\\n",
       "0                           Москва   \n",
       "1                  Санкт-Петербург   \n",
       "2           городской округ Самара   \n",
       "3      городской округ Новосибирск   \n",
       "4  городской округ Нижний Новгород   \n",
       "5           городской округ Казань   \n",
       "6   городской округ Ростов-на-Дону   \n",
       "7              городской округ Уфа   \n",
       "8     городской округ Екатеринбург   \n",
       "9       городской округ Красноярск   \n",
       "\n",
       "                                            geometry  \n",
       "0  (POLYGON ((37.8756653 55.8253424, 37.8760016 5...  \n",
       "1  (POLYGON ((30.08271299999999 59.6760822, 30.07...  \n",
       "2        POINT (50.19521712783634 53.32165980000001)  \n",
       "3              POINT (82.96815556020306 54.96556425)  \n",
       "4        POINT (43.92919136749244 56.28904080000001)  \n",
       "5        POINT (49.19029447376678 55.76041925000001)  \n",
       "6        POINT (39.72450056305597 47.26073590000001)  \n",
       "7              POINT (56.04969715406952 54.76354365)  \n",
       "8        POINT (60.62026283053082 56.78980290000001)  \n",
       "9        POINT (92.87929611372311 56.02290500000001)  "
      ]
     },
     "execution_count": 508,
     "metadata": {},
     "output_type": "execute_result"
    }
   ],
   "source": [
    "city_centers"
   ]
  },
  {
   "cell_type": "code",
   "execution_count": 509,
   "metadata": {},
   "outputs": [],
   "source": [
    "msc_centr = adlvl4[adlvl4['name'] == 'Москва']['geometry'].representative_point()\n",
    "spb_centr = adlvl4[adlvl4['name'] == 'Санкт-Петербург']['geometry'].representative_point()"
   ]
  },
  {
   "cell_type": "code",
   "execution_count": 510,
   "metadata": {},
   "outputs": [],
   "source": [
    "city_centers.iloc[0,1] = msc_centr\n",
    "city_centers.iloc[1,1] = spb_centr"
   ]
  },
  {
   "cell_type": "code",
   "execution_count": 511,
   "metadata": {},
   "outputs": [
    {
     "data": {
      "text/html": [
       "<div>\n",
       "<style scoped>\n",
       "    .dataframe tbody tr th:only-of-type {\n",
       "        vertical-align: middle;\n",
       "    }\n",
       "\n",
       "    .dataframe tbody tr th {\n",
       "        vertical-align: top;\n",
       "    }\n",
       "\n",
       "    .dataframe thead th {\n",
       "        text-align: right;\n",
       "    }\n",
       "</style>\n",
       "<table border=\"1\" class=\"dataframe\">\n",
       "  <thead>\n",
       "    <tr style=\"text-align: right;\">\n",
       "      <th></th>\n",
       "      <th>name</th>\n",
       "      <th>geometry</th>\n",
       "    </tr>\n",
       "  </thead>\n",
       "  <tbody>\n",
       "    <tr>\n",
       "      <th>0</th>\n",
       "      <td>Москва</td>\n",
       "      <td>POINT (37.35610017398403 55.54987505)</td>\n",
       "    </tr>\n",
       "    <tr>\n",
       "      <th>1</th>\n",
       "      <td>Санкт-Петербург</td>\n",
       "      <td>POINT (30.07145571557445 59.9406893)</td>\n",
       "    </tr>\n",
       "    <tr>\n",
       "      <th>2</th>\n",
       "      <td>городской округ Самара</td>\n",
       "      <td>POINT (50.19521712783634 53.32165980000001)</td>\n",
       "    </tr>\n",
       "    <tr>\n",
       "      <th>3</th>\n",
       "      <td>городской округ Новосибирск</td>\n",
       "      <td>POINT (82.96815556020306 54.96556425)</td>\n",
       "    </tr>\n",
       "    <tr>\n",
       "      <th>4</th>\n",
       "      <td>городской округ Нижний Новгород</td>\n",
       "      <td>POINT (43.92919136749244 56.28904080000001)</td>\n",
       "    </tr>\n",
       "    <tr>\n",
       "      <th>5</th>\n",
       "      <td>городской округ Казань</td>\n",
       "      <td>POINT (49.19029447376678 55.76041925000001)</td>\n",
       "    </tr>\n",
       "    <tr>\n",
       "      <th>6</th>\n",
       "      <td>городской округ Ростов-на-Дону</td>\n",
       "      <td>POINT (39.72450056305597 47.26073590000001)</td>\n",
       "    </tr>\n",
       "    <tr>\n",
       "      <th>7</th>\n",
       "      <td>городской округ Уфа</td>\n",
       "      <td>POINT (56.04969715406952 54.76354365)</td>\n",
       "    </tr>\n",
       "    <tr>\n",
       "      <th>8</th>\n",
       "      <td>городской округ Екатеринбург</td>\n",
       "      <td>POINT (60.62026283053082 56.78980290000001)</td>\n",
       "    </tr>\n",
       "    <tr>\n",
       "      <th>9</th>\n",
       "      <td>городской округ Красноярск</td>\n",
       "      <td>POINT (92.87929611372311 56.02290500000001)</td>\n",
       "    </tr>\n",
       "  </tbody>\n",
       "</table>\n",
       "</div>"
      ],
      "text/plain": [
       "                              name  \\\n",
       "0                           Москва   \n",
       "1                  Санкт-Петербург   \n",
       "2           городской округ Самара   \n",
       "3      городской округ Новосибирск   \n",
       "4  городской округ Нижний Новгород   \n",
       "5           городской округ Казань   \n",
       "6   городской округ Ростов-на-Дону   \n",
       "7              городской округ Уфа   \n",
       "8     городской округ Екатеринбург   \n",
       "9       городской округ Красноярск   \n",
       "\n",
       "                                      geometry  \n",
       "0        POINT (37.35610017398403 55.54987505)  \n",
       "1         POINT (30.07145571557445 59.9406893)  \n",
       "2  POINT (50.19521712783634 53.32165980000001)  \n",
       "3        POINT (82.96815556020306 54.96556425)  \n",
       "4  POINT (43.92919136749244 56.28904080000001)  \n",
       "5  POINT (49.19029447376678 55.76041925000001)  \n",
       "6  POINT (39.72450056305597 47.26073590000001)  \n",
       "7        POINT (56.04969715406952 54.76354365)  \n",
       "8  POINT (60.62026283053082 56.78980290000001)  \n",
       "9  POINT (92.87929611372311 56.02290500000001)  "
      ]
     },
     "execution_count": 511,
     "metadata": {},
     "output_type": "execute_result"
    }
   ],
   "source": [
    "city_centers"
   ]
  },
  {
   "cell_type": "code",
   "execution_count": 625,
   "metadata": {},
   "outputs": [
    {
     "data": {
      "text/html": [
       "<div>\n",
       "<style scoped>\n",
       "    .dataframe tbody tr th:only-of-type {\n",
       "        vertical-align: middle;\n",
       "    }\n",
       "\n",
       "    .dataframe tbody tr th {\n",
       "        vertical-align: top;\n",
       "    }\n",
       "\n",
       "    .dataframe thead th {\n",
       "        text-align: right;\n",
       "    }\n",
       "</style>\n",
       "<table border=\"1\" class=\"dataframe\">\n",
       "  <thead>\n",
       "    <tr style=\"text-align: right;\">\n",
       "      <th></th>\n",
       "      <th>point_id</th>\n",
       "      <th>lon</th>\n",
       "      <th>lat</th>\n",
       "      <th>target</th>\n",
       "      <th>geometry</th>\n",
       "      <th>name_left</th>\n",
       "      <th>index_right</th>\n",
       "      <th>name_right</th>\n",
       "    </tr>\n",
       "  </thead>\n",
       "  <tbody>\n",
       "    <tr>\n",
       "      <th>106</th>\n",
       "      <td>TQKiIgFt</td>\n",
       "      <td>30.279244</td>\n",
       "      <td>59.94211</td>\n",
       "      <td>0.0091</td>\n",
       "      <td>POINT (30.27924 59.94211)</td>\n",
       "      <td>Санкт-Петербург</td>\n",
       "      <td>45</td>\n",
       "      <td>Санкт-Петербург</td>\n",
       "    </tr>\n",
       "    <tr>\n",
       "      <th>8</th>\n",
       "      <td>yCrOWDXH</td>\n",
       "      <td>30.246976</td>\n",
       "      <td>60.017233</td>\n",
       "      <td>0.0091</td>\n",
       "      <td>POINT (30.24698 60.01723)</td>\n",
       "      <td>Санкт-Петербург</td>\n",
       "      <td>45</td>\n",
       "      <td>Санкт-Петербург</td>\n",
       "    </tr>\n",
       "    <tr>\n",
       "      <th>9</th>\n",
       "      <td>eek3uK7b</td>\n",
       "      <td>30.289977</td>\n",
       "      <td>59.959270999999994</td>\n",
       "      <td>0.0091</td>\n",
       "      <td>POINT (30.28998 59.95927)</td>\n",
       "      <td>Санкт-Петербург</td>\n",
       "      <td>45</td>\n",
       "      <td>Санкт-Петербург</td>\n",
       "    </tr>\n",
       "    <tr>\n",
       "      <th>15</th>\n",
       "      <td>xoC8SVZ6</td>\n",
       "      <td>30.361258000000003</td>\n",
       "      <td>59.943751</td>\n",
       "      <td>0.0091</td>\n",
       "      <td>POINT (30.36126 59.94375)</td>\n",
       "      <td>Санкт-Петербург</td>\n",
       "      <td>45</td>\n",
       "      <td>Санкт-Петербург</td>\n",
       "    </tr>\n",
       "    <tr>\n",
       "      <th>30</th>\n",
       "      <td>jUjQH6FF</td>\n",
       "      <td>30.318441999999997</td>\n",
       "      <td>59.891787</td>\n",
       "      <td>0.0091</td>\n",
       "      <td>POINT (30.31844 59.89179)</td>\n",
       "      <td>Санкт-Петербург</td>\n",
       "      <td>45</td>\n",
       "      <td>Санкт-Петербург</td>\n",
       "    </tr>\n",
       "  </tbody>\n",
       "</table>\n",
       "</div>"
      ],
      "text/plain": [
       "     point_id                 lon                 lat  target  \\\n",
       "106  TQKiIgFt           30.279244            59.94211  0.0091   \n",
       "8    yCrOWDXH           30.246976           60.017233  0.0091   \n",
       "9    eek3uK7b           30.289977  59.959270999999994  0.0091   \n",
       "15   xoC8SVZ6  30.361258000000003           59.943751  0.0091   \n",
       "30   jUjQH6FF  30.318441999999997           59.891787  0.0091   \n",
       "\n",
       "                      geometry        name_left  index_right       name_right  \n",
       "106  POINT (30.27924 59.94211)  Санкт-Петербург           45  Санкт-Петербург  \n",
       "8    POINT (30.24698 60.01723)  Санкт-Петербург           45  Санкт-Петербург  \n",
       "9    POINT (30.28998 59.95927)  Санкт-Петербург           45  Санкт-Петербург  \n",
       "15   POINT (30.36126 59.94375)  Санкт-Петербург           45  Санкт-Петербург  \n",
       "30   POINT (30.31844 59.89179)  Санкт-Петербург           45  Санкт-Петербург  "
      ]
     },
     "execution_count": 625,
     "metadata": {},
     "output_type": "execute_result"
    }
   ],
   "source": [
    "ru.head()"
   ]
  },
  {
   "cell_type": "markdown",
   "metadata": {},
   "source": [
    "#### Считаем расстояние от каждого магазина до центра города"
   ]
  },
  {
   "cell_type": "code",
   "execution_count": 626,
   "metadata": {},
   "outputs": [],
   "source": [
    "dd=[]\n",
    "for geom, name in ru[['geometry','name_left']].values:\n",
    "    cc = city_centers[city_centers['name'] == name]['geometry'].y.values, city_centers[city_centers['name'] == name]['geometry'].x.values\n",
    "    p = geom.y, geom.x\n",
    "    d = np.round(distance.geodesic(p, cc).km,2)\n",
    "    dd.append(d)"
   ]
  },
  {
   "cell_type": "code",
   "execution_count": 627,
   "metadata": {},
   "outputs": [],
   "source": [
    "df_dist.insert(9,column = 'city_center_dist', value = dd)"
   ]
  },
  {
   "cell_type": "code",
   "execution_count": 628,
   "metadata": {
    "scrolled": true
   },
   "outputs": [],
   "source": [
    "df_dist.rename(columns = {'closest_tram/subway':'closest_tram'}, inplace = True)"
   ]
  },
  {
   "cell_type": "code",
   "execution_count": 629,
   "metadata": {},
   "outputs": [
    {
     "data": {
      "text/html": [
       "<div>\n",
       "<style scoped>\n",
       "    .dataframe tbody tr th:only-of-type {\n",
       "        vertical-align: middle;\n",
       "    }\n",
       "\n",
       "    .dataframe tbody tr th {\n",
       "        vertical-align: top;\n",
       "    }\n",
       "\n",
       "    .dataframe thead th {\n",
       "        text-align: right;\n",
       "    }\n",
       "</style>\n",
       "<table border=\"1\" class=\"dataframe\">\n",
       "  <thead>\n",
       "    <tr style=\"text-align: right;\">\n",
       "      <th></th>\n",
       "      <th>index_right</th>\n",
       "      <th>closest_prison</th>\n",
       "      <th>closest_railway</th>\n",
       "      <th>closest_tram</th>\n",
       "      <th>closest_military</th>\n",
       "      <th>closest_areo_reg</th>\n",
       "      <th>social_facility</th>\n",
       "      <th>closest_camp_reg</th>\n",
       "      <th>closest_subway</th>\n",
       "      <th>city_center_dist</th>\n",
       "    </tr>\n",
       "  </thead>\n",
       "  <tbody>\n",
       "    <tr>\n",
       "      <th>0</th>\n",
       "      <td>45.0</td>\n",
       "      <td>5.98</td>\n",
       "      <td>0.25</td>\n",
       "      <td>0.73</td>\n",
       "      <td>0.59</td>\n",
       "      <td>12.70</td>\n",
       "      <td>0.11</td>\n",
       "      <td>8.81</td>\n",
       "      <td>0.08</td>\n",
       "      <td>11.62</td>\n",
       "    </tr>\n",
       "    <tr>\n",
       "      <th>1</th>\n",
       "      <td>45.0</td>\n",
       "      <td>13.01</td>\n",
       "      <td>0.94</td>\n",
       "      <td>0.97</td>\n",
       "      <td>2.67</td>\n",
       "      <td>13.04</td>\n",
       "      <td>2.09</td>\n",
       "      <td>1.83</td>\n",
       "      <td>1.16</td>\n",
       "      <td>12.99</td>\n",
       "    </tr>\n",
       "    <tr>\n",
       "      <th>2</th>\n",
       "      <td>45.0</td>\n",
       "      <td>6.52</td>\n",
       "      <td>0.14</td>\n",
       "      <td>1.07</td>\n",
       "      <td>1.62</td>\n",
       "      <td>14.67</td>\n",
       "      <td>0.54</td>\n",
       "      <td>6.93</td>\n",
       "      <td>0.22</td>\n",
       "      <td>12.39</td>\n",
       "    </tr>\n",
       "    <tr>\n",
       "      <th>3</th>\n",
       "      <td>45.0</td>\n",
       "      <td>2.75</td>\n",
       "      <td>0.08</td>\n",
       "      <td>0.95</td>\n",
       "      <td>0.46</td>\n",
       "      <td>14.19</td>\n",
       "      <td>0.46</td>\n",
       "      <td>9.78</td>\n",
       "      <td>0.13</td>\n",
       "      <td>16.20</td>\n",
       "    </tr>\n",
       "    <tr>\n",
       "      <th>4</th>\n",
       "      <td>45.0</td>\n",
       "      <td>4.57</td>\n",
       "      <td>0.10</td>\n",
       "      <td>0.03</td>\n",
       "      <td>2.47</td>\n",
       "      <td>7.95</td>\n",
       "      <td>0.87</td>\n",
       "      <td>14.59</td>\n",
       "      <td>0.03</td>\n",
       "      <td>14.85</td>\n",
       "    </tr>\n",
       "    <tr>\n",
       "      <th>...</th>\n",
       "      <td>...</td>\n",
       "      <td>...</td>\n",
       "      <td>...</td>\n",
       "      <td>...</td>\n",
       "      <td>...</td>\n",
       "      <td>...</td>\n",
       "      <td>...</td>\n",
       "      <td>...</td>\n",
       "      <td>...</td>\n",
       "      <td>...</td>\n",
       "    </tr>\n",
       "    <tr>\n",
       "      <th>102</th>\n",
       "      <td>2349.0</td>\n",
       "      <td>6.96</td>\n",
       "      <td>4.49</td>\n",
       "      <td>11.66</td>\n",
       "      <td>14.55</td>\n",
       "      <td>1.13</td>\n",
       "      <td>-1.00</td>\n",
       "      <td>-1.00</td>\n",
       "      <td>-1.00</td>\n",
       "      <td>10.84</td>\n",
       "    </tr>\n",
       "    <tr>\n",
       "      <th>103</th>\n",
       "      <td>2349.0</td>\n",
       "      <td>5.29</td>\n",
       "      <td>0.33</td>\n",
       "      <td>0.56</td>\n",
       "      <td>3.10</td>\n",
       "      <td>5.53</td>\n",
       "      <td>-1.00</td>\n",
       "      <td>-1.00</td>\n",
       "      <td>-1.00</td>\n",
       "      <td>5.36</td>\n",
       "    </tr>\n",
       "    <tr>\n",
       "      <th>104</th>\n",
       "      <td>2349.0</td>\n",
       "      <td>9.01</td>\n",
       "      <td>4.14</td>\n",
       "      <td>1.45</td>\n",
       "      <td>7.01</td>\n",
       "      <td>2.80</td>\n",
       "      <td>-1.00</td>\n",
       "      <td>-1.00</td>\n",
       "      <td>-1.00</td>\n",
       "      <td>9.34</td>\n",
       "    </tr>\n",
       "    <tr>\n",
       "      <th>105</th>\n",
       "      <td>2349.0</td>\n",
       "      <td>9.76</td>\n",
       "      <td>3.09</td>\n",
       "      <td>0.06</td>\n",
       "      <td>8.17</td>\n",
       "      <td>6.75</td>\n",
       "      <td>-1.00</td>\n",
       "      <td>-1.00</td>\n",
       "      <td>-1.00</td>\n",
       "      <td>8.52</td>\n",
       "    </tr>\n",
       "    <tr>\n",
       "      <th>106</th>\n",
       "      <td>0.0</td>\n",
       "      <td>4.73</td>\n",
       "      <td>1.25</td>\n",
       "      <td>1.62</td>\n",
       "      <td>2.54</td>\n",
       "      <td>6.82</td>\n",
       "      <td>-1.00</td>\n",
       "      <td>-1.00</td>\n",
       "      <td>-1.00</td>\n",
       "      <td>4.06</td>\n",
       "    </tr>\n",
       "  </tbody>\n",
       "</table>\n",
       "<p>107 rows × 10 columns</p>\n",
       "</div>"
      ],
      "text/plain": [
       "     index_right  closest_prison  closest_railway  closest_tram  \\\n",
       "0           45.0            5.98             0.25          0.73   \n",
       "1           45.0           13.01             0.94          0.97   \n",
       "2           45.0            6.52             0.14          1.07   \n",
       "3           45.0            2.75             0.08          0.95   \n",
       "4           45.0            4.57             0.10          0.03   \n",
       "..           ...             ...              ...           ...   \n",
       "102       2349.0            6.96             4.49         11.66   \n",
       "103       2349.0            5.29             0.33          0.56   \n",
       "104       2349.0            9.01             4.14          1.45   \n",
       "105       2349.0            9.76             3.09          0.06   \n",
       "106          0.0            4.73             1.25          1.62   \n",
       "\n",
       "     closest_military  closest_areo_reg  social_facility  closest_camp_reg  \\\n",
       "0                0.59             12.70             0.11              8.81   \n",
       "1                2.67             13.04             2.09              1.83   \n",
       "2                1.62             14.67             0.54              6.93   \n",
       "3                0.46             14.19             0.46              9.78   \n",
       "4                2.47              7.95             0.87             14.59   \n",
       "..                ...               ...              ...               ...   \n",
       "102             14.55              1.13            -1.00             -1.00   \n",
       "103              3.10              5.53            -1.00             -1.00   \n",
       "104              7.01              2.80            -1.00             -1.00   \n",
       "105              8.17              6.75            -1.00             -1.00   \n",
       "106              2.54              6.82            -1.00             -1.00   \n",
       "\n",
       "     closest_subway  city_center_dist  \n",
       "0              0.08             11.62  \n",
       "1              1.16             12.99  \n",
       "2              0.22             12.39  \n",
       "3              0.13             16.20  \n",
       "4              0.03             14.85  \n",
       "..              ...               ...  \n",
       "102           -1.00             10.84  \n",
       "103           -1.00              5.36  \n",
       "104           -1.00              9.34  \n",
       "105           -1.00              8.52  \n",
       "106           -1.00              4.06  \n",
       "\n",
       "[107 rows x 10 columns]"
      ]
     },
     "execution_count": 629,
     "metadata": {},
     "output_type": "execute_result"
    }
   ],
   "source": [
    "df_dist"
   ]
  },
  {
   "cell_type": "code",
   "execution_count": 635,
   "metadata": {},
   "outputs": [
    {
     "data": {
      "text/html": [
       "<div>\n",
       "<style scoped>\n",
       "    .dataframe tbody tr th:only-of-type {\n",
       "        vertical-align: middle;\n",
       "    }\n",
       "\n",
       "    .dataframe tbody tr th {\n",
       "        vertical-align: top;\n",
       "    }\n",
       "\n",
       "    .dataframe thead th {\n",
       "        text-align: right;\n",
       "    }\n",
       "</style>\n",
       "<table border=\"1\" class=\"dataframe\">\n",
       "  <thead>\n",
       "    <tr style=\"text-align: right;\">\n",
       "      <th></th>\n",
       "      <th>point_id</th>\n",
       "      <th>lon</th>\n",
       "      <th>lat</th>\n",
       "      <th>target</th>\n",
       "      <th>geometry</th>\n",
       "      <th>name_left</th>\n",
       "      <th>index_right</th>\n",
       "      <th>name_right</th>\n",
       "    </tr>\n",
       "  </thead>\n",
       "  <tbody>\n",
       "    <tr>\n",
       "      <th>106</th>\n",
       "      <td>TQKiIgFt</td>\n",
       "      <td>30.279244</td>\n",
       "      <td>59.94211</td>\n",
       "      <td>0.0091</td>\n",
       "      <td>POINT (30.27924 59.94211)</td>\n",
       "      <td>Санкт-Петербург</td>\n",
       "      <td>45</td>\n",
       "      <td>Санкт-Петербург</td>\n",
       "    </tr>\n",
       "    <tr>\n",
       "      <th>8</th>\n",
       "      <td>yCrOWDXH</td>\n",
       "      <td>30.246976</td>\n",
       "      <td>60.017233</td>\n",
       "      <td>0.0091</td>\n",
       "      <td>POINT (30.24698 60.01723)</td>\n",
       "      <td>Санкт-Петербург</td>\n",
       "      <td>45</td>\n",
       "      <td>Санкт-Петербург</td>\n",
       "    </tr>\n",
       "    <tr>\n",
       "      <th>9</th>\n",
       "      <td>eek3uK7b</td>\n",
       "      <td>30.289977</td>\n",
       "      <td>59.959270999999994</td>\n",
       "      <td>0.0091</td>\n",
       "      <td>POINT (30.28998 59.95927)</td>\n",
       "      <td>Санкт-Петербург</td>\n",
       "      <td>45</td>\n",
       "      <td>Санкт-Петербург</td>\n",
       "    </tr>\n",
       "    <tr>\n",
       "      <th>15</th>\n",
       "      <td>xoC8SVZ6</td>\n",
       "      <td>30.361258000000003</td>\n",
       "      <td>59.943751</td>\n",
       "      <td>0.0091</td>\n",
       "      <td>POINT (30.36126 59.94375)</td>\n",
       "      <td>Санкт-Петербург</td>\n",
       "      <td>45</td>\n",
       "      <td>Санкт-Петербург</td>\n",
       "    </tr>\n",
       "    <tr>\n",
       "      <th>30</th>\n",
       "      <td>jUjQH6FF</td>\n",
       "      <td>30.318441999999997</td>\n",
       "      <td>59.891787</td>\n",
       "      <td>0.0091</td>\n",
       "      <td>POINT (30.31844 59.89179)</td>\n",
       "      <td>Санкт-Петербург</td>\n",
       "      <td>45</td>\n",
       "      <td>Санкт-Петербург</td>\n",
       "    </tr>\n",
       "  </tbody>\n",
       "</table>\n",
       "</div>"
      ],
      "text/plain": [
       "     point_id                 lon                 lat  target  \\\n",
       "106  TQKiIgFt           30.279244            59.94211  0.0091   \n",
       "8    yCrOWDXH           30.246976           60.017233  0.0091   \n",
       "9    eek3uK7b           30.289977  59.959270999999994  0.0091   \n",
       "15   xoC8SVZ6  30.361258000000003           59.943751  0.0091   \n",
       "30   jUjQH6FF  30.318441999999997           59.891787  0.0091   \n",
       "\n",
       "                      geometry        name_left  index_right       name_right  \n",
       "106  POINT (30.27924 59.94211)  Санкт-Петербург           45  Санкт-Петербург  \n",
       "8    POINT (30.24698 60.01723)  Санкт-Петербург           45  Санкт-Петербург  \n",
       "9    POINT (30.28998 59.95927)  Санкт-Петербург           45  Санкт-Петербург  \n",
       "15   POINT (30.36126 59.94375)  Санкт-Петербург           45  Санкт-Петербург  \n",
       "30   POINT (30.31844 59.89179)  Санкт-Петербург           45  Санкт-Петербург  "
      ]
     },
     "execution_count": 635,
     "metadata": {},
     "output_type": "execute_result"
    }
   ],
   "source": [
    "ru.head()"
   ]
  },
  {
   "cell_type": "markdown",
   "metadata": {},
   "source": [
    "#### Добавляем фичи в основной датафрейм"
   ]
  },
  {
   "cell_type": "code",
   "execution_count": 630,
   "metadata": {},
   "outputs": [],
   "source": [
    "amnts1 = amnts[1:]"
   ]
  },
  {
   "cell_type": "code",
   "execution_count": 631,
   "metadata": {},
   "outputs": [],
   "source": [
    "amnts1[2] = 'closest_tram'\n",
    "amnts1.append('city_center_dist')"
   ]
  },
  {
   "cell_type": "code",
   "execution_count": 632,
   "metadata": {},
   "outputs": [
    {
     "data": {
      "text/plain": [
       "['closest_prison',\n",
       " 'closest_railway',\n",
       " 'closest_tram',\n",
       " 'closest_military',\n",
       " 'closest_areo_reg',\n",
       " 'social_facility',\n",
       " 'closest_camp_reg',\n",
       " 'closest_subway',\n",
       " 'city_center_dist']"
      ]
     },
     "execution_count": 632,
     "metadata": {},
     "output_type": "execute_result"
    }
   ],
   "source": [
    "amnts1"
   ]
  },
  {
   "cell_type": "code",
   "execution_count": 633,
   "metadata": {},
   "outputs": [],
   "source": [
    "df_dist = df_dist.drop(columns='index_right')"
   ]
  },
  {
   "cell_type": "code",
   "execution_count": 636,
   "metadata": {},
   "outputs": [],
   "source": [
    "for i in range(df_dist.shape[1]):\n",
    "    ru.insert(ru.shape[1], amnts1[i], df_dist[amnts1[i]])"
   ]
  },
  {
   "cell_type": "code",
   "execution_count": 638,
   "metadata": {},
   "outputs": [
    {
     "data": {
      "text/plain": [
       "(107, 9)"
      ]
     },
     "execution_count": 638,
     "metadata": {},
     "output_type": "execute_result"
    }
   ],
   "source": [
    "df_dist.shape"
   ]
  },
  {
   "cell_type": "code",
   "execution_count": 637,
   "metadata": {},
   "outputs": [
    {
     "data": {
      "text/plain": [
       "(107, 17)"
      ]
     },
     "execution_count": 637,
     "metadata": {},
     "output_type": "execute_result"
    }
   ],
   "source": [
    "ru.shape"
   ]
  },
  {
   "cell_type": "markdown",
   "metadata": {},
   "source": [
    "#### В этой функции находим число станций метро в буфферной зоне каждого магазина"
   ]
  },
  {
   "cell_type": "code",
   "execution_count": 639,
   "metadata": {},
   "outputs": [],
   "source": [
    "df_buf = []\n",
    "idx = 0\n",
    "\n",
    "for point, geom, name, ind, name_r in ru[['point_id', 'geometry','name_left', 'index_right','name_right']].values:\n",
    "    \n",
    "    if ind == 45 or ind == 64:\n",
    "        lvl = 4\n",
    "    else:\n",
    "        lvl = 6\n",
    "        \n",
    "    if ind != idx:\n",
    "        #print(ind, idx)\n",
    "        req = requests[feature][0]\n",
    "        response = api.get(f'area[admin_level={lvl}][\"name\"=\"{name}\"][boundary=administrative]->.arr;(node(area.arr)[\"railway\"=\"subway_entrance\"];)', verbosity='body geom')\n",
    "        df = gpd.GeoDataFrame.from_features(response)\n",
    "        if df.shape[0] == 0:\n",
    "            #print('bad response', name)\n",
    "            df_buf.append(0)\n",
    "            continue\n",
    "        idx = ind\n",
    "    count = 0    \n",
    "    for i in df['geometry']:\n",
    "        if geom.buffer(0.04).contains(i):\n",
    "            count += 1\n",
    "    df_buf.append(count) \n",
    "\n",
    " "
   ]
  },
  {
   "cell_type": "code",
   "execution_count": 640,
   "metadata": {},
   "outputs": [
    {
     "data": {
      "text/html": [
       "<div>\n",
       "<style scoped>\n",
       "    .dataframe tbody tr th:only-of-type {\n",
       "        vertical-align: middle;\n",
       "    }\n",
       "\n",
       "    .dataframe tbody tr th {\n",
       "        vertical-align: top;\n",
       "    }\n",
       "\n",
       "    .dataframe thead th {\n",
       "        text-align: right;\n",
       "    }\n",
       "</style>\n",
       "<table border=\"1\" class=\"dataframe\">\n",
       "  <thead>\n",
       "    <tr style=\"text-align: right;\">\n",
       "      <th></th>\n",
       "      <th>point_id</th>\n",
       "      <th>lon</th>\n",
       "      <th>lat</th>\n",
       "      <th>target</th>\n",
       "      <th>geometry</th>\n",
       "      <th>name_left</th>\n",
       "      <th>index_right</th>\n",
       "      <th>name_right</th>\n",
       "      <th>closest_prison</th>\n",
       "      <th>closest_railway</th>\n",
       "      <th>closest_tram</th>\n",
       "      <th>closest_military</th>\n",
       "      <th>closest_areo_reg</th>\n",
       "      <th>social_facility</th>\n",
       "      <th>closest_camp_reg</th>\n",
       "      <th>closest_subway</th>\n",
       "      <th>city_center_dist</th>\n",
       "    </tr>\n",
       "  </thead>\n",
       "  <tbody>\n",
       "    <tr>\n",
       "      <th>106</th>\n",
       "      <td>TQKiIgFt</td>\n",
       "      <td>30.279244</td>\n",
       "      <td>59.94211</td>\n",
       "      <td>0.0091</td>\n",
       "      <td>POINT (30.27924 59.94211)</td>\n",
       "      <td>Санкт-Петербург</td>\n",
       "      <td>45</td>\n",
       "      <td>Санкт-Петербург</td>\n",
       "      <td>4.73</td>\n",
       "      <td>1.25</td>\n",
       "      <td>1.62</td>\n",
       "      <td>2.54</td>\n",
       "      <td>6.82</td>\n",
       "      <td>-1.00</td>\n",
       "      <td>-1.00</td>\n",
       "      <td>-1.00</td>\n",
       "      <td>4.06</td>\n",
       "    </tr>\n",
       "    <tr>\n",
       "      <th>8</th>\n",
       "      <td>yCrOWDXH</td>\n",
       "      <td>30.246976</td>\n",
       "      <td>60.017233</td>\n",
       "      <td>0.0091</td>\n",
       "      <td>POINT (30.24698 60.01723)</td>\n",
       "      <td>Санкт-Петербург</td>\n",
       "      <td>45</td>\n",
       "      <td>Санкт-Петербург</td>\n",
       "      <td>11.72</td>\n",
       "      <td>0.35</td>\n",
       "      <td>0.25</td>\n",
       "      <td>3.19</td>\n",
       "      <td>13.93</td>\n",
       "      <td>2.27</td>\n",
       "      <td>1.84</td>\n",
       "      <td>0.12</td>\n",
       "      <td>12.90</td>\n",
       "    </tr>\n",
       "    <tr>\n",
       "      <th>9</th>\n",
       "      <td>eek3uK7b</td>\n",
       "      <td>30.289977</td>\n",
       "      <td>59.959270999999994</td>\n",
       "      <td>0.0091</td>\n",
       "      <td>POINT (30.28998 59.95927)</td>\n",
       "      <td>Санкт-Петербург</td>\n",
       "      <td>45</td>\n",
       "      <td>Санкт-Петербург</td>\n",
       "      <td>11.44</td>\n",
       "      <td>0.33</td>\n",
       "      <td>0.30</td>\n",
       "      <td>2.56</td>\n",
       "      <td>16.65</td>\n",
       "      <td>0.68</td>\n",
       "      <td>1.91</td>\n",
       "      <td>0.21</td>\n",
       "      <td>15.96</td>\n",
       "    </tr>\n",
       "    <tr>\n",
       "      <th>15</th>\n",
       "      <td>xoC8SVZ6</td>\n",
       "      <td>30.361258000000003</td>\n",
       "      <td>59.943751</td>\n",
       "      <td>0.0091</td>\n",
       "      <td>POINT (30.36126 59.94375)</td>\n",
       "      <td>Санкт-Петербург</td>\n",
       "      <td>45</td>\n",
       "      <td>Санкт-Петербург</td>\n",
       "      <td>9.73</td>\n",
       "      <td>0.68</td>\n",
       "      <td>0.61</td>\n",
       "      <td>1.56</td>\n",
       "      <td>16.26</td>\n",
       "      <td>0.90</td>\n",
       "      <td>2.78</td>\n",
       "      <td>0.46</td>\n",
       "      <td>14.21</td>\n",
       "    </tr>\n",
       "    <tr>\n",
       "      <th>30</th>\n",
       "      <td>jUjQH6FF</td>\n",
       "      <td>30.318441999999997</td>\n",
       "      <td>59.891787</td>\n",
       "      <td>0.0091</td>\n",
       "      <td>POINT (30.31844 59.89179)</td>\n",
       "      <td>Санкт-Петербург</td>\n",
       "      <td>45</td>\n",
       "      <td>Санкт-Петербург</td>\n",
       "      <td>7.65</td>\n",
       "      <td>0.11</td>\n",
       "      <td>6.52</td>\n",
       "      <td>1.85</td>\n",
       "      <td>28.73</td>\n",
       "      <td>0.48</td>\n",
       "      <td>20.55</td>\n",
       "      <td>0.06</td>\n",
       "      <td>22.53</td>\n",
       "    </tr>\n",
       "  </tbody>\n",
       "</table>\n",
       "</div>"
      ],
      "text/plain": [
       "     point_id                 lon                 lat  target  \\\n",
       "106  TQKiIgFt           30.279244            59.94211  0.0091   \n",
       "8    yCrOWDXH           30.246976           60.017233  0.0091   \n",
       "9    eek3uK7b           30.289977  59.959270999999994  0.0091   \n",
       "15   xoC8SVZ6  30.361258000000003           59.943751  0.0091   \n",
       "30   jUjQH6FF  30.318441999999997           59.891787  0.0091   \n",
       "\n",
       "                      geometry        name_left  index_right       name_right  \\\n",
       "106  POINT (30.27924 59.94211)  Санкт-Петербург           45  Санкт-Петербург   \n",
       "8    POINT (30.24698 60.01723)  Санкт-Петербург           45  Санкт-Петербург   \n",
       "9    POINT (30.28998 59.95927)  Санкт-Петербург           45  Санкт-Петербург   \n",
       "15   POINT (30.36126 59.94375)  Санкт-Петербург           45  Санкт-Петербург   \n",
       "30   POINT (30.31844 59.89179)  Санкт-Петербург           45  Санкт-Петербург   \n",
       "\n",
       "     closest_prison  closest_railway  closest_tram  closest_military  \\\n",
       "106            4.73             1.25          1.62              2.54   \n",
       "8             11.72             0.35          0.25              3.19   \n",
       "9             11.44             0.33          0.30              2.56   \n",
       "15             9.73             0.68          0.61              1.56   \n",
       "30             7.65             0.11          6.52              1.85   \n",
       "\n",
       "     closest_areo_reg  social_facility  closest_camp_reg  closest_subway  \\\n",
       "106              6.82            -1.00             -1.00           -1.00   \n",
       "8               13.93             2.27              1.84            0.12   \n",
       "9               16.65             0.68              1.91            0.21   \n",
       "15              16.26             0.90              2.78            0.46   \n",
       "30              28.73             0.48             20.55            0.06   \n",
       "\n",
       "     city_center_dist  \n",
       "106              4.06  \n",
       "8               12.90  \n",
       "9               15.96  \n",
       "15              14.21  \n",
       "30              22.53  "
      ]
     },
     "execution_count": 640,
     "metadata": {},
     "output_type": "execute_result"
    }
   ],
   "source": [
    "ru.head()"
   ]
  },
  {
   "cell_type": "code",
   "execution_count": 560,
   "metadata": {},
   "outputs": [],
   "source": [
    "ru = ru.drop(columns='sub_ents_in_buf')"
   ]
  },
  {
   "cell_type": "code",
   "execution_count": 641,
   "metadata": {},
   "outputs": [],
   "source": [
    "ru.insert(ru.shape[1],'sub_ents_in_buf', df_buf)"
   ]
  },
  {
   "cell_type": "code",
   "execution_count": 648,
   "metadata": {},
   "outputs": [
    {
     "data": {
      "text/html": [
       "<div>\n",
       "<style scoped>\n",
       "    .dataframe tbody tr th:only-of-type {\n",
       "        vertical-align: middle;\n",
       "    }\n",
       "\n",
       "    .dataframe tbody tr th {\n",
       "        vertical-align: top;\n",
       "    }\n",
       "\n",
       "    .dataframe thead th {\n",
       "        text-align: right;\n",
       "    }\n",
       "</style>\n",
       "<table border=\"1\" class=\"dataframe\">\n",
       "  <thead>\n",
       "    <tr style=\"text-align: right;\">\n",
       "      <th></th>\n",
       "      <th>point_id</th>\n",
       "      <th>lon</th>\n",
       "      <th>lat</th>\n",
       "      <th>target</th>\n",
       "      <th>geometry</th>\n",
       "      <th>name_left</th>\n",
       "      <th>index_right</th>\n",
       "      <th>name_right</th>\n",
       "      <th>closest_prison</th>\n",
       "      <th>closest_railway</th>\n",
       "      <th>closest_tram</th>\n",
       "      <th>closest_military</th>\n",
       "      <th>closest_areo_reg</th>\n",
       "      <th>social_facility</th>\n",
       "      <th>closest_camp_reg</th>\n",
       "      <th>closest_subway</th>\n",
       "      <th>city_center_dist</th>\n",
       "      <th>sub_ents_in_buf</th>\n",
       "    </tr>\n",
       "  </thead>\n",
       "  <tbody>\n",
       "    <tr>\n",
       "      <th>106</th>\n",
       "      <td>TQKiIgFt</td>\n",
       "      <td>30.279244</td>\n",
       "      <td>59.94211</td>\n",
       "      <td>0.0091</td>\n",
       "      <td>POINT (30.27924 59.94211)</td>\n",
       "      <td>Санкт-Петербург</td>\n",
       "      <td>45</td>\n",
       "      <td>Санкт-Петербург</td>\n",
       "      <td>4.73</td>\n",
       "      <td>1.25</td>\n",
       "      <td>1.62</td>\n",
       "      <td>2.54</td>\n",
       "      <td>6.82</td>\n",
       "      <td>-1.00</td>\n",
       "      <td>-1.00</td>\n",
       "      <td>-1.00</td>\n",
       "      <td>4.06</td>\n",
       "      <td>14</td>\n",
       "    </tr>\n",
       "    <tr>\n",
       "      <th>8</th>\n",
       "      <td>yCrOWDXH</td>\n",
       "      <td>30.246976</td>\n",
       "      <td>60.017233</td>\n",
       "      <td>0.0091</td>\n",
       "      <td>POINT (30.24698 60.01723)</td>\n",
       "      <td>Санкт-Петербург</td>\n",
       "      <td>45</td>\n",
       "      <td>Санкт-Петербург</td>\n",
       "      <td>11.72</td>\n",
       "      <td>0.35</td>\n",
       "      <td>0.25</td>\n",
       "      <td>3.19</td>\n",
       "      <td>13.93</td>\n",
       "      <td>2.27</td>\n",
       "      <td>1.84</td>\n",
       "      <td>0.12</td>\n",
       "      <td>12.90</td>\n",
       "      <td>3</td>\n",
       "    </tr>\n",
       "    <tr>\n",
       "      <th>9</th>\n",
       "      <td>eek3uK7b</td>\n",
       "      <td>30.289977</td>\n",
       "      <td>59.959270999999994</td>\n",
       "      <td>0.0091</td>\n",
       "      <td>POINT (30.28998 59.95927)</td>\n",
       "      <td>Санкт-Петербург</td>\n",
       "      <td>45</td>\n",
       "      <td>Санкт-Петербург</td>\n",
       "      <td>11.44</td>\n",
       "      <td>0.33</td>\n",
       "      <td>0.30</td>\n",
       "      <td>2.56</td>\n",
       "      <td>16.65</td>\n",
       "      <td>0.68</td>\n",
       "      <td>1.91</td>\n",
       "      <td>0.21</td>\n",
       "      <td>15.96</td>\n",
       "      <td>18</td>\n",
       "    </tr>\n",
       "    <tr>\n",
       "      <th>15</th>\n",
       "      <td>xoC8SVZ6</td>\n",
       "      <td>30.361258000000003</td>\n",
       "      <td>59.943751</td>\n",
       "      <td>0.0091</td>\n",
       "      <td>POINT (30.36126 59.94375)</td>\n",
       "      <td>Санкт-Петербург</td>\n",
       "      <td>45</td>\n",
       "      <td>Санкт-Петербург</td>\n",
       "      <td>9.73</td>\n",
       "      <td>0.68</td>\n",
       "      <td>0.61</td>\n",
       "      <td>1.56</td>\n",
       "      <td>16.26</td>\n",
       "      <td>0.90</td>\n",
       "      <td>2.78</td>\n",
       "      <td>0.46</td>\n",
       "      <td>14.21</td>\n",
       "      <td>27</td>\n",
       "    </tr>\n",
       "    <tr>\n",
       "      <th>30</th>\n",
       "      <td>jUjQH6FF</td>\n",
       "      <td>30.318441999999997</td>\n",
       "      <td>59.891787</td>\n",
       "      <td>0.0091</td>\n",
       "      <td>POINT (30.31844 59.89179)</td>\n",
       "      <td>Санкт-Петербург</td>\n",
       "      <td>45</td>\n",
       "      <td>Санкт-Петербург</td>\n",
       "      <td>7.65</td>\n",
       "      <td>0.11</td>\n",
       "      <td>6.52</td>\n",
       "      <td>1.85</td>\n",
       "      <td>28.73</td>\n",
       "      <td>0.48</td>\n",
       "      <td>20.55</td>\n",
       "      <td>0.06</td>\n",
       "      <td>22.53</td>\n",
       "      <td>14</td>\n",
       "    </tr>\n",
       "  </tbody>\n",
       "</table>\n",
       "</div>"
      ],
      "text/plain": [
       "     point_id                 lon                 lat  target  \\\n",
       "106  TQKiIgFt           30.279244            59.94211  0.0091   \n",
       "8    yCrOWDXH           30.246976           60.017233  0.0091   \n",
       "9    eek3uK7b           30.289977  59.959270999999994  0.0091   \n",
       "15   xoC8SVZ6  30.361258000000003           59.943751  0.0091   \n",
       "30   jUjQH6FF  30.318441999999997           59.891787  0.0091   \n",
       "\n",
       "                      geometry        name_left  index_right       name_right  \\\n",
       "106  POINT (30.27924 59.94211)  Санкт-Петербург           45  Санкт-Петербург   \n",
       "8    POINT (30.24698 60.01723)  Санкт-Петербург           45  Санкт-Петербург   \n",
       "9    POINT (30.28998 59.95927)  Санкт-Петербург           45  Санкт-Петербург   \n",
       "15   POINT (30.36126 59.94375)  Санкт-Петербург           45  Санкт-Петербург   \n",
       "30   POINT (30.31844 59.89179)  Санкт-Петербург           45  Санкт-Петербург   \n",
       "\n",
       "     closest_prison  closest_railway  closest_tram  closest_military  \\\n",
       "106            4.73             1.25          1.62              2.54   \n",
       "8             11.72             0.35          0.25              3.19   \n",
       "9             11.44             0.33          0.30              2.56   \n",
       "15             9.73             0.68          0.61              1.56   \n",
       "30             7.65             0.11          6.52              1.85   \n",
       "\n",
       "     closest_areo_reg  social_facility  closest_camp_reg  closest_subway  \\\n",
       "106              6.82            -1.00             -1.00           -1.00   \n",
       "8               13.93             2.27              1.84            0.12   \n",
       "9               16.65             0.68              1.91            0.21   \n",
       "15              16.26             0.90              2.78            0.46   \n",
       "30              28.73             0.48             20.55            0.06   \n",
       "\n",
       "     city_center_dist  sub_ents_in_buf  \n",
       "106              4.06               14  \n",
       "8               12.90                3  \n",
       "9               15.96               18  \n",
       "15              14.21               27  \n",
       "30              22.53               14  "
      ]
     },
     "execution_count": 648,
     "metadata": {},
     "output_type": "execute_result"
    }
   ],
   "source": [
    "ru.head()"
   ]
  },
  {
   "cell_type": "markdown",
   "metadata": {},
   "source": [
    "### Давайте рисовать"
   ]
  },
  {
   "cell_type": "raw",
   "metadata": {},
   "source": [
    "Сначала хотел Екатеринбург рассмотреть на картах - поменял на Питер, чтоб больше точек было"
   ]
  },
  {
   "cell_type": "code",
   "execution_count": 177,
   "metadata": {},
   "outputs": [],
   "source": [
    "spb_poly = adlvl4[adlvl4['name'] == 'Санкт-Петербург'].iloc[0,1]\n",
    "\n",
    "spb_points = msk_spb[msk_spb['name'] == 'Санкт-Петербург']"
   ]
  },
  {
   "cell_type": "code",
   "execution_count": 179,
   "metadata": {},
   "outputs": [],
   "source": [
    "ekb_points = ru[ru['name_left'] == 'городской округ Екатеринбург']"
   ]
  },
  {
   "cell_type": "code",
   "execution_count": 180,
   "metadata": {},
   "outputs": [],
   "source": [
    "ekb_poly = adlvl6[adlvl6['name'] == 'городской округ Екатеринбург'].iloc[0,1]"
   ]
  },
  {
   "cell_type": "code",
   "execution_count": 127,
   "metadata": {},
   "outputs": [
    {
     "data": {
      "text/plain": [
       "<AxesSubplot:>"
      ]
     },
     "execution_count": 127,
     "metadata": {},
     "output_type": "execute_result"
    },
    {
     "data": {
      "image/png": "[encoded data removed]",
      "text/plain": [
       "<Figure size 432x288 with 1 Axes>"
      ]
     },
     "metadata": {
      "needs_background": "light"
     },
     "output_type": "display_data"
    }
   ],
   "source": [
    "ekb_poly.plot()"
   ]
  },
  {
   "cell_type": "code",
   "execution_count": 124,
   "metadata": {},
   "outputs": [
    {
     "data": {
      "text/plain": [
       "<AxesSubplot:>"
      ]
     },
     "execution_count": 124,
     "metadata": {},
     "output_type": "execute_result"
    },
    {
     "data": {
      "image/png": "[encoded data removed]",
      "text/plain": [
       "<Figure size 432x288 with 1 Axes>"
      ]
     },
     "metadata": {
      "needs_background": "light"
     },
     "output_type": "display_data"
    }
   ],
   "source": [
    "ekb_points.plot()"
   ]
  },
  {
   "cell_type": "code",
   "execution_count": 143,
   "metadata": {},
   "outputs": [
    {
     "data": {
      "image/svg+xml": [
       "<svg xmlns=\"http://www.w3.org/2000/svg\" xmlns:xlink=\"http://www.w3.org/1999/xlink\" width=\"100.0\" height=\"100.0\" viewBox=\"59.969916916 56.559403716 1.0107958680000024 0.4604999680000006\" preserveAspectRatio=\"xMinYMin meet\"><g transform=\"matrix(1,0,0,-1,0,113.5793074)\"><g><path fill-rule=\"evenodd\" fill=\"#66cc99\" stroke=\"#555555\" stroke-width=\"0.020215917360000047\" opacity=\"0.6\" d=\"M 60.9432759,56.8402956 L 60.905506700000004,56.844456599999994 L 60.7721494,56.857931199999996 L 60.773985100000004,56.8597542 L 60.7843202,56.8614921 L 60.79156330000001,56.8615361 L 60.791340100000006,56.865813200000005 L 60.788827399999995,56.8667612 L 60.7852241,56.8676652 L 60.780659,56.86817010000001 L 60.776447399999995,56.8695665 L 60.772828600000004,56.8692563 L 60.76955950000001,56.87066339999999 L 60.764817900000004,56.871364899999996 L 60.759895,56.87192339999999 L 60.7572787,56.872187 L 60.7525843,56.873555200000006 L 60.750313000000006,56.873660099999995 L 60.7472167,56.8735786 L 60.74275560000001,56.873281999999996 L 60.7443801,56.8805057 L 60.74273850000001,56.880816599999996 L 60.7458419,56.889401899999996 L 60.731241,56.891150700000004 L 60.72332310000001,56.891995200000004 L 60.7240516,56.9000147 L 60.7347895,56.9035524 L 60.735063100000005,56.90446659999999 L 60.730901300000006,56.9047748 L 60.7314442,56.9061825 L 60.73560590000001,56.905914800000005 L 60.73887880000001,56.915215100000005 L 60.7416195,56.923453300000006 L 60.739602000000005,56.929920700000004 L 60.737610700000005,56.9307936 L 60.7358855,56.930543 L 60.727850700000005,56.93311270000001 L 60.72228290000001,56.9348003 L 60.720834,56.9371765 L 60.720628600000005,56.93807580000001 L 60.7158849,56.947496799999996 L 60.73327830000001,56.9520733 L 60.73520070000001,56.953338 L 60.7344683,56.953920399999994 L 60.731203300000004,56.953138300000006 L 60.72980390000001,56.95429639999999 L 60.7336475,56.9559155 L 60.7372084,56.9582368 L 60.73935730000001,56.958398800000005 L 60.7552317,56.95666779999999 L 60.758187,56.956073999999994 L 60.7612871,56.95544099999999 L 60.76354870000001,56.954945499999994 L 60.76399930000001,56.95760469999999 L 60.767068900000005,56.95856 L 60.76800120000001,56.9621671 L 60.76477500000001,56.961932000000004 L 60.763296600000004,56.9604948 L 60.7565911,56.9612967 L 60.7580979,56.965408100000005 L 60.75507530000001,56.9657214 L 60.75873550000001,56.9755346 L 60.751665499999994,56.976350100000005 L 60.74995800000001,56.9765436 L 60.744558100000006,56.9751634 L 60.7445801,56.97465439999999 L 60.7501194,56.97555930000001 L 60.747844699999995,56.969916700000006 L 60.741815800000005,56.9706058 L 60.7403734,56.9679686 L 60.733759000000006,56.9695806 L 60.7342075,56.9723254 L 60.73601420000001,56.9742959 L 60.7366949,56.9765217 L 60.72507770000001,56.9770583 L 60.725403400000005,56.9790291 L 60.69112260000001,56.9824668 L 60.68851230000001,56.973970900000005 L 60.669523500000004,56.975855200000005 L 60.670641399999994,56.968562000000006 L 60.6702019,56.96570560000001 L 60.6706076,56.9640653 L 60.6700265,56.96244 L 60.6700212,56.9619361 L 60.6701816,56.96139530000001 L 60.6708693,56.960386 L 60.6716348,56.9593012 L 60.671536,56.958494099999996 L 60.6709911,56.95783779999999 L 60.66950220000001,56.95774469999999 L 60.66901800000001,56.95756649999999 L 60.6682697,56.9571493 L 60.6672608,56.95722719999999 L 60.66503390000001,56.957342 L 60.6641825,56.9553407 L 60.66314830000001,56.95492439999999 L 60.66281530000001,56.95392749999999 L 60.66451860000001,56.953620199999996 L 60.66651070000001,56.9535256 L 60.666589,56.9534157 L 60.6612504,56.9482906 L 60.6570092,56.943797599999996 L 60.65633220000001,56.94333290000001 L 60.6464456,56.943891799999996 L 60.642705600000006,56.943876599999996 L 60.640445,56.943965 L 60.630120600000005,56.9441786 L 60.62310610000001,56.9439831 L 60.620740000000005,56.943311300000005 L 60.616840499999995,56.9427916 L 60.612926900000005,56.9429115 L 60.6108233,56.9421291 L 60.6069985,56.9411902 L 60.6033415,56.9416703 L 60.60088449999999,56.942140800000004 L 60.59849630000001,56.9424592 L 60.597039300000006,56.942730700000006 L 60.5948356,56.9432504 L 60.5893017,56.9434763 L 60.5871237,56.9433452 L 60.583394399999996,56.9431861 L 60.576784399999994,56.942813300000005 L 60.5569317,56.941442599999995 L 60.5545542,56.9413068 L 60.5522218,56.94120439999999 L 60.5470161,56.9408919 L 60.53953920000001,56.9404319 L 60.53555560000001,56.9401094 L 60.525200100000006,56.9386397 L 60.5159637,56.9371045 L 60.51291210000001,56.9385046 L 60.512832700000004,56.9396828 L 60.5114186,56.9397436 L 60.504150100000004,56.93467759999999 L 60.4968041,56.9332657 L 60.4870409,56.93142699999999 L 60.4809168,56.929602800000005 L 60.4727747,56.9257873 L 60.4725815,56.92554990000001 L 60.4680636,56.919843199999995 L 60.467384499999994,56.915587499999994 L 60.4433036,56.9173989 L 60.440897099999994,56.91749169999999 L 60.41197699999999,56.9197823 L 60.4109784,56.9209924 L 60.4090977,56.921250300000004 L 60.4084534,56.9217015 L 60.4082238,56.922499900000005 L 60.407727099999995,56.9228214 L 60.405651,56.9226024 L 60.4050765,56.9232778 L 60.4050647,56.924455900000005 L 60.4032376,56.92536690000001 L 60.4031078,56.9268506 L 60.371877299999994,56.931906399999995 L 60.3744528,56.9404482 L 60.355754,56.942511800000005 L 60.3608363,56.9615697 L 60.3264911,56.9646409 L 60.3171087,56.9275945 L 60.3166367,56.926102500000006 L 60.31182119999999,56.907370300000004 L 60.2794265,56.910005999999996 L 60.275098400000005,56.8950073 L 60.2743045,56.892124200000005 L 60.27299560000001,56.8865331 L 60.27091420000001,56.88463399999999 L 60.2702145,56.883774599999995 L 60.269261900000004,56.881527299999995 L 60.2666655,56.872838900000005 L 60.26303920000001,56.863092900000005 L 60.261419200000006,56.85864779999999 L 60.26070030000001,56.856159999999996 L 60.26070560000001,56.854866999999985 L 60.2604476,56.8540229 L 60.261202600000004,56.8541312 L 60.26566230000001,56.854786299999994 L 60.26603830000001,56.85429419999999 L 60.266031100000006,56.853741899999996 L 60.2700541,56.848717 L 60.270559500000005,56.848295900000004 L 60.27071880000001,56.8480542 L 60.270812400000004,56.84789859999999 L 60.271010000000004,56.847637799999994 L 60.27317690000001,56.8479139 L 60.27351110000001,56.8479427 L 60.274123200000005,56.84797999999999 L 60.27483230000001,56.847964299999994 L 60.2754613,56.847828699999994 L 60.276454,56.8475782 L 60.27703270000001,56.84742909999999 L 60.277552500000006,56.847332 L 60.278115600000014,56.847235399999995 L 60.2790624,56.8471543 L 60.2802479,56.8470502 L 60.2812967,56.8469161 L 60.282610600000005,56.8467173 L 60.283717100000004,56.8465375 L 60.2845496,56.8463933 L 60.28536690000001,56.846132700000005 L 60.2862597,56.84577590000001 L 60.287223499999996,56.8454755 L 60.288295600000005,56.8452097 L 60.289308000000005,56.84494399999999 L 60.29019950000001,56.8447173 L 60.290787800000004,56.844619699999996 L 60.29151380000001,56.8445622 L 60.29243850000001,56.844571099999996 L 60.293517400000006,56.8444928 L 60.294486,56.84440479999999 L 60.295155600000015,56.844363699999995 L 60.29565360000001,56.844389699999994 L 60.296263100000004,56.844470699999995 L 60.29921520000001,56.845001599999996 L 60.3002361,56.845172700000006 L 60.300927699999995,56.845242 L 60.3015712,56.8452524 L 60.302123200000004,56.84521290000001 L 60.302586,56.8451517 L 60.3036338,56.8449622 L 60.30464779999999,56.84484839999999 L 60.3060543,56.84479139999999 L 60.3087882,56.8447262 L 60.3096422,56.8447166 L 60.3104789,56.844656699999994 L 60.3113356,56.84454139999999 L 60.31208899999999,56.84442169999999 L 60.312930300000005,56.84436749999999 L 60.3145737,56.8443556 L 60.315212200000005,56.8443213 L 60.3155791,56.844234199999995 L 60.315936300000004,56.84405159999999 L 60.3161168,56.8438963 L 60.3169483,56.842938100000005 L 60.31722799999999,56.8424953 L 60.3173797,56.8422341 L 60.31758639999999,56.8419739 L 60.317924899999994,56.841759499999995 L 60.3183335,56.8415402 L 60.318669199999995,56.841299899999996 L 60.3191137,56.8409025 L 60.319492999999994,56.8406203 L 60.3197399,56.8404126 L 60.31986009999999,56.84026169999999 L 60.3199639,56.8395692 L 60.320076300000004,56.8393924 L 60.3202883,56.8391986 L 60.32057390000001,56.838986399999996 L 60.3207372,56.8388515 L 60.3213999,56.8382762 L 60.32184759999999,56.8381078 L 60.32337290000001,56.8378513 L 60.3243433,56.8375433 L 60.3249526,56.8370422 L 60.32561210000001,56.8359436 L 60.32575530000001,56.8356196 L 60.32597020000001,56.8354115 L 60.326435100000005,56.8352212 L 60.326937900000004,56.835128600000004 L 60.3282542,56.8351242 L 60.3293863,56.83519530000001 L 60.330358600000004,56.83521330000001 L 60.331013399999996,56.835123200000005 L 60.3303566,56.833093 L 60.3305961,56.8330883 L 60.3304681,56.832620999999996 L 60.3300986,56.8322428 L 60.3300338,56.832029399999996 L 60.326905800000006,56.8217205 L 60.3254007,56.8171689 L 60.32291030000001,56.809636399999995 L 60.319843899999995,56.8003954 L 60.31666659999999,56.7912018 L 60.3137139,56.7815736 L 60.310732900000005,56.7720296 L 60.2948635,56.7734346 L 60.19212000000001,56.7829974 L 60.19213610000001,56.78293200000001 L 60.192181700000006,56.782889399999995 L 60.1920475,56.78277330000001 L 60.1919054,56.782763 L 60.191827599999996,56.78279680000001 L 60.19177930000001,56.782774800000006 L 60.191790100000006,56.78270130000001 L 60.191731000000004,56.78263230000001 L 60.1916425,56.78261320000001 L 60.1916264,56.78255880000001 L 60.19153790000001,56.78255880000001 L 60.19135550000001,56.782541200000004 L 60.1913314,56.78251180000001 L 60.191508400000004,56.78245890000001 L 60.19151110000001,56.7824177 L 60.191425300000006,56.782376600000006 L 60.1912831,56.78241190000001 L 60.1912402,56.78235600000001 L 60.191234800000004,56.78212830000001 L 60.19099880000001,56.782122400000006 L 60.1909854,56.78203280000001 L 60.190862,56.7819813 L 60.190735900000014,56.7819549 L 60.1907574,56.7818652 L 60.19069030000001,56.781859399999995 L 60.19059380000001,56.781910800000006 L 60.1904624,56.7818608 L 60.190414100000005,56.7817624 L 60.190341700000005,56.7817007 L 60.190245100000006,56.7817095 L 60.190226300000006,56.781637499999995 L 60.190043900000006,56.7816566 L 60.1899661,56.781525800000004 L 60.189786399999996,56.78147 L 60.1897972,56.78142 L 60.189585300000005,56.7813936 L 60.1895316,56.781353900000006 L 60.1896228,56.7812554 L 60.1895638,56.7812011 L 60.1893841,56.7812099 L 60.189319700000006,56.781083499999994 L 60.189244599999995,56.781145200000005 L 60.18915880000001,56.7811261 L 60.1892232,56.781024699999996 L 60.18911320000001,56.780999800000004 L 60.189056900000004,56.7809145 L 60.188901300000005,56.780933600000004 L 60.18881280000001,56.78091890000001 L 60.18871090000001,56.7809219 L 60.1886224,56.7809601 L 60.1883971,56.780855800000005 L 60.188340700000005,56.7808249 L 60.18836220000001,56.7807794 L 60.18830590000001,56.780725000000004 L 60.1884024,56.7806486 L 60.188528500000004,56.780538400000005 L 60.1884775,56.780500200000006 L 60.18834880000001,56.780545700000005 L 60.1882737,56.7805237 L 60.1882603,56.7804943 L 60.18837290000001,56.780414900000004 L 60.1882978,56.7803664 L 60.1881744,56.7804135 L 60.1879947,56.7804252 L 60.188059100000004,56.780316500000005 L 60.1879572,56.780245900000004 L 60.18799739999999,56.78021210000001 L 60.187992,56.780185700000004 L 60.187941099999996,56.780168100000004 L 60.1877962,56.7802019 L 60.18776139999999,56.7801254 L 60.1877801,56.7800667 L 60.1876943,56.7800446 L 60.1877131,56.77997560000001 L 60.187570900000004,56.77991240000001 L 60.1874932,56.7799094 L 60.1874368,56.7798639 L 60.1874797,56.779833 L 60.187439499999996,56.77975810000001 L 60.1875146,56.77971690000001 L 60.1873456,56.779724300000005 L 60.1872518,56.77972280000001 L 60.187192700000004,56.77970520000001 L 60.1872115,56.779656700000004 L 60.1870586,56.7796949 L 60.18702639999999,56.7797478 L 60.1869755,56.779761 L 60.1868226,56.779724300000005 L 60.1866992,56.779761 L 60.186624099999996,56.77975810000001 L 60.1865892,56.7798036 L 60.1865544,56.7798213 L 60.1864256,56.779808 L 60.186439,56.779761 L 60.186353200000006,56.77972870000001 L 60.1862111,56.7797478 L 60.1860448,56.77973020000001 L 60.1860099,56.7796831 L 60.1860501,56.779656700000004 L 60.1860233,56.7795994 L 60.185993800000006,56.7795854 L 60.1859965,56.77953690000001 L 60.185902600000006,56.779534000000005 L 60.185902600000006,56.7795854 L 60.1858007,56.7796031 L 60.1857604,56.779586900000005 L 60.1857819,56.7795046 L 60.1856827,56.7794899 L 60.1856397,56.7794341 L 60.185771200000005,56.779360600000004 L 60.1857846,56.7792856 L 60.1856505,56.7791945 L 60.185629,56.7791446 L 60.185562000000004,56.77911810000001 L 60.1854547,56.77913430000001 L 60.1853849,56.77912690000001 L 60.1853715,56.7790887 L 60.18543590000001,56.779057900000005 L 60.1854064,56.7790241 L 60.1853474,56.77899910000001 L 60.185224,56.77901230000001 L 60.1851811,56.778977100000006 L 60.185256200000005,56.77891240000001 L 60.1852937,56.77881980000001 L 60.1852347,56.7786494 L 60.1848968,56.778409800000006 L 60.1848324,56.77827610000001 L 60.184907499999994,56.778187900000006 L 60.1848163,56.77816000000001 L 60.1848083,56.7780277 L 60.1847573,56.777993900000006 L 60.1847385,56.777966 L 60.1846339,56.777958700000006 L 60.1846232,56.77793520000001 L 60.1846688,56.7779072 L 60.1846366,56.777861699999995 L 60.1846339,56.7778176 L 60.1846098,56.7777911 L 60.184582999999996,56.7777867 L 60.184518600000004,56.7777941 L 60.18449439999999,56.777785300000005 L 60.18451590000001,56.7777647 L 60.1845749,56.7777632 L 60.184628599999996,56.77773530000001 L 60.1846366,56.77771030000001 L 60.184601699999995,56.7776912 L 60.184537399999996,56.777703 L 60.184473,56.7776927 L 60.1844354,56.777675 L 60.1844542,56.777628 L 60.1844623,56.7775839 L 60.184513200000005,56.77757510000001 L 60.184572200000005,56.777606 L 60.184601699999995,56.7775854 L 60.1845856,56.777550100000006 L 60.1845239,56.777556000000004 L 60.184483699999994,56.7775545 L 60.1844032,56.777509 L 60.1844569,56.7774796 L 60.184513200000005,56.777442900000004 L 60.184505200000004,56.77737530000001 L 60.1845535,56.777354700000004 L 60.1845481,56.77731790000001 L 60.1845079,56.77731790000001 L 60.1844596,56.777337100000004 L 60.1844006,56.77733560000001 L 60.1843925,56.7773077 L 60.1844113,56.777273900000004 L 60.18448099999999,56.777238600000004 L 60.1843657,56.777168100000004 L 60.1843094,56.7771666 L 60.1842986,56.777137200000006 L 60.1843737,56.7771004 L 60.1843496,56.777038700000006 L 60.1844086,56.7769564 L 60.1844328,56.776950600000006 L 60.184387199999996,56.7768918 L 60.1843469,56.77688739999999 L 60.1843147,56.7768638 L 60.1843442,56.7768256 L 60.1844381,56.7768256 L 60.1844381,56.776808 L 60.184341599999996,56.776774200000006 L 60.1842852,56.7767345 L 60.1842799,56.7766801 L 60.18438449999999,56.7766419 L 60.184387199999996,56.776622800000005 L 60.184287899999994,56.77659930000001 L 60.1842343,56.77653610000001 L 60.1842772,56.7764685 L 60.18435230000001,56.776445 L 60.1843013,56.77635540000001 L 60.1843281,56.77631860000001 L 60.18438449999999,56.77630830000001 L 60.1843925,56.7762775 L 60.1843737,56.776255400000004 L 60.1843684,56.7761864 L 60.184505200000004,56.7760894 L 60.184666099999994,56.7760115 L 60.184628599999996,56.77596890000001 L 60.1846232,56.7758675 L 60.1845856,56.775857200000004 L 60.1845213,56.77585570000001 L 60.1844354,56.7758072 L 60.1845025,56.775773400000006 L 60.184491799999996,56.77575720000001 L 60.1844301,56.775744 L 60.184282499999995,56.775744 L 60.184245,56.77572490000001 L 60.18424769999999,56.7756691 L 60.1841833,56.77563670000001 L 60.1841511,56.77558820000001 L 60.1840787,56.77555300000001 L 60.183990200000004,56.775495600000006 L 60.1840009,56.7754677 L 60.1840492,56.77541630000001 L 60.1840438,56.77539130000001 L 60.1840572,56.77536630000001 L 60.183925800000004,56.77527370000001 L 60.18398749999999,56.77521200000001 L 60.183958000000004,56.7751664 L 60.18368439999999,56.77495330000001 L 60.1836656,56.774913700000006 L 60.182771,56.7748304 L 60.182092700000005,56.7742724 L 60.180951300000004,56.7738817 L 60.179793000000004,56.773058500000005 L 60.1797454,56.77260030000001 L 60.1802965,56.77251080000001 L 60.17999030000001,56.772097 L 60.17843310000001,56.771668399999996 L 60.1778741,56.7716598 L 60.177464799999996,56.77152230000001 L 60.1776467,56.7717918 L 60.1773517,56.771897599999996 L 60.177614,56.772361200000006 L 60.17671730000001,56.7725694 L 60.175824399999996,56.772597000000005 L 60.17553040000001,56.7724614 L 60.17523810000001,56.77221890000001 L 60.17530620000001,56.772037600000004 L 60.17505070000001,56.7718733 L 60.173823399999996,56.7719821 L 60.1726395,56.772191600000006 L 60.1722097,56.77234610000001 L 60.1720094,56.77277920000001 L 60.172602000000005,56.7730867 L 60.173012400000005,56.7730649 L 60.1732935,56.77293650000001 L 60.1734994,56.77295820000001 L 60.17371190000001,56.774056 L 60.1732293,56.7743285 L 60.17257300000001,56.7746478 L 60.1720564,56.774573100000005 L 60.1716305,56.77433680000001 L 60.1715608,56.774030800000006 L 60.1706622,56.774378600000006 L 60.170009,56.7743954 L 60.1692334,56.77413260000001 L 60.16817200000001,56.77330490000001 L 60.167835200000006,56.773388800000006 L 60.16792280000001,56.773734600000004 L 60.167835200000006,56.7738697 L 60.167380800000004,56.7740596 L 60.166808200000006,56.77419230000001 L 60.16552790000001,56.77495590000001 L 60.164532400000006,56.77553490000001 L 60.164630900000006,56.776020800000005 L 60.1638585,56.7760071 L 60.1637837,56.776416700000006 L 60.164929900000004,56.776990100000006 L 60.1656842,56.7779273 L 60.165802000000006,56.77899680000001 L 60.1660054,56.779781 L 60.16550300000001,56.78051210000001 L 60.164272100000005,56.780939800000006 L 60.16233680000001,56.7804104 L 60.1612672,56.7805394 L 60.161217300000004,56.7809216 L 60.16081870000001,56.78111270000001 L 60.16017080000001,56.78071680000001 L 60.1593735,56.7807714 L 60.16037020000001,56.7818088 L 60.1588679,56.7816557 L 60.159570900000006,56.78265530000001 L 60.15873190000001,56.783325700000006 L 60.157853599999996,56.783583300000004 L 60.15760439999999,56.7844705 L 60.158675800000005,56.785439600000004 L 60.158675800000005,56.78591730000001 L 60.158626,56.7870228 L 60.1598201,56.78849890000001 L 60.158750600000005,56.789260999999996 L 60.1589035,56.79009580000001 L 60.15708119999999,56.79113060000001 L 60.1556859,56.790707600000005 L 60.15461439999999,56.7909805 L 60.1545706,56.79151960000001 L 60.154207899999996,56.7918404 L 60.1541757,56.792224700000006 L 60.1568908,56.79352120000001 L 60.157728999999996,56.79405090000001 L 60.1574051,56.795087900000006 L 60.1565669,56.79559400000001 L 60.1571808,56.795879400000004 L 60.15708119999999,56.79639790000001 L 60.1564832,56.79654790000001 L 60.155959900000006,56.796943600000006 L 60.1566327,56.797216500000005 L 60.1564505,56.79796230000001 L 60.155642,56.797930400000006 L 60.1543653,56.79828080000001 L 60.1518959,56.800191 L 60.154268699999996,56.80147049999999 L 60.1534683,56.8022373 L 60.151674299999996,56.8020736 L 60.1504285,56.80163709999999 L 60.1492887,56.801761299999995 L 60.1496481,56.8021285 L 60.15348049999999,56.8032751 L 60.153683199999996,56.8039542 L 60.1536569,56.80476159999999 L 60.1523886,56.804612999999996 L 60.1514002,56.805361399999995 L 60.149008200000004,56.8057979 L 60.1471395,56.805647799999996 L 60.1468463,56.8065072 L 60.1450495,56.80744749999999 L 60.1445575,56.807905399999996 L 60.14515270000001,56.80866939999999 L 60.14544,56.809051399999994 L 60.146219900000006,56.8095233 L 60.1457479,56.8099839 L 60.1458505,56.81026479999999 L 60.14535790000001,56.8103659 L 60.1454207,56.81067839999999 L 60.1445165,56.81118599999999 L 60.1433672,56.811332 L 60.1430941,56.81167719999999 L 60.143623999999996,56.8123411 L 60.143059300000004,56.81274749999999 L 60.142120000000006,56.8129222 L 60.139813800000006,56.812592300000006 L 60.13899870000001,56.8125863 L 60.1375315,56.8129827 L 60.1319885,56.8114353 L 60.131629,56.811127199999994 L 60.131494399999994,56.81076749999999 L 60.1312766,56.810748999999994 L 60.13095630000001,56.81046439999999 L 60.129937600000005,56.810082699999995 L 60.12841250000001,56.8101024 L 60.1272651,56.8105602 L 60.127377700000004,56.8106383 L 60.1284034,56.8101899 L 60.12972680000001,56.810157 L 60.1302606,56.8103097 L 60.130552400000006,56.810540499999995 L 60.1317514,56.811479299999995 L 60.13857540000001,56.813562999999995 L 60.13815490000001,56.813725 L 60.1310985,56.81168929999999 L 60.1304231,56.811546299999996 L 60.12983520000001,56.811250799999996 L 60.129465,56.81128309999999 L 60.129068600000004,56.8111581 L 60.128955200000014,56.8109257 L 60.12875480000001,56.810894899999994 L 60.12907990000001,56.81128519999999 L 60.1384871,56.81407399999999 L 60.1383474,56.814230099999996 L 60.134176100000005,56.81300449999999 L 60.129341700000005,56.811565599999994 L 60.12877790000001,56.81146989999999 L 60.128407200000005,56.81130399999999 L 60.1280875,56.8113527 L 60.134002800000005,56.8132385 L 60.1347498,56.81364939999999 L 60.1343477,56.813788499999994 L 60.133491,56.813458999999995 L 60.1328419,56.813420799999996 L 60.13191230000001,56.813129599999996 L 60.1313801,56.813072 L 60.1306767,56.8131334 L 60.13011500000001,56.8130622 L 60.1278831,56.8126384 L 60.124536000000006,56.8129917 L 60.1232691,56.813657199999994 L 60.1226892,56.81410439999999 L 60.12238610000001,56.81476119999999 L 60.122437100000006,56.8150781 L 60.1218247,56.815378700000004 L 60.1218191,56.8155713 L 60.1213916,56.8155525 L 60.121380900000005,56.8154909 L 60.121129800000006,56.8154163 L 60.12070870000001,56.8155672 L 60.12031070000001,56.8155531 L 60.119401399999994,56.8150968 L 60.119004399999994,56.8150968 L 60.11859030000001,56.815127399999994 L 60.1172358,56.8150334 L 60.1160658,56.815110600000004 L 60.11551380000001,56.8155596 L 60.1152273,56.8155147 L 60.115278200000006,56.81513880000001 L 60.1135466,56.81404399999999 L 60.11204,56.8119021 L 60.1102784,56.8109788 L 60.1082018,56.810816499999994 L 60.10637510000001,56.81105639999999 L 60.10507580000001,56.81162309999999 L 60.10503380000001,56.8122399 L 60.10516030000001,56.813403699999995 L 60.1049638,56.8143725 L 60.10563520000001,56.8154999 L 60.106760200000004,56.81708899999999 L 60.108160000000005,56.8173733 L 60.1082836,56.818082399999994 L 60.10913010000001,56.818815900000004 L 60.108206700000004,56.81976099999999 L 60.1073849,56.81964479999999 L 60.106850800000004,56.8202448 L 60.1041711,56.8205097 L 60.10311360000001,56.820827799999996 L 60.101082,56.8206925 L 60.100768900000006,56.8207115 L 60.100602,56.8209171 L 60.099837900000004,56.8209434 L 60.0990654,56.820309300000005 L 60.098869900000004,56.8202947 L 60.09872730000001,56.820134700000004 L 60.09855690000001,56.8200605 L 60.09843510000001,56.81994439999999 L 60.09816030000001,56.8197787 L 60.0979271,56.8196355 L 60.09772890000001,56.8195541 L 60.097482,56.81946649999999 L 60.0972885,56.819332700000004 L 60.09699280000001,56.8192508 L 60.09679800000001,56.8190738 L 60.096839700000004,56.8188986 L 60.096638000000006,56.818677799999996 L 60.0964849,56.8185597 L 60.096151000000006,56.81855590000001 L 60.09594920000001,56.818536900000005 L 60.09574390000001,56.8184988 L 60.095629200000005,56.818441699999994 L 60.09552130000001,56.8183465 L 60.09557350000001,56.8183046 L 60.0957474,56.8182304 L 60.095740500000005,56.818169499999996 L 60.095629200000005,56.8181657 L 60.09554910000001,56.8182037 L 60.095490000000005,56.8181885 L 60.09531610000001,56.8180419 L 60.09521520000001,56.817994299999995 L 60.09521520000001,56.81789909999999 L 60.0949717,56.81758119999999 L 60.0947004,56.81746309999999 L 60.0944081,56.8173451 L 60.094356000000005,56.81729939999999 L 60.0943873,56.81727459999999 L 60.0942481,56.817251799999994 L 60.094178600000006,56.81726319999999 L 60.094119400000004,56.81729939999999 L 60.09353850000001,56.81712039999999 L 60.09337500000001,56.8171052 L 60.093169700000004,56.817107099999994 L 60.09298890000001,56.817078499999994 L 60.09263060000001,56.81697 L 60.09244270000001,56.81688239999999 L 60.09215050000001,56.816859599999994 L 60.0920635,56.8168386 L 60.091733100000006,56.8169757 L 60.0916252,56.8170538 L 60.091472200000005,56.8171166 L 60.091277399999996,56.8171566 L 60.0910617,56.817169899999996 L 60.09077990000001,56.81714709999999 L 60.09051900000001,56.81706709999999 L 60.09043200000001,56.817025199999996 L 60.0903416,56.817008099999995 L 60.0898372,56.8169929 L 60.0895554,56.817238499999995 L 60.089538000000005,56.81743649999999 L 60.089381499999995,56.817619199999996 L 60.0892632,56.81764399999999 L 60.0892736,56.8177373 L 60.089378,56.81766489999999 L 60.089444099999994,56.8177163 L 60.089440599999996,56.81784579999999 L 60.089339700000004,56.817860999999986 L 60.089190200000004,56.8180019 L 60.0892632,56.8180438 L 60.0894093,56.8180533 L 60.0895241,56.8181047 L 60.0894998,56.8182171 L 60.0897085,56.818278 L 60.0898337,56.818270399999996 L 60.089930300000006,56.8182192 L 60.0899771,56.8181681 L 60.090036100000006,56.8181654 L 60.09014680000001,56.818207099999995 L 60.0903495,56.81822439999999 L 60.0904971,56.8182783 L 60.090531600000006,56.8183375 L 60.0908071,56.8184748 L 60.0908956,56.818649799999996 L 60.0911662,56.8187683 L 60.091338400000005,56.8189056 L 60.0913777,56.8190052 L 60.0912154,56.81908059999999 L 60.0910284,56.8191345 L 60.090748000000005,56.8192233 L 60.0904676,56.81922599999999 L 60.090261,56.8192368 L 60.09031020000001,56.819156 L 60.090162600000006,56.81909949999999 L 60.0898527,56.81926099999999 L 60.0900071,56.819478499999995 L 60.0901045,56.8194938 L 60.090292000000005,56.8195709 L 60.090414100000004,56.81963459999999 L 60.09055670000001,56.81965939999999 L 60.090786300000005,56.8198783 L 60.0907446,56.8200325 L 60.090563700000004,56.8202001 L 60.0902436,56.8202819 L 60.08986449999999,56.82039230000001 L 60.0894749,56.820447599999994 L 60.0891966,56.8204304 L 60.0889705,56.8203942 L 60.08864,56.8204057 L 60.0884765,56.8204266 L 60.0882678,56.820410200000005 L 60.0880809,56.8203294 L 60.08788899999999,56.8202096 L 60.087773399999996,56.820088399999996 L 60.0877488,56.82001580000001 L 60.0875889,56.819917499999995 L 60.087488099999995,56.8198327 L 60.0873429,56.8197936 L 60.0871437,56.819689999999994 L 60.08708469999999,56.8196509 L 60.0869567,56.8196119 L 60.086819,56.81958769999999 L 60.086629599999995,56.8195432 L 60.086391,56.8195581 L 60.0862385,56.8196106 L 60.086218800000005,56.8196321 L 60.0861868,56.8197007 L 60.08613030000001,56.8197438 L 60.0859827,56.8198569 L 60.08591380000001,56.819935 L 60.085781,56.8200238 L 60.085594,56.8201046 L 60.085298800000004,56.820182700000004 L 60.0850602,56.820244599999995 L 60.0845978,56.820554200000004 L 60.084371499999996,56.8206781 L 60.0842239,56.8207346 L 60.0839017,56.820832900000006 L 60.08385,56.8208356 L 60.083601599999994,56.820893399999996 L 60.08308749999999,56.82091090000001 L 60.08293990000001,56.8208921 L 60.0827677,56.820848999999995 L 60.0825808,56.8207979 L 60.0825611,56.820776300000006 L 60.082393800000006,56.820737300000005 L 60.082332400000006,56.82074 L 60.0822413,56.820725200000005 L 60.082046999999996,56.820719800000006 L 60.081869899999994,56.82073330000001 L 60.08180839999999,56.820756100000004 L 60.08180349999999,56.820784399999994 L 60.0816362,56.8208167 L 60.081515700000004,56.82091500000001 L 60.081515700000004,56.820975600000004 L 60.081547699999994,56.82106039999999 L 60.08146649999999,56.8211573 L 60.081348399999996,56.821239399999996 L 60.08104099999999,56.8213955 L 60.0806572,56.821547699999996 L 60.0802243,56.821692999999996 L 60.080111200000005,56.8216957 L 60.0799341,56.821691699999995 L 60.0798062,56.8216742 L 60.0798381,56.821641899999996 L 60.0796586,56.8215746 L 60.0795995,56.821538200000006 L 60.0794913,56.821545 L 60.079301900000004,56.82153290000001 L 60.0792379,56.8215746 L 60.07913220000001,56.821583999999994 L 60.078817300000004,56.8215692 L 60.07853490000001,56.8214761 L 60.078347,56.821497099999995 L 60.0782079,56.821483799999996 L 60.07813830000001,56.8214171 L 60.078093100000004,56.8214952 L 60.07814530000001,56.8215066 L 60.078117400000004,56.8215428 L 60.078016500000004,56.8215885 L 60.0777626,56.8216303 L 60.0776722,56.8216627 L 60.0776269,56.8217084 L 60.0775678,56.8217293 L 60.0773104,56.821756 L 60.0770912,56.821843599999994 L 60.0770356,56.82188349999999 L 60.0769347,56.821906399999996 L 60.076847699999995,56.821912100000006 L 60.0767086,56.821921599999996 L 60.076621599999996,56.821946399999995 L 60.075971100000004,56.8219273 L 60.07575890000001,56.8218797 L 60.0757276,56.8218531 L 60.0756232,56.8218512 L 60.0755745,56.82188349999999 L 60.0755641,56.821912100000006 L 60.07551190000001,56.8219349 L 60.0754354,56.8219406 L 60.0750771,56.8219406 L 60.074958800000005,56.821946399999995 L 60.07486139999999,56.8219787 L 60.0748057,56.82203580000001 L 60.0748162,56.8220834 L 60.07486139999999,56.82213480000001 L 60.075219700000005,56.82251170000001 L 60.07521620000001,56.82257270000001 L 60.07505270000001,56.822639300000006 L 60.07485439999999,56.8226697 L 60.074795300000005,56.8226431 L 60.0747466,56.8225898 L 60.074708300000005,56.8226145 L 60.0747396,56.822709700000004 L 60.074708300000005,56.822755400000005 L 60.0745831,56.8228201 L 60.0743883,56.822839200000004 L 60.07420739999999,56.8228449 L 60.07404739999999,56.822812500000005 L 60.074023,56.822768700000005 L 60.0738943,56.8227497 L 60.073824699999996,56.822788800000005 L 60.0737795,56.8228231 L 60.0737064,56.8228269 L 60.0736195,56.8229011 L 60.073522100000005,56.82291630000001 L 60.073358600000006,56.82291830000001 L 60.073222900000005,56.8228878 L 60.0732472,56.8228573 L 60.0732194,56.822766 L 60.073170700000006,56.822727900000004 L 60.07299330000001,56.82270690000001 L 60.072972400000005,56.8227641 L 60.073010700000005,56.822825 L 60.07305590000001,56.8228669 L 60.0731498,56.8228935 L 60.073226399999996,56.82295250000001 L 60.073073300000004,56.8230572 L 60.072822800000004,56.8232304 L 60.0724854,56.823407499999995 L 60.0722697,56.823502700000006 L 60.0720401,56.823576900000006 L 60.071841899999995,56.823632100000005 L 60.071580999999995,56.823675900000005 L 60.0712853,56.8237311 L 60.0709652,56.823761499999996 L 60.070669599999995,56.823773 L 60.0705443,56.82375580000001 L 60.070339100000005,56.823717800000004 L 60.070165200000005,56.8236473 L 60.0694967,56.8233624 L 60.06859550000001,56.8231276 L 60.0677372,56.8231745 L 60.0669647,56.822822300000006 L 60.0643898,56.8224935 L 60.0638748,56.82261090000001 L 60.060484499999994,56.8205912 L 60.0570513,56.81662179999999 L 60.0562788,56.8155178 L 60.0555176,56.814816699999994 L 60.0552161,56.814111499999996 L 60.054892099999996,56.8134179 L 60.0547365,56.8117189 L 60.054250499999995,56.811130999999996 L 60.0538755,56.81100769999999 L 60.05228759999999,56.811547999999995 L 60.050793999999996,56.8125937 L 60.0493265,56.8129105 L 60.0482536,56.812746 L 60.0422025,56.8126286 L 60.04168759999999,56.812440599999995 L 60.036838100000004,56.811547999999995 L 60.036022700000004,56.811031199999995 L 60.033962800000005,56.810843199999994 L 60.032632400000004,56.81100769999999 L 60.02919920000001,56.8107962 L 60.0286842,56.81004449999999 L 60.0269704,56.8099764 L 60.02550850000001,56.8104908 L 60.023392400000006,56.810259099999996 L 60.023237,56.810246899999996 L 60.0230419,56.810220699999995 L 60.0228905,56.8101968 L 60.02272790000001,56.810167299999996 L 60.022624300000004,56.8101301 L 60.0225044,56.8101078 L 60.0222849,56.8100427 L 60.022203600000005,56.8100338 L 60.021973,56.8099782 L 60.0217535,56.8099537 L 60.021595000000005,56.8099281 L 60.0214781,56.8099031 L 60.0213643,56.809863099999994 L 60.02131860000001,56.8098581 L 60.021243399999996,56.8097958 L 60.0210605,56.8097479 L 60.0208248,56.8096712 L 60.0206043,56.8095705 L 60.0200546,56.8093986 L 60.0198554,56.809330800000005 L 60.019803599999996,56.809226699999996 L 60.01971520000001,56.8091288 L 60.0196705,56.809084899999995 L 60.019575,56.809020399999994 L 60.019519200000005,56.8089942 L 60.019488499999994,56.8089853 L 60.0194388,56.8089737 L 60.01933890000001,56.8089549 L 60.0192712,56.8089431 L 60.01911990000001,56.808916200000006 L 60.0189822,56.8088823 L 60.0188948,56.8088403 L 60.018847099999995,56.8088002 L 60.0187805,56.8087404 L 60.0186886,56.8086985 L 60.0186469,56.808672300000005 L 60.0186017,56.808657 L 60.0185514,56.8086409 L 60.0184681,56.80862 L 60.0183395,56.808552500000005 L 60.01831060000001,56.8084958 L 60.0182461,56.808466599999996 L 60.0182247,56.808438800000005 L 60.01821290000001,56.8084 L 60.016706,56.8069429 L 60.01648649999999,56.8067526 L 60.0164154,56.8067137 L 60.0163706,56.8066503 L 60.01631580000001,56.806582999999996 L 60.01629439999999,56.8065307 L 60.0162487,56.8065051 L 60.0162142,56.806447799999994 L 60.0160699,56.806352100000005 L 60.015968300000004,56.8063043 L 60.015885,56.806236399999996 L 60.0158565,56.8061619 L 60.0158179,56.8061063 L 60.0158179,56.806041699999994 L 60.0157813,56.8059672 L 60.01571630000001,56.8058949 L 60.0157041,56.8057836 L 60.0145651,56.804946199999996 L 60.014344699999995,56.804821999999994 L 60.0142769,56.80480109999999 L 60.0142022,56.8047979 L 60.0141016,56.80482859999999 L 60.0140068,56.80487339999999 L 60.01383,56.805012700000006 L 60.013751,56.8050882 L 60.01364039999999,56.8052463 L 60.0135585,56.80531560000001 L 60.0134967,56.8053856 L 60.013390300000005,56.80557520000001 L 60.0133443,56.8057435 L 60.0132351,56.80602439999999 L 60.013203499999996,56.8061196 L 60.0131992,56.806152600000004 L 60.0132136,56.8061778 L 60.0132021,56.80624469999999 L 60.013173300000005,56.8062769 L 60.013117300000005,56.8063068 L 60.0130756,56.8063021 L 60.0130756,56.806287899999994 L 60.0130771,56.8062573 L 60.0130541,56.80624469999999 L 60.0130167,56.806239999999995 L 60.01291330000001,56.8063273 L 60.0128371,56.8063761 L 60.01273510000001,56.80646649999999 L 60.0126977,56.806529499999996 L 60.012637399999996,56.8065798 L 60.0125885,56.8066058 L 60.012539600000004,56.8066372 L 60.0124951,56.80668839999999 L 60.0124261,56.806727699999996 L 60.012327,56.80676149999999 L 60.0122436,56.8067993 L 60.0121847,56.806840199999996 L 60.0120741,56.806884999999994 L 60.0119821,56.80698099999999 L 60.011890099999995,56.807045499999994 L 60.011786699999995,56.8071572 L 60.0117263,56.807227999999995 L 60.01167749999999,56.8073334 L 60.011217599999995,56.80762449999999 L 60.0111687,56.80766169999999 L 60.0111057,56.80769339999999 L 60.0110173,56.8077385 L 60.010886899999996,56.807790399999995 L 60.007353800000004,56.8059975 L 60.008025100000005,56.8043251 L 60.0098781,56.8035595 L 60.0119088,56.8022049 L 60.0133246,56.8021266 L 60.0140968,56.8013984 L 60.015467799999996,56.8013899 L 60.0196311,56.800435300000004 L 60.0208084,56.79943930000001 L 60.0244933,56.79864990000001 L 60.0244629,56.799077600000004 L 60.022524600000004,56.8001978 L 60.02139210000001,56.8034202 L 60.02353260000001,56.804360599999995 L 60.025699800000005,56.80588939999999 L 60.0306749,56.80467139999999 L 60.0326276,56.804643299999995 L 60.038199500000005,56.8054999 L 60.0418386,56.8071184 L 60.0450565,56.8091342 L 60.052415700000005,56.806287999999995 L 60.051930399999996,56.8051808 L 60.056066099999995,56.803975 L 60.0567376,56.806759 L 60.062954700000006,56.806133100000004 L 60.063925700000006,56.807679799999995 L 60.06210300000001,56.808668399999995 L 60.060844599999996,56.81124239999999 L 60.0615837,56.8139079 L 60.07148409999999,56.8099577 L 60.06965280000001,56.807259099999996 L 60.071877099999995,56.805872300000004 L 60.077393,56.80409339999999 L 60.075511600000006,56.801570999999996 L 60.072950600000006,56.8003371 L 60.063644599999996,56.802338600000006 L 60.062450500000004,56.798910800000016 L 60.064885499999995,56.79685380000001 L 60.058995800000005,56.79504810000001 L 60.0584607,56.78826290000001 L 60.060917100000005,56.78563290000001 L 60.065184300000006,56.78532270000001 L 60.070867299999996,56.7880478 L 60.0716358,56.78951000000001 L 60.07521830000001,56.78933670000001 L 60.0786,56.78813430000001 L 60.082971,56.785536500000006 L 60.09007830000001,56.7797815 L 60.101371,56.779025600000004 L 60.1139905,56.7793045 L 60.1135011,56.7770985 L 60.119545800000004,56.774520200000005 L 60.1158282,56.77230070000001 L 60.118599800000005,56.77031090000001 L 60.134744,56.76433730000001 L 60.13771800000001,56.763069 L 60.145568600000004,56.75948339999999 L 60.149976800000005,56.755282 L 60.157817099999995,56.752501 L 60.16041630000001,56.751374399999996 L 60.1676735,56.7492237 L 60.16851710000001,56.7434255 L 60.1786851,56.73677560000001 L 60.185376000000005,56.73286220000001 L 60.2061879,56.724595400000005 L 60.228392200000016,56.723096500000004 L 60.2472898,56.719545600000004 L 60.25707,56.71267220000001 L 60.2570007,56.7070467 L 60.263853000000005,56.703136400000005 L 60.270864499999995,56.69503100000001 L 60.26594090000001,56.69175310000001 L 60.266302300000014,56.689148900000006 L 60.26301470000001,56.68593680000001 L 60.263924200000005,56.68388139999999 L 60.26627310000001,56.6823612 L 60.2744268,56.6810982 L 60.282937700000005,56.6831827 L 60.29111850000001,56.674484799999995 L 60.290406600000004,56.6726207 L 60.29349590000001,56.66897090000001 L 60.30126469999999,56.6692896 L 60.30759139999999,56.6670937 L 60.31644399999999,56.66525390000001 L 60.3217249,56.662800100000005 L 60.3210011,56.65551510000001 L 60.3234889,56.6546403 L 60.3337867,56.6563086 L 60.3379969,56.6540031 L 60.344289999999994,56.653307399999996 L 60.3500789,56.6528451 L 60.359055999999995,56.65615280000001 L 60.3805209,56.6598036 L 60.4026055,56.66354020000001 L 60.405700800000005,56.664563 L 60.4132433,56.667362600000004 L 60.4172167,56.668981900000006 L 60.42032290000001,56.67007290000001 L 60.427835300000005,56.6705818 L 60.4331077,56.6712003 L 60.4289944,56.666838500000004 L 60.42862590000001,56.6640231 L 60.4348391,56.6628443 L 60.430303200000004,56.6610431 L 60.4280464,56.658833900000005 L 60.42249030000001,56.655901 L 60.40835590000001,56.6486031 L 60.40465699999999,56.644707399999994 L 60.43305530000001,56.63236820000001 L 60.448599200000004,56.62613630000001 L 60.4373279,56.6159947 L 60.4451635,56.6140883 L 60.4663704,56.6097206 L 60.48815820000001,56.604963399999995 L 60.503212600000005,56.60212080000001 L 60.504426499999994,56.6056718 L 60.5061801,56.6094821 L 60.5144124,56.6112347 L 60.514770999999996,56.6104978 L 60.52315350000001,56.61142639999999 L 60.524272200000006,56.6064057 L 60.515007499999996,56.605977700000004 L 60.5147032,56.60519610000001 L 60.52226830000001,56.6052849 L 60.5307643,56.6045633 L 60.53632530000001,56.59991200000001 L 60.5376102,56.5973246 L 60.544846099999994,56.5968406 L 60.541938200000004,56.6002098 L 60.5332091,56.60857790000001 L 60.533934300000006,56.6125966 L 60.5421594,56.6120412 L 60.5435261,56.6150749 L 60.5590929,56.6135847 L 60.5561684,56.605028600000004 L 60.5626795,56.6040205 L 60.571992900000005,56.60651330000001 L 60.5799015,56.60543530000001 L 60.5811209,56.60614590000001 L 60.5820299,56.6064682 L 60.5867537,56.6092482 L 60.57755280000001,56.6112207 L 60.5813739,56.62334570000001 L 60.588402200000004,56.6199001 L 60.59199,56.62119690000001 L 60.603526900000006,56.616914200000004 L 60.624229,56.611328 L 60.6430991,56.6062055 L 60.652626999999995,56.6189297 L 60.63033210000001,56.62202810000001 L 60.6172257,56.6340942 L 60.62254000000001,56.6433467 L 60.606987,56.64615990000001 L 60.6110164,56.6532115 L 60.6306341,56.6530693 L 60.640015000000005,56.6516058 L 60.6560025,56.651480199999995 L 60.6561013,56.673995000000005 L 60.662979400000005,56.67611180000001 L 60.66500290000001,56.6770179 L 60.68513290000001,56.682669399999995 L 60.685588300000006,56.6828966 L 60.737150500000006,56.69760290000001 L 60.73675570000001,56.699899200000004 L 60.7374243,56.699450500000005 L 60.749588200000005,56.69569020000001 L 60.7553374,56.69471020000001 L 60.76079280000001,56.6943277 L 60.7714427,56.69411050000001 L 60.7846098,56.69510300000001 L 60.7849176,56.6962441 L 60.788902500000006,56.6964431 L 60.7891765,56.69763220000001 L 60.79470250000001,56.69885630000001 L 60.79853230000002,56.69978230000001 L 60.8030022,56.70060530000001 L 60.8030022,56.704610300000006 L 60.76947570000001,56.7044541 L 60.76965080000001,56.69497870000001 L 60.757444899999996,56.6949971 L 60.7569316,56.694997900000004 L 60.752750500000005,56.695634600000005 L 60.751160999999996,56.696649900000004 L 60.7503346,56.6979594 L 60.7498342,56.7017884 L 60.745554600000006,56.70610230000001 L 60.735605500000005,56.7098416 L 60.74351620000001,56.71596280000001 L 60.7417954,56.7182065 L 60.739885300000005,56.720814000000004 L 60.7378962,56.722702300000016 L 60.7370805,56.72516900000001 L 60.737214800000004,56.7274619 L 60.72822180000001,56.728032100000014 L 60.7276795,56.72902380000001 L 60.7245944,56.728520900000014 L 60.7195296,56.730641 L 60.7210942,56.731234300000004 L 60.7216572,56.7320866 L 60.724813700000006,56.7338432 L 60.73335690000001,56.73881260000001 L 60.73631630000001,56.737162700000006 L 60.739164800000005,56.73491370000001 L 60.7426584,56.7342635 L 60.744504,56.7336341 L 60.743739000000005,56.73283680000001 L 60.7445068,56.73270410000001 L 60.751112600000006,56.73251780000001 L 60.75215820000001,56.73313720000001 L 60.7530067,56.733904800000005 L 60.7555974,56.73671090000001 L 60.75964139999999,56.7412748 L 60.76421810000001,56.743982700000004 L 60.768662600000006,56.746557800000005 L 60.770351700000006,56.74581090000001 L 60.772641,56.7447975 L 60.772437100000005,56.74191630000001 L 60.7722898,56.7413816 L 60.7722046,56.74130590000001 L 60.7739435,56.7411885 L 60.775672500000006,56.73963030000001 L 60.7764624,56.73875020000001 L 60.7870406,56.73899780000001 L 60.786239900000005,56.733361900000006 L 60.79003020000001,56.731258200000006 L 60.791352900000014,56.72899150000001 L 60.7944754,56.7276826 L 60.8184822,56.7174983 L 60.821772,56.717032200000006 L 60.8294957,56.7197441 L 60.838611,56.721117400000004 L 60.84512230000001,56.72098870000001 L 60.85588349999999,56.713418000000004 L 60.8650048,56.70531230000002 L 60.866336200000006,56.70317010000001 L 60.868308000000006,56.7008748 L 60.8729455,56.6971264 L 60.875022900000005,56.6978902 L 60.8796453,56.700422800000005 L 60.8813369,56.699537400000004 L 60.887057799999994,56.702865100000004 L 60.8931419,56.7064854 L 60.895957300000006,56.708186100000006 L 60.8986164,56.71014230000001 L 60.90118399999999,56.711358100000005 L 60.9040253,56.712536500000006 L 60.90468639999999,56.7124892 L 60.9086175,56.714026 L 60.91465099999999,56.716520800000005 L 60.9148533,56.716770000000004 L 60.9077918,56.71833650000001 L 60.906310500000004,56.7188006 L 60.9049709,56.7192647 L 60.9026649,56.72023890000001 L 60.9010207,56.721097900000004 L 60.8998282,56.7218243 L 60.898163000000004,56.72281870000001 L 60.8956468,56.7242742 L 60.8943861,56.724882300000004 L 60.892421399999996,56.72555670000001 L 60.8908508,56.72592850000001 L 60.88906479999999,56.72617060000001 L 60.8874521,56.72630900000001 L 60.8853719,56.7262946 L 60.8839483,56.72619660000001 L 60.881988899999996,56.72591410000001 L 60.8799455,56.72560000000001 L 60.8782593,56.72531750000001 L 60.875968900000004,56.724983200000004 L 60.8741777,56.72471810000001 L 60.8724862,56.724536500000006 L 60.871278,56.72452500000001 L 60.8697231,56.7246374 L 60.8683836,56.7248535 L 60.8670913,56.72510140000001 L 60.8662298,56.72536080000001 L 60.865462900000004,56.725657600000005 L 60.8658411,56.72596890000001 L 60.8693344,56.7294675 L 60.874817799999995,56.7349291 L 60.87664409999999,56.7366024 L 60.876743399999995,56.737275200000006 L 60.8790021,56.7377971 L 60.8831368,56.752390000000005 L 60.88326969999999,56.7528859 L 60.8850524,56.7529413 L 60.8859909,56.7530547 L 60.887020299999996,56.7532456 L 60.888246499999994,56.7535471 L 60.8897957,56.754119800000005 L 60.89057280000001,56.7545375 L 60.891395300000006,56.7550797 L 60.89212190000001,56.755655100000006 L 60.8926013,56.75615580000001 L 60.89279810000001,56.7564186 L 60.89359030000001,56.75767449999999 L 60.894206,56.758626 L 60.894760999999995,56.759201399999995 L 60.895593600000005,56.7597961 L 60.89671890000001,56.76049030000001 L 60.8979653,56.760971600000005 L 60.8986616,56.76121500000001 L 60.8995498,56.76147220000001 L 60.9010333,56.761762700000006 L 60.9019113,56.7618954 L 60.903041699999996,56.7619867 L 60.905034,56.76205650000001 L 60.90640739999999,56.762133300000016 L 60.907809799999995,56.762264800000004 L 60.9092287,56.76251950000001 L 60.9097632,56.761589300000004 L 60.91196539999999,56.761645 L 60.9161736,56.76291420000001 L 60.9167185,56.762966500000005 L 60.917652499999996,56.76312030000001 L 60.919941599999994,56.76343980000001 L 60.9187717,56.76457990000001 L 60.9208659,56.76508330000001 L 60.9201047,56.76589920000001 L 60.91929149999999,56.76637520000001 L 60.9171917,56.7658414 L 60.9167893,56.76574610000001 L 60.9157401,56.76555150000001 L 60.9169777,56.76869930000001 L 60.9181893,56.772544100000005 L 60.9211011,56.781209399999995 L 60.9240982,56.78933520000001 L 60.9264628,56.79516000000001 L 60.927492300000004,56.797394700000005 L 60.929591300000006,56.802573300000006 L 60.933319100000006,56.8120826 L 60.9402853,56.8313003 L 60.9404361,56.831619599999996 L 60.941435999999996,56.834891199999994 L 60.9432759,56.8402956 z\" /></g></g></svg>"
      ],
      "text/plain": [
       "<shapely.geometry.multipolygon.MultiPolygon at 0x2968c6447f0>"
      ]
     },
     "execution_count": 143,
     "metadata": {},
     "output_type": "execute_result"
    }
   ],
   "source": [
    "adlvl6[adlvl6['name'] == 'городской округ Екатеринбург'].iloc[0,1]"
   ]
  },
  {
   "cell_type": "code",
   "execution_count": 516,
   "metadata": {},
   "outputs": [
    {
     "data": {
      "image/png": "[encoded data removed]",
      "text/plain": [
       "<Figure size 720x576 with 1 Axes>"
      ]
     },
     "metadata": {
      "needs_background": "light"
     },
     "output_type": "display_data"
    }
   ],
   "source": [
    "ekat = gpd.GeoDataFrame()\n",
    "ekat.loc[0,'geometry'] = ekb_poly\n",
    "buf = gpd.GeoDataFrame()\n",
    "buf.loc[0,'geometry'] = ekb_poly.centroid.buffer(0.025)\n",
    "\n",
    "\n",
    "\n",
    "ax = ekat.plot(figsize=(10, 8))\n",
    "ax = buf.plot(color='r', ax=ax, alpha=0.6)\n",
    "ax = ekb_points.plot(figsize=(10, 8),ax=ax, color = 'yellow')"
   ]
  },
  {
   "cell_type": "code",
   "execution_count": 155,
   "metadata": {},
   "outputs": [
    {
     "data": {
      "text/plain": [
       "60.53921316286092"
      ]
     },
     "execution_count": 155,
     "metadata": {},
     "output_type": "execute_result"
    }
   ],
   "source": [
    "ekb_poly.centroid.coords[0][0]"
   ]
  },
  {
   "cell_type": "code",
   "execution_count": 151,
   "metadata": {},
   "outputs": [],
   "source": [
    "import folium\n",
    "from folium.plugins import HeatMap"
   ]
  },
  {
   "cell_type": "code",
   "execution_count": 649,
   "metadata": {},
   "outputs": [
    {
     "data": {
      "text/html": [
       "<div style=\"width:100%;\"><div style=\"position:relative;width:100%;height:0;padding-bottom:60%;\"><span style=\"color:#565656\">Make this Notebook Trusted to load map: File -> Trust Notebook</span><iframe src=\"about:blank\" style=\"position:absolute;width:100%;height:100%;left:0;top:0;border:none !important;\" data-html=%3C%21DOCTYPE%20html%3E%0A%3Chead%3E%20%20%20%20%0A%20%20%20%20%3Cmeta%20http-equiv%3D%22content-type%22%20content%3D%22text/html%3B%20charset%3DUTF-8%22%20/%3E%0A%20%20%20%20%0A%20%20%20%20%20%20%20%20%3Cscript%3E%0A%20%20%20%20%20%20%20%20%20%20%20%20L_NO_TOUCH%20%3D%20false%3B%0A%20%20%20%20%20%20%20%20%20%20%20%20L_DISABLE_3D%20%3D%20false%3B%0A%20%20%20%20%20%20%20%20%3C/script%3E%0A%20%20%20%20%0A%20%20%20%20%3Cstyle%3Ehtml%2C%20body%20%7Bwidth%3A%20100%25%3Bheight%3A%20100%25%3Bmargin%3A%200%3Bpadding%3A%200%3B%7D%3C/style%3E%0A%20%20%20%20%3Cstyle%3E%23map%20%7Bposition%3Aabsolute%3Btop%3A0%3Bbottom%3A0%3Bright%3A0%3Bleft%3A0%3B%7D%3C/style%3E%0A%20%20%20%20%3Cscript%20src%3D%22https%3A//cdn.jsdelivr.net/npm/leaflet%401.6.0/dist/leaflet.js%22%3E%3C/script%3E%0A%20%20%20%20%3Cscript%20src%3D%22https%3A//code.jquery.com/jquery-1.12.4.min.js%22%3E%3C/script%3E%0A%20%20%20%20%3Cscript%20src%3D%22https%3A//maxcdn.bootstrapcdn.com/bootstrap/3.2.0/js/bootstrap.min.js%22%3E%3C/script%3E%0A%20%20%20%20%3Cscript%20src%3D%22https%3A//cdnjs.cloudflare.com/ajax/libs/Leaflet.awesome-markers/2.0.2/leaflet.awesome-markers.js%22%3E%3C/script%3E%0A%20%20%20%20%3Clink%20rel%3D%22stylesheet%22%20href%3D%22https%3A//cdn.jsdelivr.net/npm/leaflet%401.6.0/dist/leaflet.css%22/%3E%0A%20%20%20%20%3Clink%20rel%3D%22stylesheet%22%20href%3D%22https%3A//maxcdn.bootstrapcdn.com/bootstrap/3.2.0/css/bootstrap.min.css%22/%3E%0A%20%20%20%20%3Clink%20rel%3D%22stylesheet%22%20href%3D%22https%3A//maxcdn.bootstrapcdn.com/bootstrap/3.2.0/css/bootstrap-theme.min.css%22/%3E%0A%20%20%20%20%3Clink%20rel%3D%22stylesheet%22%20href%3D%22https%3A//maxcdn.bootstrapcdn.com/font-awesome/4.6.3/css/font-awesome.min.css%22/%3E%0A%20%20%20%20%3Clink%20rel%3D%22stylesheet%22%20href%3D%22https%3A//cdnjs.cloudflare.com/ajax/libs/Leaflet.awesome-markers/2.0.2/leaflet.awesome-markers.css%22/%3E%0A%20%20%20%20%3Clink%20rel%3D%22stylesheet%22%20href%3D%22https%3A//cdn.jsdelivr.net/gh/python-visualization/folium/folium/templates/leaflet.awesome.rotate.min.css%22/%3E%0A%20%20%20%20%0A%20%20%20%20%20%20%20%20%20%20%20%20%3Cmeta%20name%3D%22viewport%22%20content%3D%22width%3Ddevice-width%2C%0A%20%20%20%20%20%20%20%20%20%20%20%20%20%20%20%20initial-scale%3D1.0%2C%20maximum-scale%3D1.0%2C%20user-scalable%3Dno%22%20/%3E%0A%20%20%20%20%20%20%20%20%20%20%20%20%3Cstyle%3E%0A%20%20%20%20%20%20%20%20%20%20%20%20%20%20%20%20%23map_db7eb1f123eb42289403a6e2cc52c685%20%7B%0A%20%20%20%20%20%20%20%20%20%20%20%20%20%20%20%20%20%20%20%20position%3A%20relative%3B%0A%20%20%20%20%20%20%20%20%20%20%20%20%20%20%20%20%20%20%20%20width%3A%20100.0%25%3B%0A%20%20%20%20%20%20%20%20%20%20%20%20%20%20%20%20%20%20%20%20height%3A%20100.0%25%3B%0A%20%20%20%20%20%20%20%20%20%20%20%20%20%20%20%20%20%20%20%20left%3A%200.0%25%3B%0A%20%20%20%20%20%20%20%20%20%20%20%20%20%20%20%20%20%20%20%20top%3A%200.0%25%3B%0A%20%20%20%20%20%20%20%20%20%20%20%20%20%20%20%20%7D%0A%20%20%20%20%20%20%20%20%20%20%20%20%3C/style%3E%0A%20%20%20%20%20%20%20%20%0A%20%20%20%20%3Cscript%20src%3D%22https%3A//cdn.jsdelivr.net/gh/python-visualization/folium%40master/folium/templates/leaflet_heat.min.js%22%3E%3C/script%3E%0A%3C/head%3E%0A%3Cbody%3E%20%20%20%20%0A%20%20%20%20%0A%20%20%20%20%20%20%20%20%20%20%20%20%3Cdiv%20class%3D%22folium-map%22%20id%3D%22map_db7eb1f123eb42289403a6e2cc52c685%22%20%3E%3C/div%3E%0A%20%20%20%20%20%20%20%20%0A%3C/body%3E%0A%3Cscript%3E%20%20%20%20%0A%20%20%20%20%0A%20%20%20%20%20%20%20%20%20%20%20%20var%20map_db7eb1f123eb42289403a6e2cc52c685%20%3D%20L.map%28%0A%20%20%20%20%20%20%20%20%20%20%20%20%20%20%20%20%22map_db7eb1f123eb42289403a6e2cc52c685%22%2C%0A%20%20%20%20%20%20%20%20%20%20%20%20%20%20%20%20%7B%0A%20%20%20%20%20%20%20%20%20%20%20%20%20%20%20%20%20%20%20%20center%3A%20%5B56.78969149363988%2C%2060.53921316286092%5D%2C%0A%20%20%20%20%20%20%20%20%20%20%20%20%20%20%20%20%20%20%20%20crs%3A%20L.CRS.EPSG3857%2C%0A%20%20%20%20%20%20%20%20%20%20%20%20%20%20%20%20%20%20%20%20zoom%3A%2011%2C%0A%20%20%20%20%20%20%20%20%20%20%20%20%20%20%20%20%20%20%20%20zoomControl%3A%20true%2C%0A%20%20%20%20%20%20%20%20%20%20%20%20%20%20%20%20%20%20%20%20preferCanvas%3A%20false%2C%0A%20%20%20%20%20%20%20%20%20%20%20%20%20%20%20%20%7D%0A%20%20%20%20%20%20%20%20%20%20%20%20%29%3B%0A%0A%20%20%20%20%20%20%20%20%20%20%20%20%0A%0A%20%20%20%20%20%20%20%20%0A%20%20%20%20%0A%20%20%20%20%20%20%20%20%20%20%20%20var%20tile_layer_184571f96c4946ab9a9ac8c5028f78fc%20%3D%20L.tileLayer%28%0A%20%20%20%20%20%20%20%20%20%20%20%20%20%20%20%20%22https%3A//cartodb-basemaps-%7Bs%7D.global.ssl.fastly.net/light_all/%7Bz%7D/%7Bx%7D/%7By%7D.png%22%2C%0A%20%20%20%20%20%20%20%20%20%20%20%20%20%20%20%20%7B%22attribution%22%3A%20%22%5Cu0026copy%3B%20%5Cu003ca%20href%3D%5C%22http%3A//www.openstreetmap.org/copyright%5C%22%5Cu003eOpenStreetMap%5Cu003c/a%5Cu003e%20contributors%20%5Cu0026copy%3B%20%5Cu003ca%20href%3D%5C%22http%3A//cartodb.com/attributions%5C%22%5Cu003eCartoDB%5Cu003c/a%5Cu003e%2C%20CartoDB%20%5Cu003ca%20href%20%3D%5C%22http%3A//cartodb.com/attributions%5C%22%5Cu003eattributions%5Cu003c/a%5Cu003e%22%2C%20%22detectRetina%22%3A%20false%2C%20%22maxNativeZoom%22%3A%2018%2C%20%22maxZoom%22%3A%2018%2C%20%22minZoom%22%3A%200%2C%20%22noWrap%22%3A%20false%2C%20%22opacity%22%3A%201%2C%20%22subdomains%22%3A%20%22abc%22%2C%20%22tms%22%3A%20false%7D%0A%20%20%20%20%20%20%20%20%20%20%20%20%29.addTo%28map_db7eb1f123eb42289403a6e2cc52c685%29%3B%0A%20%20%20%20%20%20%20%20%0A%20%20%20%20%0A%20%20%20%20%20%20%20%20%20%20%20%20var%20heat_map_e011063a803e447796c3f146ed6dbd52%20%3D%20L.heatLayer%28%0A%20%20%20%20%20%20%20%20%20%20%20%20%20%20%20%20%5B%5B56.769296%2C%2060.613168%2C%200.04082349381598799%5D%2C%20%5B56.769296%2C%2060.613168%2C%200.04082349381598799%5D%2C%20%5B56.769296%2C%2060.613168%2C%200.04082349381598799%5D%2C%20%5B56.769296%2C%2060.613168%2C%200.04082349381598799%5D%2C%20%5B56.769296%2C%2060.613168%2C%200.04082349381598799%5D%2C%20%5B56.769296%2C%2060.613168%2C%200.04082349381598799%5D%2C%20%5B56.769296%2C%2060.613168%2C%200.04082349381598799%5D%2C%20%5B56.769296%2C%2060.613168%2C%200.04082349381598799%5D%2C%20%5B56.769296%2C%2060.613168%2C%200.04082349381598799%5D%2C%20%5B56.769296%2C%2060.613168%2C%200.04082349381598799%5D%2C%20%5B56.769296%2C%2060.613168%2C%200.04082349381598799%5D%2C%20%5B56.769296%2C%2060.613168%2C%200.04082349381598799%5D%2C%20%5B56.769296%2C%2060.613168%2C%200.04082349381598799%5D%2C%20%5B56.769296%2C%2060.613168%2C%200.04082349381598799%5D%2C%20%5B56.769296%2C%2060.613168%2C%200.04082349381598799%5D%2C%20%5B56.769296%2C%2060.613168%2C%200.04082349381598799%5D%2C%20%5B56.769296%2C%2060.613168%2C%200.04082349381598799%5D%2C%20%5B56.769296%2C%2060.613168%2C%200.04082349381598799%5D%2C%20%5B56.769296%2C%2060.613168%2C%200.04082349381598799%5D%2C%20%5B56.769296%2C%2060.613168%2C%200.04082349381598799%5D%2C%20%5B56.769296%2C%2060.613168%2C%200.04082349381598799%5D%2C%20%5B56.899749%2C%2060.61326700000001%2C%20-0.6939181540880848%5D%2C%20%5B56.899749%2C%2060.61326700000001%2C%20-0.6939181540880848%5D%2C%20%5B56.899749%2C%2060.61326700000001%2C%20-0.6939181540880848%5D%2C%20%5B56.899749%2C%2060.61326700000001%2C%20-0.6939181540880848%5D%2C%20%5B56.899749%2C%2060.61326700000001%2C%20-0.6939181540880848%5D%2C%20%5B56.899749%2C%2060.61326700000001%2C%20-0.6939181540880848%5D%2C%20%5B56.899749%2C%2060.61326700000001%2C%20-0.6939181540880848%5D%2C%20%5B56.899749%2C%2060.61326700000001%2C%20-0.6939181540880848%5D%2C%20%5B56.899749%2C%2060.61326700000001%2C%20-0.6939181540880848%5D%2C%20%5B56.899749%2C%2060.61326700000001%2C%20-0.6939181540880848%5D%2C%20%5B56.899749%2C%2060.61326700000001%2C%20-0.6939181540880848%5D%2C%20%5B56.899749%2C%2060.61326700000001%2C%20-0.6939181540880848%5D%2C%20%5B56.899749%2C%2060.61326700000001%2C%20-0.6939181540880848%5D%2C%20%5B56.899749%2C%2060.61326700000001%2C%20-0.6939181540880848%5D%2C%20%5B56.899749%2C%2060.61326700000001%2C%20-0.6939181540880848%5D%2C%20%5B56.899749%2C%2060.61326700000001%2C%20-0.6939181540880848%5D%2C%20%5B56.899749%2C%2060.61326700000001%2C%20-0.6939181540880848%5D%2C%20%5B56.899749%2C%2060.61326700000001%2C%20-0.6939181540880848%5D%2C%20%5B56.899749%2C%2060.61326700000001%2C%20-0.6939181540880848%5D%2C%20%5B56.899749%2C%2060.61326700000001%2C%20-0.6939181540880848%5D%2C%20%5B56.899749%2C%2060.61326700000001%2C%20-0.6939181540880848%5D%2C%20%5B56.838125%2C%2060.636812%2C%20-0.6939181540880848%5D%2C%20%5B56.838125%2C%2060.636812%2C%20-0.6939181540880848%5D%2C%20%5B56.838125%2C%2060.636812%2C%20-0.6939181540880848%5D%2C%20%5B56.838125%2C%2060.636812%2C%20-0.6939181540880848%5D%2C%20%5B56.838125%2C%2060.636812%2C%20-0.6939181540880848%5D%2C%20%5B56.838125%2C%2060.636812%2C%20-0.6939181540880848%5D%2C%20%5B56.838125%2C%2060.636812%2C%20-0.6939181540880848%5D%2C%20%5B56.838125%2C%2060.636812%2C%20-0.6939181540880848%5D%2C%20%5B56.838125%2C%2060.636812%2C%20-0.6939181540880848%5D%2C%20%5B56.838125%2C%2060.636812%2C%20-0.6939181540880848%5D%2C%20%5B56.838125%2C%2060.636812%2C%20-0.6939181540880848%5D%2C%20%5B56.838125%2C%2060.636812%2C%20-0.6939181540880848%5D%2C%20%5B56.838125%2C%2060.636812%2C%20-0.6939181540880848%5D%2C%20%5B56.838125%2C%2060.636812%2C%20-0.6939181540880848%5D%2C%20%5B56.838125%2C%2060.636812%2C%20-0.6939181540880848%5D%2C%20%5B56.838125%2C%2060.636812%2C%20-0.6939181540880848%5D%2C%20%5B56.838125%2C%2060.636812%2C%20-0.6939181540880848%5D%2C%20%5B56.838125%2C%2060.636812%2C%20-0.6939181540880848%5D%2C%20%5B56.838125%2C%2060.636812%2C%20-0.6939181540880848%5D%2C%20%5B56.838125%2C%2060.636812%2C%20-0.6939181540880848%5D%2C%20%5B56.838125%2C%2060.636812%2C%20-0.6939181540880848%5D%2C%20%5B56.816823%2C%2060.56259300000001%2C%20-0.39137747553934893%5D%2C%20%5B56.816823%2C%2060.56259300000001%2C%20-0.39137747553934893%5D%2C%20%5B56.816823%2C%2060.56259300000001%2C%20-0.39137747553934893%5D%2C%20%5B56.816823%2C%2060.56259300000001%2C%20-0.39137747553934893%5D%2C%20%5B56.816823%2C%2060.56259300000001%2C%20-0.39137747553934893%5D%2C%20%5B56.816823%2C%2060.56259300000001%2C%20-0.39137747553934893%5D%2C%20%5B56.816823%2C%2060.56259300000001%2C%20-0.39137747553934893%5D%2C%20%5B56.816823%2C%2060.56259300000001%2C%20-0.39137747553934893%5D%2C%20%5B56.816823%2C%2060.56259300000001%2C%20-0.39137747553934893%5D%2C%20%5B56.816823%2C%2060.56259300000001%2C%20-0.39137747553934893%5D%2C%20%5B56.816823%2C%2060.56259300000001%2C%20-0.39137747553934893%5D%2C%20%5B56.816823%2C%2060.56259300000001%2C%20-0.39137747553934893%5D%2C%20%5B56.816823%2C%2060.56259300000001%2C%20-0.39137747553934893%5D%2C%20%5B56.816823%2C%2060.56259300000001%2C%20-0.39137747553934893%5D%2C%20%5B56.816823%2C%2060.56259300000001%2C%20-0.39137747553934893%5D%2C%20%5B56.816823%2C%2060.56259300000001%2C%20-0.39137747553934893%5D%2C%20%5B56.816823%2C%2060.56259300000001%2C%20-0.39137747553934893%5D%2C%20%5B56.816823%2C%2060.56259300000001%2C%20-0.39137747553934893%5D%2C%20%5B56.816823%2C%2060.56259300000001%2C%20-0.39137747553934893%5D%2C%20%5B56.816823%2C%2060.56259300000001%2C%20-0.39137747553934893%5D%2C%20%5B56.816823%2C%2060.56259300000001%2C%20-0.39137747553934893%5D%2C%20%5B56.823455%2C%2060.505568999999994%2C%20-0.6074779602170174%5D%2C%20%5B56.823455%2C%2060.505568999999994%2C%20-0.6074779602170174%5D%2C%20%5B56.823455%2C%2060.505568999999994%2C%20-0.6074779602170174%5D%2C%20%5B56.823455%2C%2060.505568999999994%2C%20-0.6074779602170174%5D%2C%20%5B56.823455%2C%2060.505568999999994%2C%20-0.6074779602170174%5D%2C%20%5B56.823455%2C%2060.505568999999994%2C%20-0.6074779602170174%5D%2C%20%5B56.823455%2C%2060.505568999999994%2C%20-0.6074779602170174%5D%2C%20%5B56.823455%2C%2060.505568999999994%2C%20-0.6074779602170174%5D%2C%20%5B56.823455%2C%2060.505568999999994%2C%20-0.6074779602170174%5D%2C%20%5B56.823455%2C%2060.505568999999994%2C%20-0.6074779602170174%5D%2C%20%5B56.823455%2C%2060.505568999999994%2C%20-0.6074779602170174%5D%2C%20%5B56.823455%2C%2060.505568999999994%2C%20-0.6074779602170174%5D%2C%20%5B56.823455%2C%2060.505568999999994%2C%20-0.6074779602170174%5D%2C%20%5B56.823455%2C%2060.505568999999994%2C%20-0.6074779602170174%5D%2C%20%5B56.823455%2C%2060.505568999999994%2C%20-0.6074779602170174%5D%2C%20%5B56.823455%2C%2060.505568999999994%2C%20-0.6074779602170174%5D%2C%20%5B56.823455%2C%2060.505568999999994%2C%20-0.6074779602170174%5D%2C%20%5B56.823455%2C%2060.505568999999994%2C%20-0.6074779602170174%5D%2C%20%5B56.823455%2C%2060.505568999999994%2C%20-0.6074779602170174%5D%2C%20%5B56.823455%2C%2060.505568999999994%2C%20-0.6074779602170174%5D%2C%20%5B56.823455%2C%2060.505568999999994%2C%20-0.6074779602170174%5D%2C%20%5B56.807141%2C%2060.611964%2C%201.4670866926885997%5D%2C%20%5B56.807141%2C%2060.611964%2C%201.4670866926885997%5D%2C%20%5B56.807141%2C%2060.611964%2C%201.4670866926885997%5D%2C%20%5B56.807141%2C%2060.611964%2C%201.4670866926885997%5D%2C%20%5B56.807141%2C%2060.611964%2C%201.4670866926885997%5D%2C%20%5B56.807141%2C%2060.611964%2C%201.4670866926885997%5D%2C%20%5B56.807141%2C%2060.611964%2C%201.4670866926885997%5D%2C%20%5B56.807141%2C%2060.611964%2C%201.4670866926885997%5D%2C%20%5B56.807141%2C%2060.611964%2C%201.4670866926885997%5D%2C%20%5B56.807141%2C%2060.611964%2C%201.4670866926885997%5D%2C%20%5B56.807141%2C%2060.611964%2C%201.4670866926885997%5D%2C%20%5B56.807141%2C%2060.611964%2C%201.4670866926885997%5D%2C%20%5B56.807141%2C%2060.611964%2C%201.4670866926885997%5D%2C%20%5B56.807141%2C%2060.611964%2C%201.4670866926885997%5D%2C%20%5B56.807141%2C%2060.611964%2C%201.4670866926885997%5D%2C%20%5B56.807141%2C%2060.611964%2C%201.4670866926885997%5D%2C%20%5B56.807141%2C%2060.611964%2C%201.4670866926885997%5D%2C%20%5B56.807141%2C%2060.611964%2C%201.4670866926885997%5D%2C%20%5B56.807141%2C%2060.611964%2C%201.4670866926885997%5D%2C%20%5B56.807141%2C%2060.611964%2C%201.4670866926885997%5D%2C%20%5B56.807141%2C%2060.611964%2C%201.4670866926885997%5D%2C%20%5B56.857018999999994%2C%2060.605429%2C%20-0.6939181540880848%5D%2C%20%5B56.857018999999994%2C%2060.605429%2C%20-0.6939181540880848%5D%2C%20%5B56.857018999999994%2C%2060.605429%2C%20-0.6939181540880848%5D%2C%20%5B56.857018999999994%2C%2060.605429%2C%20-0.6939181540880848%5D%2C%20%5B56.857018999999994%2C%2060.605429%2C%20-0.6939181540880848%5D%2C%20%5B56.857018999999994%2C%2060.605429%2C%20-0.6939181540880848%5D%2C%20%5B56.857018999999994%2C%2060.605429%2C%20-0.6939181540880848%5D%2C%20%5B56.857018999999994%2C%2060.605429%2C%20-0.6939181540880848%5D%2C%20%5B56.857018999999994%2C%2060.605429%2C%20-0.6939181540880848%5D%2C%20%5B56.857018999999994%2C%2060.605429%2C%20-0.6939181540880848%5D%2C%20%5B56.857018999999994%2C%2060.605429%2C%20-0.6939181540880848%5D%2C%20%5B56.857018999999994%2C%2060.605429%2C%20-0.6939181540880848%5D%2C%20%5B56.857018999999994%2C%2060.605429%2C%20-0.6939181540880848%5D%2C%20%5B56.857018999999994%2C%2060.605429%2C%20-0.6939181540880848%5D%2C%20%5B56.857018999999994%2C%2060.605429%2C%20-0.6939181540880848%5D%2C%20%5B56.857018999999994%2C%2060.605429%2C%20-0.6939181540880848%5D%2C%20%5B56.857018999999994%2C%2060.605429%2C%20-0.6939181540880848%5D%2C%20%5B56.857018999999994%2C%2060.605429%2C%20-0.6939181540880848%5D%2C%20%5B56.857018999999994%2C%2060.605429%2C%20-0.6939181540880848%5D%2C%20%5B56.857018999999994%2C%2060.605429%2C%20-0.6939181540880848%5D%2C%20%5B56.857018999999994%2C%2060.605429%2C%20-0.6939181540880848%5D%2C%20%5B56.754564%2C%2060.701356000000004%2C%20-0.9100186387657532%5D%2C%20%5B56.754564%2C%2060.701356000000004%2C%20-0.9100186387657532%5D%2C%20%5B56.754564%2C%2060.701356000000004%2C%20-0.9100186387657532%5D%2C%20%5B56.754564%2C%2060.701356000000004%2C%20-0.9100186387657532%5D%2C%20%5B56.754564%2C%2060.701356000000004%2C%20-0.9100186387657532%5D%2C%20%5B56.754564%2C%2060.701356000000004%2C%20-0.9100186387657532%5D%2C%20%5B56.754564%2C%2060.701356000000004%2C%20-0.9100186387657532%5D%2C%20%5B56.754564%2C%2060.701356000000004%2C%20-0.9100186387657532%5D%2C%20%5B56.754564%2C%2060.701356000000004%2C%20-0.9100186387657532%5D%2C%20%5B56.754564%2C%2060.701356000000004%2C%20-0.9100186387657532%5D%2C%20%5B56.754564%2C%2060.701356000000004%2C%20-0.9100186387657532%5D%2C%20%5B56.754564%2C%2060.701356000000004%2C%20-0.9100186387657532%5D%2C%20%5B56.754564%2C%2060.701356000000004%2C%20-0.9100186387657532%5D%2C%20%5B56.754564%2C%2060.701356000000004%2C%20-0.9100186387657532%5D%2C%20%5B56.754564%2C%2060.701356000000004%2C%20-0.9100186387657532%5D%2C%20%5B56.754564%2C%2060.701356000000004%2C%20-0.9100186387657532%5D%2C%20%5B56.754564%2C%2060.701356000000004%2C%20-0.9100186387657532%5D%2C%20%5B56.754564%2C%2060.701356000000004%2C%20-0.9100186387657532%5D%2C%20%5B56.754564%2C%2060.701356000000004%2C%20-0.9100186387657532%5D%2C%20%5B56.754564%2C%2060.701356000000004%2C%20-0.9100186387657532%5D%2C%20%5B56.754564%2C%2060.701356000000004%2C%20-0.9100186387657532%5D%2C%20%5B56.904251%2C%2060.600816%2C%20-0.6939181540880848%5D%2C%20%5B56.904251%2C%2060.600816%2C%20-0.6939181540880848%5D%2C%20%5B56.904251%2C%2060.600816%2C%20-0.6939181540880848%5D%2C%20%5B56.904251%2C%2060.600816%2C%20-0.6939181540880848%5D%2C%20%5B56.904251%2C%2060.600816%2C%20-0.6939181540880848%5D%2C%20%5B56.904251%2C%2060.600816%2C%20-0.6939181540880848%5D%2C%20%5B56.904251%2C%2060.600816%2C%20-0.6939181540880848%5D%2C%20%5B56.904251%2C%2060.600816%2C%20-0.6939181540880848%5D%2C%20%5B56.904251%2C%2060.600816%2C%20-0.6939181540880848%5D%2C%20%5B56.904251%2C%2060.600816%2C%20-0.6939181540880848%5D%2C%20%5B56.904251%2C%2060.600816%2C%20-0.6939181540880848%5D%2C%20%5B56.904251%2C%2060.600816%2C%20-0.6939181540880848%5D%2C%20%5B56.904251%2C%2060.600816%2C%20-0.6939181540880848%5D%2C%20%5B56.904251%2C%2060.600816%2C%20-0.6939181540880848%5D%2C%20%5B56.904251%2C%2060.600816%2C%20-0.6939181540880848%5D%2C%20%5B56.904251%2C%2060.600816%2C%20-0.6939181540880848%5D%2C%20%5B56.904251%2C%2060.600816%2C%20-0.6939181540880848%5D%2C%20%5B56.904251%2C%2060.600816%2C%20-0.6939181540880848%5D%2C%20%5B56.904251%2C%2060.600816%2C%20-0.6939181540880848%5D%2C%20%5B56.904251%2C%2060.600816%2C%20-0.6939181540880848%5D%2C%20%5B56.904251%2C%2060.600816%2C%20-0.6939181540880848%5D%2C%20%5B56.869248999999996%2C%2060.554713%2C%20-0.6074779602170174%5D%2C%20%5B56.869248999999996%2C%2060.554713%2C%20-0.6074779602170174%5D%2C%20%5B56.869248999999996%2C%2060.554713%2C%20-0.6074779602170174%5D%2C%20%5B56.869248999999996%2C%2060.554713%2C%20-0.6074779602170174%5D%2C%20%5B56.869248999999996%2C%2060.554713%2C%20-0.6074779602170174%5D%2C%20%5B56.869248999999996%2C%2060.554713%2C%20-0.6074779602170174%5D%2C%20%5B56.869248999999996%2C%2060.554713%2C%20-0.6074779602170174%5D%2C%20%5B56.869248999999996%2C%2060.554713%2C%20-0.6074779602170174%5D%2C%20%5B56.869248999999996%2C%2060.554713%2C%20-0.6074779602170174%5D%2C%20%5B56.869248999999996%2C%2060.554713%2C%20-0.6074779602170174%5D%2C%20%5B56.869248999999996%2C%2060.554713%2C%20-0.6074779602170174%5D%2C%20%5B56.869248999999996%2C%2060.554713%2C%20-0.6074779602170174%5D%2C%20%5B56.869248999999996%2C%2060.554713%2C%20-0.6074779602170174%5D%2C%20%5B56.869248999999996%2C%2060.554713%2C%20-0.6074779602170174%5D%2C%20%5B56.869248999999996%2C%2060.554713%2C%20-0.6074779602170174%5D%2C%20%5B56.869248999999996%2C%2060.554713%2C%20-0.6074779602170174%5D%2C%20%5B56.869248999999996%2C%2060.554713%2C%20-0.6074779602170174%5D%2C%20%5B56.869248999999996%2C%2060.554713%2C%20-0.6074779602170174%5D%2C%20%5B56.869248999999996%2C%2060.554713%2C%20-0.6074779602170174%5D%2C%20%5B56.869248999999996%2C%2060.554713%2C%20-0.6074779602170174%5D%2C%20%5B56.869248999999996%2C%2060.554713%2C%20-0.6074779602170174%5D%2C%20%5B56.79685500000001%2C%2060.62619399999999%2C%20-0.39137747553934893%5D%2C%20%5B56.79685500000001%2C%2060.62619399999999%2C%20-0.39137747553934893%5D%2C%20%5B56.79685500000001%2C%2060.62619399999999%2C%20-0.39137747553934893%5D%2C%20%5B56.79685500000001%2C%2060.62619399999999%2C%20-0.39137747553934893%5D%2C%20%5B56.79685500000001%2C%2060.62619399999999%2C%20-0.39137747553934893%5D%2C%20%5B56.79685500000001%2C%2060.62619399999999%2C%20-0.39137747553934893%5D%2C%20%5B56.79685500000001%2C%2060.62619399999999%2C%20-0.39137747553934893%5D%2C%20%5B56.79685500000001%2C%2060.62619399999999%2C%20-0.39137747553934893%5D%2C%20%5B56.79685500000001%2C%2060.62619399999999%2C%20-0.39137747553934893%5D%2C%20%5B56.79685500000001%2C%2060.62619399999999%2C%20-0.39137747553934893%5D%2C%20%5B56.79685500000001%2C%2060.62619399999999%2C%20-0.39137747553934893%5D%2C%20%5B56.79685500000001%2C%2060.62619399999999%2C%20-0.39137747553934893%5D%2C%20%5B56.79685500000001%2C%2060.62619399999999%2C%20-0.39137747553934893%5D%2C%20%5B56.79685500000001%2C%2060.62619399999999%2C%20-0.39137747553934893%5D%2C%20%5B56.79685500000001%2C%2060.62619399999999%2C%20-0.39137747553934893%5D%2C%20%5B56.79685500000001%2C%2060.62619399999999%2C%20-0.39137747553934893%5D%2C%20%5B56.79685500000001%2C%2060.62619399999999%2C%20-0.39137747553934893%5D%2C%20%5B56.79685500000001%2C%2060.62619399999999%2C%20-0.39137747553934893%5D%2C%20%5B56.79685500000001%2C%2060.62619399999999%2C%20-0.39137747553934893%5D%2C%20%5B56.79685500000001%2C%2060.62619399999999%2C%20-0.39137747553934893%5D%2C%20%5B56.79685500000001%2C%2060.62619399999999%2C%20-0.39137747553934893%5D%2C%20%5B56.829097999999995%2C%2060.598983999999994%2C%20-0.9532387357012869%5D%2C%20%5B56.829097999999995%2C%2060.598983999999994%2C%20-0.9532387357012869%5D%2C%20%5B56.829097999999995%2C%2060.598983999999994%2C%20-0.9532387357012869%5D%2C%20%5B56.829097999999995%2C%2060.598983999999994%2C%20-0.9532387357012869%5D%2C%20%5B56.829097999999995%2C%2060.598983999999994%2C%20-0.9532387357012869%5D%2C%20%5B56.829097999999995%2C%2060.598983999999994%2C%20-0.9532387357012869%5D%2C%20%5B56.829097999999995%2C%2060.598983999999994%2C%20-0.9532387357012869%5D%2C%20%5B56.829097999999995%2C%2060.598983999999994%2C%20-0.9532387357012869%5D%2C%20%5B56.829097999999995%2C%2060.598983999999994%2C%20-0.9532387357012869%5D%2C%20%5B56.829097999999995%2C%2060.598983999999994%2C%20-0.9532387357012869%5D%2C%20%5B56.829097999999995%2C%2060.598983999999994%2C%20-0.9532387357012869%5D%2C%20%5B56.829097999999995%2C%2060.598983999999994%2C%20-0.9532387357012869%5D%2C%20%5B56.829097999999995%2C%2060.598983999999994%2C%20-0.9532387357012869%5D%2C%20%5B56.829097999999995%2C%2060.598983999999994%2C%20-0.9532387357012869%5D%2C%20%5B56.829097999999995%2C%2060.598983999999994%2C%20-0.9532387357012869%5D%2C%20%5B56.829097999999995%2C%2060.598983999999994%2C%20-0.9532387357012869%5D%2C%20%5B56.829097999999995%2C%2060.598983999999994%2C%20-0.9532387357012869%5D%2C%20%5B56.829097999999995%2C%2060.598983999999994%2C%20-0.9532387357012869%5D%2C%20%5B56.829097999999995%2C%2060.598983999999994%2C%20-0.9532387357012869%5D%2C%20%5B56.829097999999995%2C%2060.598983999999994%2C%20-0.9532387357012869%5D%2C%20%5B56.829097999999995%2C%2060.598983999999994%2C%20-0.9532387357012869%5D%2C%20%5B56.853301%2C%2060.549152%2C%200.30014407542919014%5D%2C%20%5B56.853301%2C%2060.549152%2C%200.30014407542919014%5D%2C%20%5B56.853301%2C%2060.549152%2C%200.30014407542919014%5D%2C%20%5B56.853301%2C%2060.549152%2C%200.30014407542919014%5D%2C%20%5B56.853301%2C%2060.549152%2C%200.30014407542919014%5D%2C%20%5B56.853301%2C%2060.549152%2C%200.30014407542919014%5D%2C%20%5B56.853301%2C%2060.549152%2C%200.30014407542919014%5D%2C%20%5B56.853301%2C%2060.549152%2C%200.30014407542919014%5D%2C%20%5B56.853301%2C%2060.549152%2C%200.30014407542919014%5D%2C%20%5B56.853301%2C%2060.549152%2C%200.30014407542919014%5D%2C%20%5B56.853301%2C%2060.549152%2C%200.30014407542919014%5D%2C%20%5B56.853301%2C%2060.549152%2C%200.30014407542919014%5D%2C%20%5B56.853301%2C%2060.549152%2C%200.30014407542919014%5D%2C%20%5B56.853301%2C%2060.549152%2C%200.30014407542919014%5D%2C%20%5B56.853301%2C%2060.549152%2C%200.30014407542919014%5D%2C%20%5B56.853301%2C%2060.549152%2C%200.30014407542919014%5D%2C%20%5B56.853301%2C%2060.549152%2C%200.30014407542919014%5D%2C%20%5B56.853301%2C%2060.549152%2C%200.30014407542919014%5D%2C%20%5B56.853301%2C%2060.549152%2C%200.30014407542919014%5D%2C%20%5B56.853301%2C%2060.549152%2C%200.30014407542919014%5D%2C%20%5B56.853301%2C%2060.549152%2C%200.30014407542919014%5D%2C%20%5B56.830029%2C%2060.545255000000004%2C%20-0.045616700055079396%5D%2C%20%5B56.830029%2C%2060.545255000000004%2C%20-0.045616700055079396%5D%2C%20%5B56.830029%2C%2060.545255000000004%2C%20-0.045616700055079396%5D%2C%20%5B56.830029%2C%2060.545255000000004%2C%20-0.045616700055079396%5D%2C%20%5B56.830029%2C%2060.545255000000004%2C%20-0.045616700055079396%5D%2C%20%5B56.830029%2C%2060.545255000000004%2C%20-0.045616700055079396%5D%2C%20%5B56.830029%2C%2060.545255000000004%2C%20-0.045616700055079396%5D%2C%20%5B56.830029%2C%2060.545255000000004%2C%20-0.045616700055079396%5D%2C%20%5B56.830029%2C%2060.545255000000004%2C%20-0.045616700055079396%5D%2C%20%5B56.830029%2C%2060.545255000000004%2C%20-0.045616700055079396%5D%2C%20%5B56.830029%2C%2060.545255000000004%2C%20-0.045616700055079396%5D%2C%20%5B56.830029%2C%2060.545255000000004%2C%20-0.045616700055079396%5D%2C%20%5B56.830029%2C%2060.545255000000004%2C%20-0.045616700055079396%5D%2C%20%5B56.830029%2C%2060.545255000000004%2C%20-0.045616700055079396%5D%2C%20%5B56.830029%2C%2060.545255000000004%2C%20-0.045616700055079396%5D%2C%20%5B56.830029%2C%2060.545255000000004%2C%20-0.045616700055079396%5D%2C%20%5B56.830029%2C%2060.545255000000004%2C%20-0.045616700055079396%5D%2C%20%5B56.830029%2C%2060.545255000000004%2C%20-0.045616700055079396%5D%2C%20%5B56.830029%2C%2060.545255000000004%2C%20-0.045616700055079396%5D%2C%20%5B56.830029%2C%2060.545255000000004%2C%20-0.045616700055079396%5D%2C%20%5B56.830029%2C%2060.545255000000004%2C%20-0.045616700055079396%5D%2C%20%5B56.79343000000001%2C%2060.519689%2C%201.164546014139864%5D%2C%20%5B56.79343000000001%2C%2060.519689%2C%201.164546014139864%5D%2C%20%5B56.79343000000001%2C%2060.519689%2C%201.164546014139864%5D%2C%20%5B56.79343000000001%2C%2060.519689%2C%201.164546014139864%5D%2C%20%5B56.79343000000001%2C%2060.519689%2C%201.164546014139864%5D%2C%20%5B56.79343000000001%2C%2060.519689%2C%201.164546014139864%5D%2C%20%5B56.79343000000001%2C%2060.519689%2C%201.164546014139864%5D%2C%20%5B56.79343000000001%2C%2060.519689%2C%201.164546014139864%5D%2C%20%5B56.79343000000001%2C%2060.519689%2C%201.164546014139864%5D%2C%20%5B56.79343000000001%2C%2060.519689%2C%201.164546014139864%5D%2C%20%5B56.79343000000001%2C%2060.519689%2C%201.164546014139864%5D%2C%20%5B56.79343000000001%2C%2060.519689%2C%201.164546014139864%5D%2C%20%5B56.79343000000001%2C%2060.519689%2C%201.164546014139864%5D%2C%20%5B56.79343000000001%2C%2060.519689%2C%201.164546014139864%5D%2C%20%5B56.79343000000001%2C%2060.519689%2C%201.164546014139864%5D%2C%20%5B56.79343000000001%2C%2060.519689%2C%201.164546014139864%5D%2C%20%5B56.79343000000001%2C%2060.519689%2C%201.164546014139864%5D%2C%20%5B56.79343000000001%2C%2060.519689%2C%201.164546014139864%5D%2C%20%5B56.79343000000001%2C%2060.519689%2C%201.164546014139864%5D%2C%20%5B56.79343000000001%2C%2060.519689%2C%201.164546014139864%5D%2C%20%5B56.79343000000001%2C%2060.519689%2C%201.164546014139864%5D%2C%20%5B56.856609999999996%2C%2060.65333100000001%2C%20-0.6939181540880848%5D%2C%20%5B56.856609999999996%2C%2060.65333100000001%2C%20-0.6939181540880848%5D%2C%20%5B56.856609999999996%2C%2060.65333100000001%2C%20-0.6939181540880848%5D%2C%20%5B56.856609999999996%2C%2060.65333100000001%2C%20-0.6939181540880848%5D%2C%20%5B56.856609999999996%2C%2060.65333100000001%2C%20-0.6939181540880848%5D%2C%20%5B56.856609999999996%2C%2060.65333100000001%2C%20-0.6939181540880848%5D%2C%20%5B56.856609999999996%2C%2060.65333100000001%2C%20-0.6939181540880848%5D%2C%20%5B56.856609999999996%2C%2060.65333100000001%2C%20-0.6939181540880848%5D%2C%20%5B56.856609999999996%2C%2060.65333100000001%2C%20-0.6939181540880848%5D%2C%20%5B56.856609999999996%2C%2060.65333100000001%2C%20-0.6939181540880848%5D%2C%20%5B56.856609999999996%2C%2060.65333100000001%2C%20-0.6939181540880848%5D%2C%20%5B56.856609999999996%2C%2060.65333100000001%2C%20-0.6939181540880848%5D%2C%20%5B56.856609999999996%2C%2060.65333100000001%2C%20-0.6939181540880848%5D%2C%20%5B56.856609999999996%2C%2060.65333100000001%2C%20-0.6939181540880848%5D%2C%20%5B56.856609999999996%2C%2060.65333100000001%2C%20-0.6939181540880848%5D%2C%20%5B56.856609999999996%2C%2060.65333100000001%2C%20-0.6939181540880848%5D%2C%20%5B56.856609999999996%2C%2060.65333100000001%2C%20-0.6939181540880848%5D%2C%20%5B56.856609999999996%2C%2060.65333100000001%2C%20-0.6939181540880848%5D%2C%20%5B56.856609999999996%2C%2060.65333100000001%2C%20-0.6939181540880848%5D%2C%20%5B56.856609999999996%2C%2060.65333100000001%2C%20-0.6939181540880848%5D%2C%20%5B56.856609999999996%2C%2060.65333100000001%2C%20-0.6939181540880848%5D%2C%20%5B56.816863%2C%2060.537870999999996%2C%20-0.002396603119545705%5D%2C%20%5B56.816863%2C%2060.537870999999996%2C%20-0.002396603119545705%5D%2C%20%5B56.816863%2C%2060.537870999999996%2C%20-0.002396603119545705%5D%2C%20%5B56.816863%2C%2060.537870999999996%2C%20-0.002396603119545705%5D%2C%20%5B56.816863%2C%2060.537870999999996%2C%20-0.002396603119545705%5D%2C%20%5B56.816863%2C%2060.537870999999996%2C%20-0.002396603119545705%5D%2C%20%5B56.816863%2C%2060.537870999999996%2C%20-0.002396603119545705%5D%2C%20%5B56.816863%2C%2060.537870999999996%2C%20-0.002396603119545705%5D%2C%20%5B56.816863%2C%2060.537870999999996%2C%20-0.002396603119545705%5D%2C%20%5B56.816863%2C%2060.537870999999996%2C%20-0.002396603119545705%5D%2C%20%5B56.816863%2C%2060.537870999999996%2C%20-0.002396603119545705%5D%2C%20%5B56.816863%2C%2060.537870999999996%2C%20-0.002396603119545705%5D%2C%20%5B56.816863%2C%2060.537870999999996%2C%20-0.002396603119545705%5D%2C%20%5B56.816863%2C%2060.537870999999996%2C%20-0.002396603119545705%5D%2C%20%5B56.816863%2C%2060.537870999999996%2C%20-0.002396603119545705%5D%2C%20%5B56.816863%2C%2060.537870999999996%2C%20-0.002396603119545705%5D%2C%20%5B56.816863%2C%2060.537870999999996%2C%20-0.002396603119545705%5D%2C%20%5B56.816863%2C%2060.537870999999996%2C%20-0.002396603119545705%5D%2C%20%5B56.816863%2C%2060.537870999999996%2C%20-0.002396603119545705%5D%2C%20%5B56.816863%2C%2060.537870999999996%2C%20-0.002396603119545705%5D%2C%20%5B56.816863%2C%2060.537870999999996%2C%20-0.002396603119545705%5D%2C%20%5B56.834796%2C%2060.595022%2C%20-1.1261191234434216%5D%2C%20%5B56.834796%2C%2060.595022%2C%20-1.1261191234434216%5D%2C%20%5B56.834796%2C%2060.595022%2C%20-1.1261191234434216%5D%2C%20%5B56.834796%2C%2060.595022%2C%20-1.1261191234434216%5D%2C%20%5B56.834796%2C%2060.595022%2C%20-1.1261191234434216%5D%2C%20%5B56.834796%2C%2060.595022%2C%20-1.1261191234434216%5D%2C%20%5B56.834796%2C%2060.595022%2C%20-1.1261191234434216%5D%2C%20%5B56.834796%2C%2060.595022%2C%20-1.1261191234434216%5D%2C%20%5B56.834796%2C%2060.595022%2C%20-1.1261191234434216%5D%2C%20%5B56.834796%2C%2060.595022%2C%20-1.1261191234434216%5D%2C%20%5B56.834796%2C%2060.595022%2C%20-1.1261191234434216%5D%2C%20%5B56.834796%2C%2060.595022%2C%20-1.1261191234434216%5D%2C%20%5B56.834796%2C%2060.595022%2C%20-1.1261191234434216%5D%2C%20%5B56.834796%2C%2060.595022%2C%20-1.1261191234434216%5D%2C%20%5B56.834796%2C%2060.595022%2C%20-1.1261191234434216%5D%2C%20%5B56.834796%2C%2060.595022%2C%20-1.1261191234434216%5D%2C%20%5B56.834796%2C%2060.595022%2C%20-1.1261191234434216%5D%2C%20%5B56.834796%2C%2060.595022%2C%20-1.1261191234434216%5D%2C%20%5B56.834796%2C%2060.595022%2C%20-1.1261191234434216%5D%2C%20%5B56.834796%2C%2060.595022%2C%20-1.1261191234434216%5D%2C%20%5B56.834796%2C%2060.595022%2C%20-1.1261191234434216%5D%2C%20%5B56.788548999999996%2C%2060.64901999999999%2C%20-1.3422196081210902%5D%2C%20%5B56.788548999999996%2C%2060.64901999999999%2C%20-1.3422196081210902%5D%2C%20%5B56.788548999999996%2C%2060.64901999999999%2C%20-1.3422196081210902%5D%2C%20%5B56.788548999999996%2C%2060.64901999999999%2C%20-1.3422196081210902%5D%2C%20%5B56.788548999999996%2C%2060.64901999999999%2C%20-1.3422196081210902%5D%2C%20%5B56.788548999999996%2C%2060.64901999999999%2C%20-1.3422196081210902%5D%2C%20%5B56.788548999999996%2C%2060.64901999999999%2C%20-1.3422196081210902%5D%2C%20%5B56.788548999999996%2C%2060.64901999999999%2C%20-1.3422196081210902%5D%2C%20%5B56.788548999999996%2C%2060.64901999999999%2C%20-1.3422196081210902%5D%2C%20%5B56.788548999999996%2C%2060.64901999999999%2C%20-1.3422196081210902%5D%2C%20%5B56.788548999999996%2C%2060.64901999999999%2C%20-1.3422196081210902%5D%2C%20%5B56.788548999999996%2C%2060.64901999999999%2C%20-1.3422196081210902%5D%2C%20%5B56.788548999999996%2C%2060.64901999999999%2C%20-1.3422196081210902%5D%2C%20%5B56.788548999999996%2C%2060.64901999999999%2C%20-1.3422196081210902%5D%2C%20%5B56.788548999999996%2C%2060.64901999999999%2C%20-1.3422196081210902%5D%2C%20%5B56.788548999999996%2C%2060.64901999999999%2C%20-1.3422196081210902%5D%2C%20%5B56.788548999999996%2C%2060.64901999999999%2C%20-1.3422196081210902%5D%2C%20%5B56.788548999999996%2C%2060.64901999999999%2C%20-1.3422196081210902%5D%2C%20%5B56.788548999999996%2C%2060.64901999999999%2C%20-1.3422196081210902%5D%2C%20%5B56.788548999999996%2C%2060.64901999999999%2C%20-1.3422196081210902%5D%2C%20%5B56.788548999999996%2C%2060.64901999999999%2C%20-1.3422196081210902%5D%2C%20%5B56.806185%2C%2060.556456999999995%2C%20-0.6939181540880848%5D%2C%20%5B56.806185%2C%2060.556456999999995%2C%20-0.6939181540880848%5D%2C%20%5B56.806185%2C%2060.556456999999995%2C%20-0.6939181540880848%5D%2C%20%5B56.806185%2C%2060.556456999999995%2C%20-0.6939181540880848%5D%2C%20%5B56.806185%2C%2060.556456999999995%2C%20-0.6939181540880848%5D%2C%20%5B56.806185%2C%2060.556456999999995%2C%20-0.6939181540880848%5D%2C%20%5B56.806185%2C%2060.556456999999995%2C%20-0.6939181540880848%5D%2C%20%5B56.806185%2C%2060.556456999999995%2C%20-0.6939181540880848%5D%2C%20%5B56.806185%2C%2060.556456999999995%2C%20-0.6939181540880848%5D%2C%20%5B56.806185%2C%2060.556456999999995%2C%20-0.6939181540880848%5D%2C%20%5B56.806185%2C%2060.556456999999995%2C%20-0.6939181540880848%5D%2C%20%5B56.806185%2C%2060.556456999999995%2C%20-0.6939181540880848%5D%2C%20%5B56.806185%2C%2060.556456999999995%2C%20-0.6939181540880848%5D%2C%20%5B56.806185%2C%2060.556456999999995%2C%20-0.6939181540880848%5D%2C%20%5B56.806185%2C%2060.556456999999995%2C%20-0.6939181540880848%5D%2C%20%5B56.806185%2C%2060.556456999999995%2C%20-0.6939181540880848%5D%2C%20%5B56.806185%2C%2060.556456999999995%2C%20-0.6939181540880848%5D%2C%20%5B56.806185%2C%2060.556456999999995%2C%20-0.6939181540880848%5D%2C%20%5B56.806185%2C%2060.556456999999995%2C%20-0.6939181540880848%5D%2C%20%5B56.806185%2C%2060.556456999999995%2C%20-0.6939181540880848%5D%2C%20%5B56.806185%2C%2060.556456999999995%2C%20-0.6939181540880848%5D%2C%20%5B56.86539200000001%2C%2060.5324%2C%20-0.4778176694104163%5D%2C%20%5B56.86539200000001%2C%2060.5324%2C%20-0.4778176694104163%5D%2C%20%5B56.86539200000001%2C%2060.5324%2C%20-0.4778176694104163%5D%2C%20%5B56.86539200000001%2C%2060.5324%2C%20-0.4778176694104163%5D%2C%20%5B56.86539200000001%2C%2060.5324%2C%20-0.4778176694104163%5D%2C%20%5B56.86539200000001%2C%2060.5324%2C%20-0.4778176694104163%5D%2C%20%5B56.86539200000001%2C%2060.5324%2C%20-0.4778176694104163%5D%2C%20%5B56.86539200000001%2C%2060.5324%2C%20-0.4778176694104163%5D%2C%20%5B56.86539200000001%2C%2060.5324%2C%20-0.4778176694104163%5D%2C%20%5B56.86539200000001%2C%2060.5324%2C%20-0.4778176694104163%5D%2C%20%5B56.86539200000001%2C%2060.5324%2C%20-0.4778176694104163%5D%2C%20%5B56.86539200000001%2C%2060.5324%2C%20-0.4778176694104163%5D%2C%20%5B56.86539200000001%2C%2060.5324%2C%20-0.4778176694104163%5D%2C%20%5B56.86539200000001%2C%2060.5324%2C%20-0.4778176694104163%5D%2C%20%5B56.86539200000001%2C%2060.5324%2C%20-0.4778176694104163%5D%2C%20%5B56.86539200000001%2C%2060.5324%2C%20-0.4778176694104163%5D%2C%20%5B56.86539200000001%2C%2060.5324%2C%20-0.4778176694104163%5D%2C%20%5B56.86539200000001%2C%2060.5324%2C%20-0.4778176694104163%5D%2C%20%5B56.86539200000001%2C%2060.5324%2C%20-0.4778176694104163%5D%2C%20%5B56.86539200000001%2C%2060.5324%2C%20-0.4778176694104163%5D%2C%20%5B56.86539200000001%2C%2060.5324%2C%20-0.4778176694104163%5D%2C%20%5B56.848247%2C%2060.616914%2C%20-0.17527699086168047%5D%2C%20%5B56.848247%2C%2060.616914%2C%20-0.17527699086168047%5D%2C%20%5B56.848247%2C%2060.616914%2C%20-0.17527699086168047%5D%2C%20%5B56.848247%2C%2060.616914%2C%20-0.17527699086168047%5D%2C%20%5B56.848247%2C%2060.616914%2C%20-0.17527699086168047%5D%2C%20%5B56.848247%2C%2060.616914%2C%20-0.17527699086168047%5D%2C%20%5B56.848247%2C%2060.616914%2C%20-0.17527699086168047%5D%2C%20%5B56.848247%2C%2060.616914%2C%20-0.17527699086168047%5D%2C%20%5B56.848247%2C%2060.616914%2C%20-0.17527699086168047%5D%2C%20%5B56.848247%2C%2060.616914%2C%20-0.17527699086168047%5D%2C%20%5B56.848247%2C%2060.616914%2C%20-0.17527699086168047%5D%2C%20%5B56.848247%2C%2060.616914%2C%20-0.17527699086168047%5D%2C%20%5B56.848247%2C%2060.616914%2C%20-0.17527699086168047%5D%2C%20%5B56.848247%2C%2060.616914%2C%20-0.17527699086168047%5D%2C%20%5B56.848247%2C%2060.616914%2C%20-0.17527699086168047%5D%2C%20%5B56.848247%2C%2060.616914%2C%20-0.17527699086168047%5D%2C%20%5B56.848247%2C%2060.616914%2C%20-0.17527699086168047%5D%2C%20%5B56.848247%2C%2060.616914%2C%20-0.17527699086168047%5D%2C%20%5B56.848247%2C%2060.616914%2C%20-0.17527699086168047%5D%2C%20%5B56.848247%2C%2060.616914%2C%20-0.17527699086168047%5D%2C%20%5B56.848247%2C%2060.616914%2C%20-0.17527699086168047%5D%5D%2C%0A%20%20%20%20%20%20%20%20%20%20%20%20%20%20%20%20%7B%22blur%22%3A%2015%2C%20%22maxZoom%22%3A%2018%2C%20%22minOpacity%22%3A%200.5%2C%20%22radius%22%3A%2010%7D%0A%20%20%20%20%20%20%20%20%20%20%20%20%29.addTo%28map_db7eb1f123eb42289403a6e2cc52c685%29%3B%0A%20%20%20%20%20%20%20%20%0A%3C/script%3E onload=\"this.contentDocument.open();this.contentDocument.write(    decodeURIComponent(this.getAttribute('data-html')));this.contentDocument.close();\" allowfullscreen webkitallowfullscreen mozallowfullscreen></iframe></div></div>"
      ],
      "text/plain": [
       "<folium.folium.Map at 0x296c60cab20>"
      ]
     },
     "execution_count": 649,
     "metadata": {},
     "output_type": "execute_result"
    }
   ],
   "source": [
    "m = folium.Map(location=[ekb_poly.centroid.coords[0][1], ekb_poly.centroid.coords[0][0]], \n",
    "               zoom_start=11, \n",
    "               tiles='cartodbpositron')\n",
    "\n",
    "HeatMap(ekb_points[['lat','lon', 'target']],\n",
    "        radius=10).add_to(m)\n",
    "\n",
    "m"
   ]
  },
  {
   "cell_type": "code",
   "execution_count": 181,
   "metadata": {
    "scrolled": true
   },
   "outputs": [],
   "source": [
    "ekb_points.iloc[:,1] = ekb_points.iloc[:,1].astype(float)\n",
    "ekb_points.iloc[:,2] = ekb_points.iloc[:,2].astype(float)\n",
    "ekb_points.iloc[:,3] = ekb_points.iloc[:,3].astype(float)"
   ]
  },
  {
   "cell_type": "code",
   "execution_count": 650,
   "metadata": {},
   "outputs": [
    {
     "data": {
      "text/html": [
       "<div>\n",
       "<style scoped>\n",
       "    .dataframe tbody tr th:only-of-type {\n",
       "        vertical-align: middle;\n",
       "    }\n",
       "\n",
       "    .dataframe tbody tr th {\n",
       "        vertical-align: top;\n",
       "    }\n",
       "\n",
       "    .dataframe thead th {\n",
       "        text-align: right;\n",
       "    }\n",
       "</style>\n",
       "<table border=\"1\" class=\"dataframe\">\n",
       "  <thead>\n",
       "    <tr style=\"text-align: right;\">\n",
       "      <th></th>\n",
       "      <th>lat</th>\n",
       "      <th>lon</th>\n",
       "      <th>target</th>\n",
       "    </tr>\n",
       "  </thead>\n",
       "  <tbody>\n",
       "    <tr>\n",
       "      <th>35700</th>\n",
       "      <td>56.769296</td>\n",
       "      <td>60.613168</td>\n",
       "      <td>0.040823</td>\n",
       "    </tr>\n",
       "    <tr>\n",
       "      <th>35701</th>\n",
       "      <td>56.769296</td>\n",
       "      <td>60.613168</td>\n",
       "      <td>0.040823</td>\n",
       "    </tr>\n",
       "    <tr>\n",
       "      <th>35702</th>\n",
       "      <td>56.769296</td>\n",
       "      <td>60.613168</td>\n",
       "      <td>0.040823</td>\n",
       "    </tr>\n",
       "    <tr>\n",
       "      <th>35703</th>\n",
       "      <td>56.769296</td>\n",
       "      <td>60.613168</td>\n",
       "      <td>0.040823</td>\n",
       "    </tr>\n",
       "    <tr>\n",
       "      <th>35704</th>\n",
       "      <td>56.769296</td>\n",
       "      <td>60.613168</td>\n",
       "      <td>0.040823</td>\n",
       "    </tr>\n",
       "  </tbody>\n",
       "</table>\n",
       "</div>"
      ],
      "text/plain": [
       "             lat        lon    target\n",
       "35700  56.769296  60.613168  0.040823\n",
       "35701  56.769296  60.613168  0.040823\n",
       "35702  56.769296  60.613168  0.040823\n",
       "35703  56.769296  60.613168  0.040823\n",
       "35704  56.769296  60.613168  0.040823"
      ]
     },
     "execution_count": 650,
     "metadata": {},
     "output_type": "execute_result"
    }
   ],
   "source": [
    "ekb_points[['lat','lon', 'target']].head()"
   ]
  },
  {
   "cell_type": "markdown",
   "metadata": {},
   "source": [
    "#### Карты Санкт-Петербурга"
   ]
  },
  {
   "cell_type": "markdown",
   "metadata": {},
   "source": [
    "##### Собираем данные с overpass api, чтоб отобразить их. Карта города составлена из районов."
   ]
  },
  {
   "cell_type": "code",
   "execution_count": 203,
   "metadata": {},
   "outputs": [],
   "source": [
    "response = api.get('area[admin_level=4][\"name\"=\"Санкт-Петербург\"][boundary=administrative]->.arr;(node(area.arr)[\"aeroway\"=\"aerodrome\"];way(area.arr)[\"aeroway\"=\"aerodrome\"];)', verbosity='body geom')\n",
    "\n",
    "aero = gpd.GeoDataFrame.from_features(response)\n",
    "aero = aero[['name', 'geometry']]"
   ]
  },
  {
   "cell_type": "code",
   "execution_count": 214,
   "metadata": {},
   "outputs": [],
   "source": [
    "response = api.get('area[admin_level=4][\"name\"=\"Санкт-Петербург\"][boundary=administrative]->.arr;(node(area.arr)[\"railway\"=\"station\"];)', verbosity='body geom')\n",
    "railway = gpd.GeoDataFrame.from_features(response)\n",
    "railway = railway[['name', 'geometry']]"
   ]
  },
  {
   "cell_type": "code",
   "execution_count": 213,
   "metadata": {},
   "outputs": [],
   "source": [
    "response = api.get('area[admin_level=4][\"name\"=\"Санкт-Петербург\"][boundary=administrative]->.arr;(node(area.arr)[\"landuse\"=\"military\"];)', verbosity='body geom')\n",
    "mil = gpd.GeoDataFrame.from_features(response)\n",
    "mil = mil['geometry']"
   ]
  },
  {
   "cell_type": "code",
   "execution_count": 219,
   "metadata": {},
   "outputs": [],
   "source": [
    "response = api.get('area[admin_level=4][\"name\"=\"Санкт-Петербург\"][boundary=administrative]->.arr;(node(area.arr)[\"amenity\"=\"prison\"];way(area.arr)[\"amenity\"=\"prison\"];)', verbosity='body geom')\n",
    "prison = gpd.GeoDataFrame.from_features(response)\n",
    "prison = prison['geometry']"
   ]
  },
  {
   "cell_type": "code",
   "execution_count": 224,
   "metadata": {},
   "outputs": [],
   "source": [
    "response = api.get('area[admin_level=4][\"name\"=\"Санкт-Петербург\"][boundary=administrative]->.arr;(node(area.arr)[\"leisure\"=\"summer_camp\"];way(area.arr)[\"leisure\"=\"summer_camp\"];)', verbosity='body geom')\n",
    "camps = gpd.GeoDataFrame.from_features(response)\n",
    "camps = camps['geometry']"
   ]
  },
  {
   "cell_type": "code",
   "execution_count": 230,
   "metadata": {},
   "outputs": [],
   "source": [
    "response = api.get('area[admin_level=4][\"name\"=\"Санкт-Петербург\"][boundary=administrative]->.arr;(node(area.arr)[\"railway\"=\"subway_entrance\"];way(area.arr)[\"railway\"=\"subway_entrance\"];)', verbosity='body geom')\n",
    "subway = gpd.GeoDataFrame.from_features(response)\n",
    "subway = subway['geometry']"
   ]
  },
  {
   "cell_type": "code",
   "execution_count": 235,
   "metadata": {},
   "outputs": [],
   "source": [
    "response = api.get('area[admin_level=4][\"name\"=\"Санкт-Петербург\"][boundary=administrative]->.arr;(node(area.arr)[\"amenity\"=\"social_facility\"];way(area.arr)[\"amenity\"=\"social_facility\"];)', verbosity='body geom')\n",
    "social = gpd.GeoDataFrame.from_features(response)\n",
    "social = social['geometry']"
   ]
  },
  {
   "cell_type": "code",
   "execution_count": null,
   "metadata": {},
   "outputs": [],
   "source": [
    "spb_poly = adlvl4[adlvl4['name'] == 'Санкт-Петербург'].iloc[0,1]\n",
    "spb_points = msk_spb[msk_spb['name'] == 'Санкт-Петербург']"
   ]
  },
  {
   "cell_type": "code",
   "execution_count": 197,
   "metadata": {},
   "outputs": [],
   "source": [
    "spb_points.iloc[:,1] = spb_points.iloc[:,1].astype(float)\n",
    "spb_points.iloc[:,2] = spb_points.iloc[:,2].astype(float)\n",
    "spb_points.iloc[:,3] = spb_points.iloc[:,3].astype(float)"
   ]
  },
  {
   "cell_type": "code",
   "execution_count": 295,
   "metadata": {},
   "outputs": [],
   "source": [
    "adlvl5 = gpd.read_file('GeoJSON/admin_level_5.geojson')\n",
    "adlvl5 = adlvl5[['name', 'geometry']]"
   ]
  },
  {
   "cell_type": "code",
   "execution_count": 296,
   "metadata": {},
   "outputs": [],
   "source": [
    "areas = gpd.sjoin(spb_points.drop(columns=['index_right']), adlvl5, op='within')"
   ]
  },
  {
   "cell_type": "code",
   "execution_count": 313,
   "metadata": {},
   "outputs": [],
   "source": [
    "areas_spb = areas['name_right'].drop_duplicates().values"
   ]
  },
  {
   "cell_type": "code",
   "execution_count": 321,
   "metadata": {
    "scrolled": true
   },
   "outputs": [],
   "source": [
    "k = 0\n",
    "geoms = []\n",
    "spb = gpd.GeoDataFrame()\n",
    "for name, geom in adlvl5.values:\n",
    "    if name in areas_spb:\n",
    "        geoms.append(geom)\n",
    "        spb.loc[k,'name'] = name\n",
    "        k += 1"
   ]
  },
  {
   "cell_type": "code",
   "execution_count": 323,
   "metadata": {},
   "outputs": [],
   "source": [
    "spb.insert(1,'geometry', geoms)"
   ]
  },
  {
   "cell_type": "markdown",
   "metadata": {},
   "source": [
    "##### Можем посмотреть расположение всех фичей, что использовали, чтобы не было мешанины - закомментил большую часть, но там все довольно наглядно получается"
   ]
  },
  {
   "cell_type": "code",
   "execution_count": 521,
   "metadata": {},
   "outputs": [
    {
     "data": {
      "text/plain": [
       "<matplotlib.legend.Legend at 0x296c6562c40>"
      ]
     },
     "execution_count": 521,
     "metadata": {},
     "output_type": "execute_result"
    },
    {
     "data": {
      "image/png": "[encoded data removed]",
      "text/plain": [
       "<Figure size 1440x1152 with 1 Axes>"
      ]
     },
     "metadata": {
      "needs_background": "light"
     },
     "output_type": "display_data"
    }
   ],
   "source": [
    "ax = spb.plot(figsize=(20, 16))\n",
    "#ax = buf.plot(color='r', ax=ax, alpha=0.6)\n",
    "ax = spb_points.plot(figsize=(20, 16),ax=ax, color = 'yellow', label='shops')\n",
    "#aero.plot(ax=ax, color = 'red', label='aeroways')\n",
    "#railway.plot(ax=ax, color = 'grey', label='railway stations')\n",
    "#mil.plot(ax=ax, color = 'brown', label='military')\n",
    "#prison.plot(ax=ax, color = 'black', label='prisons')\n",
    "subway.plot(ax=ax, color = 'coral', label='subway entrances')\n",
    "#camps.plot(ax=ax, color = 'cyan', label='summer camps')\n",
    "#social.plot(ax=ax, color = 'lime', label='social houses')\n",
    "ax.legend()"
   ]
  },
  {
   "cell_type": "markdown",
   "metadata": {},
   "source": [
    "##### Heatmap демонтсрирующий распределение таргета"
   ]
  },
  {
   "cell_type": "code",
   "execution_count": 200,
   "metadata": {},
   "outputs": [
    {
     "data": {
      "text/html": [
       "<div style=\"width:100%;\"><div style=\"position:relative;width:100%;height:0;padding-bottom:60%;\"><span style=\"color:#565656\">Make this Notebook Trusted to load map: File -> Trust Notebook</span><iframe src=\"about:blank\" style=\"position:absolute;width:100%;height:100%;left:0;top:0;border:none !important;\" data-html=%3C%21DOCTYPE%20html%3E%0A%3Chead%3E%20%20%20%20%0A%20%20%20%20%3Cmeta%20http-equiv%3D%22content-type%22%20content%3D%22text/html%3B%20charset%3DUTF-8%22%20/%3E%0A%20%20%20%20%0A%20%20%20%20%20%20%20%20%3Cscript%3E%0A%20%20%20%20%20%20%20%20%20%20%20%20L_NO_TOUCH%20%3D%20false%3B%0A%20%20%20%20%20%20%20%20%20%20%20%20L_DISABLE_3D%20%3D%20false%3B%0A%20%20%20%20%20%20%20%20%3C/script%3E%0A%20%20%20%20%0A%20%20%20%20%3Cstyle%3Ehtml%2C%20body%20%7Bwidth%3A%20100%25%3Bheight%3A%20100%25%3Bmargin%3A%200%3Bpadding%3A%200%3B%7D%3C/style%3E%0A%20%20%20%20%3Cstyle%3E%23map%20%7Bposition%3Aabsolute%3Btop%3A0%3Bbottom%3A0%3Bright%3A0%3Bleft%3A0%3B%7D%3C/style%3E%0A%20%20%20%20%3Cscript%20src%3D%22https%3A//cdn.jsdelivr.net/npm/leaflet%401.6.0/dist/leaflet.js%22%3E%3C/script%3E%0A%20%20%20%20%3Cscript%20src%3D%22https%3A//code.jquery.com/jquery-1.12.4.min.js%22%3E%3C/script%3E%0A%20%20%20%20%3Cscript%20src%3D%22https%3A//maxcdn.bootstrapcdn.com/bootstrap/3.2.0/js/bootstrap.min.js%22%3E%3C/script%3E%0A%20%20%20%20%3Cscript%20src%3D%22https%3A//cdnjs.cloudflare.com/ajax/libs/Leaflet.awesome-markers/2.0.2/leaflet.awesome-markers.js%22%3E%3C/script%3E%0A%20%20%20%20%3Clink%20rel%3D%22stylesheet%22%20href%3D%22https%3A//cdn.jsdelivr.net/npm/leaflet%401.6.0/dist/leaflet.css%22/%3E%0A%20%20%20%20%3Clink%20rel%3D%22stylesheet%22%20href%3D%22https%3A//maxcdn.bootstrapcdn.com/bootstrap/3.2.0/css/bootstrap.min.css%22/%3E%0A%20%20%20%20%3Clink%20rel%3D%22stylesheet%22%20href%3D%22https%3A//maxcdn.bootstrapcdn.com/bootstrap/3.2.0/css/bootstrap-theme.min.css%22/%3E%0A%20%20%20%20%3Clink%20rel%3D%22stylesheet%22%20href%3D%22https%3A//maxcdn.bootstrapcdn.com/font-awesome/4.6.3/css/font-awesome.min.css%22/%3E%0A%20%20%20%20%3Clink%20rel%3D%22stylesheet%22%20href%3D%22https%3A//cdnjs.cloudflare.com/ajax/libs/Leaflet.awesome-markers/2.0.2/leaflet.awesome-markers.css%22/%3E%0A%20%20%20%20%3Clink%20rel%3D%22stylesheet%22%20href%3D%22https%3A//cdn.jsdelivr.net/gh/python-visualization/folium/folium/templates/leaflet.awesome.rotate.min.css%22/%3E%0A%20%20%20%20%0A%20%20%20%20%20%20%20%20%20%20%20%20%3Cmeta%20name%3D%22viewport%22%20content%3D%22width%3Ddevice-width%2C%0A%20%20%20%20%20%20%20%20%20%20%20%20%20%20%20%20initial-scale%3D1.0%2C%20maximum-scale%3D1.0%2C%20user-scalable%3Dno%22%20/%3E%0A%20%20%20%20%20%20%20%20%20%20%20%20%3Cstyle%3E%0A%20%20%20%20%20%20%20%20%20%20%20%20%20%20%20%20%23map_3d9a9d4d4831454490de43a7eb8c623b%20%7B%0A%20%20%20%20%20%20%20%20%20%20%20%20%20%20%20%20%20%20%20%20position%3A%20relative%3B%0A%20%20%20%20%20%20%20%20%20%20%20%20%20%20%20%20%20%20%20%20width%3A%20100.0%25%3B%0A%20%20%20%20%20%20%20%20%20%20%20%20%20%20%20%20%20%20%20%20height%3A%20100.0%25%3B%0A%20%20%20%20%20%20%20%20%20%20%20%20%20%20%20%20%20%20%20%20left%3A%200.0%25%3B%0A%20%20%20%20%20%20%20%20%20%20%20%20%20%20%20%20%20%20%20%20top%3A%200.0%25%3B%0A%20%20%20%20%20%20%20%20%20%20%20%20%20%20%20%20%7D%0A%20%20%20%20%20%20%20%20%20%20%20%20%3C/style%3E%0A%20%20%20%20%20%20%20%20%0A%20%20%20%20%3Cscript%20src%3D%22https%3A//cdn.jsdelivr.net/gh/python-visualization/folium%40master/folium/templates/leaflet_heat.min.js%22%3E%3C/script%3E%0A%3C/head%3E%0A%3Cbody%3E%20%20%20%20%0A%20%20%20%20%0A%20%20%20%20%20%20%20%20%20%20%20%20%3Cdiv%20class%3D%22folium-map%22%20id%3D%22map_3d9a9d4d4831454490de43a7eb8c623b%22%20%3E%3C/div%3E%0A%20%20%20%20%20%20%20%20%0A%3C/body%3E%0A%3Cscript%3E%20%20%20%20%0A%20%20%20%20%0A%20%20%20%20%20%20%20%20%20%20%20%20var%20map_3d9a9d4d4831454490de43a7eb8c623b%20%3D%20L.map%28%0A%20%20%20%20%20%20%20%20%20%20%20%20%20%20%20%20%22map_3d9a9d4d4831454490de43a7eb8c623b%22%2C%0A%20%20%20%20%20%20%20%20%20%20%20%20%20%20%20%20%7B%0A%20%20%20%20%20%20%20%20%20%20%20%20%20%20%20%20%20%20%20%20center%3A%20%5B59.96311315647994%2C%2030.065362551569322%5D%2C%0A%20%20%20%20%20%20%20%20%20%20%20%20%20%20%20%20%20%20%20%20crs%3A%20L.CRS.EPSG3857%2C%0A%20%20%20%20%20%20%20%20%20%20%20%20%20%20%20%20%20%20%20%20zoom%3A%2011%2C%0A%20%20%20%20%20%20%20%20%20%20%20%20%20%20%20%20%20%20%20%20zoomControl%3A%20true%2C%0A%20%20%20%20%20%20%20%20%20%20%20%20%20%20%20%20%20%20%20%20preferCanvas%3A%20false%2C%0A%20%20%20%20%20%20%20%20%20%20%20%20%20%20%20%20%7D%0A%20%20%20%20%20%20%20%20%20%20%20%20%29%3B%0A%0A%20%20%20%20%20%20%20%20%20%20%20%20%0A%0A%20%20%20%20%20%20%20%20%0A%20%20%20%20%0A%20%20%20%20%20%20%20%20%20%20%20%20var%20tile_layer_89ab5a7e574a4d82b2fd23d188966b75%20%3D%20L.tileLayer%28%0A%20%20%20%20%20%20%20%20%20%20%20%20%20%20%20%20%22https%3A//cartodb-basemaps-%7Bs%7D.global.ssl.fastly.net/light_all/%7Bz%7D/%7Bx%7D/%7By%7D.png%22%2C%0A%20%20%20%20%20%20%20%20%20%20%20%20%20%20%20%20%7B%22attribution%22%3A%20%22%5Cu0026copy%3B%20%5Cu003ca%20href%3D%5C%22http%3A//www.openstreetmap.org/copyright%5C%22%5Cu003eOpenStreetMap%5Cu003c/a%5Cu003e%20contributors%20%5Cu0026copy%3B%20%5Cu003ca%20href%3D%5C%22http%3A//cartodb.com/attributions%5C%22%5Cu003eCartoDB%5Cu003c/a%5Cu003e%2C%20CartoDB%20%5Cu003ca%20href%20%3D%5C%22http%3A//cartodb.com/attributions%5C%22%5Cu003eattributions%5Cu003c/a%5Cu003e%22%2C%20%22detectRetina%22%3A%20false%2C%20%22maxNativeZoom%22%3A%2018%2C%20%22maxZoom%22%3A%2018%2C%20%22minZoom%22%3A%200%2C%20%22noWrap%22%3A%20false%2C%20%22opacity%22%3A%201%2C%20%22subdomains%22%3A%20%22abc%22%2C%20%22tms%22%3A%20false%7D%0A%20%20%20%20%20%20%20%20%20%20%20%20%29.addTo%28map_3d9a9d4d4831454490de43a7eb8c623b%29%3B%0A%20%20%20%20%20%20%20%20%0A%20%20%20%20%0A%20%20%20%20%20%20%20%20%20%20%20%20var%20heat_map_cb54ffb4164b4dd29cce0e7d23eb6e03%20%3D%20L.heatLayer%28%0A%20%20%20%20%20%20%20%20%20%20%20%20%20%20%20%20%5B%5B59.9214%2C%2030.4685%2C%20-1.0396789295723543%5D%2C%20%5B59.735526%2C%2030.579832%2C%20-1.1261191234434216%5D%2C%20%5B59.832466000000004%2C%2030.348665000000004%2C%200.732345044784527%5D%2C%20%5B59.831962%2C%2030.505551%2C%20-0.30493728166828155%5D%2C%20%5B59.91627%2C%2030.47281%2C%20-1.0396789295723543%5D%2C%20%5B59.738702%2C%2030.08969%2C%20-0.9532387357012869%5D%2C%20%5B59.849135%2C%2030.143909999999998%2C%20-1.212559317314489%5D%2C%20%5B59.953669%2C%2030.415815000000002%2C%20-0.7371382510236184%5D%2C%20%5B59.907081999999996%2C%2030.481682%2C%200.6459048509134596%5D%2C%20%5B60.093366%2C%2029.957915999999997%2C%200.7755651417200607%5D%2C%20%5B59.915002%2C%2030.348815999999996%2C%200.8187852386555944%5D%2C%20%5B59.966483999999994%2C%2030.309721999999997%2C%201.1213259172043302%5D%2C%20%5B59.881795%2C%2029.894139000000003%2C%200.6891249478489934%5D%2C%20%5B59.849019999999996%2C%2030.387133000000002%2C%20-0.34815737860381524%5D%2C%20%5B59.858688%2C%2030.247937%2C%20-1.234169365782256%5D%2C%20%5B59.86786800000001%2C%2030.261134000000002%2C%20-0.6074779602170174%5D%2C%20%5B60.01664%2C%2030.321087%2C%20-0.8667985418302195%5D%2C%20%5B59.906746999999996%2C%2030.298369%2C%20-0.7803583479591522%5D%2C%20%5B59.852171999999996%2C%2030.354623999999998%2C%20-0.34815737860381524%5D%2C%20%5B60.022004%2C%2030.244120000000002%2C%200.06243354228375483%5D%2C%20%5B59.942578000000005%2C%2030.349039%2C%200.12726368768705537%5D%2C%20%5B59.832908999999994%2C%2030.349681%2C%20-1.1693392203789554%5D%2C%20%5B59.870262%2C%2030.379346%2C%20-1.0396789295723543%5D%2C%20%5B59.92681999999999%2C%2030.320997%2C%20-0.30493728166828155%5D%2C%20%5B60.016895999999996%2C%2030.315541999999997%2C%20-0.5642578632814836%5D%2C%20%5B59.835831000000006%2C%2030.145125%2C%20-0.39137747553934893%5D%2C%20%5B59.848552000000005%2C%2030.322345000000002%2C%200.25692397849365645%5D%2C%20%5B60.010906000000006%2C%2030.400447999999997%2C%20-0.26171718473274785%5D%2C%20%5B59.928543000000005%2C%2030.410413000000002%2C%20-0.8235784448946858%5D%2C%20%5B59.989943999999994%2C%2030.256958%2C%200.4730244631713249%5D%2C%20%5B60.013018%2C%2030.395038%2C%200.30014407542919014%5D%2C%20%5B60.003612%2C%2030.296671999999997%2C%201.3806464988175324%5D%2C%20%5B59.933032%2C%2030.437617%2C%20-0.17527699086168047%5D%2C%20%5B59.915881000000006%2C%2030.317728999999996%2C%200.4298043662357912%5D%2C%20%5B59.908258%2C%2030.482577000000003%2C%20-1.1693392203789554%5D%2C%20%5B59.73877099999999%2C%2030.622015%2C%20-0.650698057152551%5D%2C%20%5B60.008665%2C%2030.369312%2C%20-0.26171718473274785%5D%2C%20%5B59.87619300000001%2C%2030.443872999999996%2C%20-0.08883679699061309%5D%2C%20%5B59.957184999999996%2C%2030.355110999999997%2C%20-0.002396603119545705%5D%2C%20%5B59.986416000000006%2C%2030.297659000000003%2C%20-0.30493728166828155%5D%2C%20%5B59.74071%2C%2030.610533%2C%20-1.212559317314489%5D%2C%20%5B59.94595%2C%2030.474390000000003%2C%20-0.650698057152551%5D%2C%20%5B59.934582999999996%2C%2030.326728999999997%2C%200.17048378462258906%5D%2C%20%5B59.924416%2C%2030.384063%2C%20-1.0396789295723543%5D%2C%20%5B59.930514%2C%2030.359883%2C%202.417928825270341%5D%2C%20%5B59.852886%2C%2030.193401%2C%20-0.650698057152551%5D%2C%20%5B59.86660799999999%2C%2030.319964000000002%2C%20-1.0396789295723543%5D%2C%20%5B59.865058999999995%2C%2030.470336%2C%20-0.39137747553934893%5D%2C%20%5B59.829918000000006%2C%2030.377473%2C%200.4730244631713249%5D%2C%20%5B59.928986%2C%2030.410802%2C%20-0.9532387357012869%5D%2C%20%5B59.949177%2C%2030.234364000000003%2C%20-1.2557794142500227%5D%2C%20%5B59.819869999999995%2C%2030.318236%2C%20-0.9532387357012869%5D%2C%20%5B59.932347%2C%2030.439315%2C%20-0.4778176694104163%5D%2C%20%5B60.053615%2C%2030.330016999999998%2C%20-0.5642578632814836%5D%2C%20%5B59.925389%2C%2030.317177%2C%20-0.39137747553934893%5D%2C%20%5B60.036664%2C%2030.323314%2C%200.34336417236472383%5D%2C%20%5B59.900057999999994%2C%2030.273976%2C%20-0.17527699086168047%5D%2C%20%5B59.987141%2C%2030.354079%2C%20-0.13205689392614678%5D%2C%20%5B60.058778000000004%2C%2030.335177%2C%20-0.39137747553934893%5D%2C%20%5B59.842341000000005%2C%2030.251162%2C%20-0.9532387357012869%5D%2C%20%5B59.92864%2C%2030.347252%2C%20-0.21849708779721416%5D%2C%20%5B59.990781999999996%2C%2030.205797999999998%2C%20-1.1693392203789554%5D%2C%20%5B59.929001%2C%2030.323306%2C%20-0.045616700055079396%5D%2C%20%5B59.721488%2C%2030.427870000000002%2C%200.12726368768705537%5D%2C%20%5B59.997719999999994%2C%2029.76554%2C%200.9484455294621955%5D%2C%20%5B59.740388%2C%2030.582934%2C%20-1.0396789295723543%5D%2C%20%5B59.828011%2C%2030.3984%2C%20-0.8235784448946858%5D%2C%20%5B59.912914%2C%2030.446878%2C%20-0.52103776634595%5D%2C%20%5B59.82918000000001%2C%2030.377937%2C%20-0.5858679117492506%5D%2C%20%5B59.843173%2C%2030.247469%2C%20-0.7803583479591522%5D%2C%20%5B59.87869%2C%2030.320873%2C%200.04082349381598799%5D%2C%20%5B59.909612%2C%2029.777139000000002%2C%20-1.212559317314489%5D%2C%20%5B59.807007999999996%2C%2030.162239000000003%2C%20-1.1693392203789554%5D%2C%20%5B60.047136%2C%2030.314963%2C%20-0.9532387357012869%5D%2C%20%5B59.858334%2C%2030.392071%2C%200.4730244631713249%5D%2C%20%5B59.95951899999999%2C%2030.414226%2C%20-0.650698057152551%5D%2C%20%5B59.883%2C%2030.370209999999997%2C%20-0.17527699086168047%5D%2C%20%5B59.850761999999996%2C%2030.268333000000002%2C%20-0.30493728166828155%5D%2C%20%5B59.867776%2C%2030.260932%2C%20-0.39137747553934893%5D%2C%20%5B59.921133999999995%2C%2030.355126000000002%2C%20-0.26171718473274785%5D%2C%20%5B59.833301%2C%2030.391599%2C%20-0.9100186387657532%5D%2C%20%5B59.83404%2C%2030.204863%2C%20-0.26171718473274785%5D%2C%20%5B59.931738%2C%2030.362054999999998%2C%20-0.7803583479591522%5D%5D%2C%0A%20%20%20%20%20%20%20%20%20%20%20%20%20%20%20%20%7B%22blur%22%3A%2015%2C%20%22maxZoom%22%3A%2018%2C%20%22minOpacity%22%3A%200.5%2C%20%22radius%22%3A%2010%7D%0A%20%20%20%20%20%20%20%20%20%20%20%20%29.addTo%28map_3d9a9d4d4831454490de43a7eb8c623b%29%3B%0A%20%20%20%20%20%20%20%20%0A%3C/script%3E onload=\"this.contentDocument.open();this.contentDocument.write(    decodeURIComponent(this.getAttribute('data-html')));this.contentDocument.close();\" allowfullscreen webkitallowfullscreen mozallowfullscreen></iframe></div></div>"
      ],
      "text/plain": [
       "<folium.folium.Map at 0x2968f45c250>"
      ]
     },
     "execution_count": 200,
     "metadata": {},
     "output_type": "execute_result"
    }
   ],
   "source": [
    "m = folium.Map(location=[spb_poly.centroid.coords[0][1], spb_poly.centroid.coords[0][0]], \n",
    "               zoom_start=11, \n",
    "               tiles='cartodbpositron')\n",
    "\n",
    "HeatMap(spb_points[['lat','lon', 'target']],\n",
    "        radius=10).add_to(m)\n",
    "\n",
    "m"
   ]
  },
  {
   "cell_type": "code",
   "execution_count": null,
   "metadata": {},
   "outputs": [],
   "source": []
  },
  {
   "cell_type": "code",
   "execution_count": null,
   "metadata": {},
   "outputs": [],
   "source": []
  },
  {
   "cell_type": "markdown",
   "metadata": {},
   "source": [
    "##### Смотрел разные города, прикидывал наиболее удачный радиус для буфферной зоны"
   ]
  },
  {
   "cell_type": "code",
   "execution_count": 641,
   "metadata": {},
   "outputs": [
    {
     "data": {
      "image/png": "[encoded data removed]",
      "text/plain": [
       "<Figure size 720x576 with 1 Axes>"
      ]
     },
     "metadata": {
      "needs_background": "light"
     },
     "output_type": "display_data"
    }
   ],
   "source": [
    "ufa = gpd.GeoDataFrame()\n",
    "ufa.loc[0,'geometry'] = UFA\n",
    "buf = gpd.GeoDataFrame()\n",
    "buf.loc[0,'geometry'] = UFA.centroid.buffer(0.05)\n",
    "\n",
    "\n",
    "\n",
    "ax = ufa.plot(figsize=(10, 8))\n",
    "ax = buf.plot(color='r', ax=ax, alpha=0.6)\n",
    "ax = ru[ru['index_right'] == 39].plot(figsize=(10, 8),ax=ax, color = 'yellow')"
   ]
  },
  {
   "cell_type": "markdown",
   "metadata": {
    "id": "IcNetPZ_wo0x"
   },
   "source": [
    "### Fit model"
   ]
  },
  {
   "cell_type": "code",
   "execution_count": 643,
   "metadata": {
    "id": "ecDetKmRH80K"
   },
   "outputs": [],
   "source": [
    "train = ru.drop(columns=['name_right','name_left', 'index_right', 'geometry'])"
   ]
  },
  {
   "cell_type": "code",
   "execution_count": 608,
   "metadata": {
    "id": "1ayhusMdwo0y"
   },
   "outputs": [],
   "source": [
    "X_train, X_valid, y_train, y_valid = train_test_split(train.drop('target', axis=1), train[['target']])\n",
    "model = LinearRegression().fit(X_train.drop('point_id', axis=1), y_train)"
   ]
  },
  {
   "cell_type": "code",
   "execution_count": 609,
   "metadata": {
    "colab": {
     "base_uri": "https://localhost:8080/"
    },
    "id": "P6jYQzFwwo0y",
    "outputId": "14ec7e32-34a8-42d5-e06c-6e85d0aecb2a"
   },
   "outputs": [
    {
     "data": {
      "text/plain": [
       "0.796748478479725"
      ]
     },
     "execution_count": 609,
     "metadata": {},
     "output_type": "execute_result"
    }
   ],
   "source": [
    "mean_absolute_error(y_valid, model.predict(X_valid.drop('point_id', axis=1)))"
   ]
  },
  {
   "cell_type": "code",
   "execution_count": 584,
   "metadata": {},
   "outputs": [
    {
     "data": {
      "text/html": [
       "<div>\n",
       "<style scoped>\n",
       "    .dataframe tbody tr th:only-of-type {\n",
       "        vertical-align: middle;\n",
       "    }\n",
       "\n",
       "    .dataframe tbody tr th {\n",
       "        vertical-align: top;\n",
       "    }\n",
       "\n",
       "    .dataframe thead th {\n",
       "        text-align: right;\n",
       "    }\n",
       "</style>\n",
       "<table border=\"1\" class=\"dataframe\">\n",
       "  <thead>\n",
       "    <tr style=\"text-align: right;\">\n",
       "      <th></th>\n",
       "      <th>point_id</th>\n",
       "      <th>lon</th>\n",
       "      <th>lat</th>\n",
       "      <th>target</th>\n",
       "      <th>closest_prison</th>\n",
       "      <th>closest_railway</th>\n",
       "      <th>closest_tram</th>\n",
       "      <th>closest_military</th>\n",
       "      <th>closest_areo_reg</th>\n",
       "      <th>social_facility</th>\n",
       "      <th>closest_camp_reg</th>\n",
       "      <th>closest_subway</th>\n",
       "      <th>city_center_dist</th>\n",
       "      <th>sub_ents_in_buf</th>\n",
       "    </tr>\n",
       "  </thead>\n",
       "  <tbody>\n",
       "    <tr>\n",
       "      <th>419</th>\n",
       "      <td>YdPYoxfU</td>\n",
       "      <td>30.362054999999998</td>\n",
       "      <td>59.931738</td>\n",
       "      <td>-0.7803583479591522</td>\n",
       "      <td>2.15</td>\n",
       "      <td>2.68</td>\n",
       "      <td>6.50</td>\n",
       "      <td>1.90</td>\n",
       "      <td>12.45</td>\n",
       "      <td>-1.00</td>\n",
       "      <td>-1.00</td>\n",
       "      <td>-1.00</td>\n",
       "      <td>5.52</td>\n",
       "      <td>22</td>\n",
       "    </tr>\n",
       "    <tr>\n",
       "      <th>120</th>\n",
       "      <td>PlRVd2q7</td>\n",
       "      <td>30.349681</td>\n",
       "      <td>59.832908999999994</td>\n",
       "      <td>-1.1693392203789554</td>\n",
       "      <td>2.65</td>\n",
       "      <td>0.18</td>\n",
       "      <td>0.14</td>\n",
       "      <td>4.36</td>\n",
       "      <td>31.28</td>\n",
       "      <td>0.71</td>\n",
       "      <td>38.08</td>\n",
       "      <td>0.06</td>\n",
       "      <td>30.81</td>\n",
       "      <td>5</td>\n",
       "    </tr>\n",
       "    <tr>\n",
       "      <th>124</th>\n",
       "      <td>gJTsNAnJ</td>\n",
       "      <td>30.379346</td>\n",
       "      <td>59.870262</td>\n",
       "      <td>-1.0396789295723543</td>\n",
       "      <td>5.00</td>\n",
       "      <td>0.37</td>\n",
       "      <td>1.74</td>\n",
       "      <td>4.75</td>\n",
       "      <td>32.18</td>\n",
       "      <td>0.69</td>\n",
       "      <td>39.74</td>\n",
       "      <td>0.16</td>\n",
       "      <td>33.82</td>\n",
       "      <td>5</td>\n",
       "    </tr>\n",
       "    <tr>\n",
       "      <th>126</th>\n",
       "      <td>jHHBbyj3</td>\n",
       "      <td>30.320997</td>\n",
       "      <td>59.92681999999999</td>\n",
       "      <td>-0.30493728166828155</td>\n",
       "      <td>4.31</td>\n",
       "      <td>0.15</td>\n",
       "      <td>3.26</td>\n",
       "      <td>3.41</td>\n",
       "      <td>35.23</td>\n",
       "      <td>1.43</td>\n",
       "      <td>23.80</td>\n",
       "      <td>0.08</td>\n",
       "      <td>15.55</td>\n",
       "      <td>26</td>\n",
       "    </tr>\n",
       "    <tr>\n",
       "      <th>131</th>\n",
       "      <td>2CRYkkg6</td>\n",
       "      <td>30.315541999999997</td>\n",
       "      <td>60.016895999999996</td>\n",
       "      <td>-0.5642578632814836</td>\n",
       "      <td>5.52</td>\n",
       "      <td>0.19</td>\n",
       "      <td>0.66</td>\n",
       "      <td>5.04</td>\n",
       "      <td>33.80</td>\n",
       "      <td>0.30</td>\n",
       "      <td>21.36</td>\n",
       "      <td>0.06</td>\n",
       "      <td>16.12</td>\n",
       "      <td>8</td>\n",
       "    </tr>\n",
       "  </tbody>\n",
       "</table>\n",
       "</div>"
      ],
      "text/plain": [
       "     point_id                 lon                 lat                target  \\\n",
       "419  YdPYoxfU  30.362054999999998           59.931738   -0.7803583479591522   \n",
       "120  PlRVd2q7           30.349681  59.832908999999994   -1.1693392203789554   \n",
       "124  gJTsNAnJ           30.379346           59.870262   -1.0396789295723543   \n",
       "126  jHHBbyj3           30.320997   59.92681999999999  -0.30493728166828155   \n",
       "131  2CRYkkg6  30.315541999999997  60.016895999999996   -0.5642578632814836   \n",
       "\n",
       "     closest_prison  closest_railway  closest_tram  closest_military  \\\n",
       "419            2.15             2.68          6.50              1.90   \n",
       "120            2.65             0.18          0.14              4.36   \n",
       "124            5.00             0.37          1.74              4.75   \n",
       "126            4.31             0.15          3.26              3.41   \n",
       "131            5.52             0.19          0.66              5.04   \n",
       "\n",
       "     closest_areo_reg  social_facility  closest_camp_reg  closest_subway  \\\n",
       "419             12.45            -1.00             -1.00           -1.00   \n",
       "120             31.28             0.71             38.08            0.06   \n",
       "124             32.18             0.69             39.74            0.16   \n",
       "126             35.23             1.43             23.80            0.08   \n",
       "131             33.80             0.30             21.36            0.06   \n",
       "\n",
       "     city_center_dist  sub_ents_in_buf  \n",
       "419              5.52               22  \n",
       "120             30.81                5  \n",
       "124             33.82                5  \n",
       "126             15.55               26  \n",
       "131             16.12                8  "
      ]
     },
     "execution_count": 584,
     "metadata": {},
     "output_type": "execute_result"
    }
   ],
   "source": [
    "train.head()"
   ]
  },
  {
   "cell_type": "code",
   "execution_count": 611,
   "metadata": {},
   "outputs": [],
   "source": [
    "model = LinearRegression().fit(X = train.drop(['point_id','target'], axis=1), y = train[['target']])"
   ]
  },
  {
   "cell_type": "code",
   "execution_count": 644,
   "metadata": {},
   "outputs": [],
   "source": [
    "predict = model.predict(train.drop(['target','point_id'], axis=1))"
   ]
  },
  {
   "cell_type": "code",
   "execution_count": 645,
   "metadata": {},
   "outputs": [
    {
     "data": {
      "text/plain": [
       "(107, 1)"
      ]
     },
     "execution_count": 645,
     "metadata": {},
     "output_type": "execute_result"
    }
   ],
   "source": [
    "predict.shape"
   ]
  },
  {
   "cell_type": "markdown",
   "metadata": {
    "id": "8VFQ1NEowo0z"
   },
   "source": [
    "### Make submission"
   ]
  },
  {
   "cell_type": "code",
   "execution_count": 646,
   "metadata": {
    "id": "6kPj4mr_wo0z"
   },
   "outputs": [],
   "source": [
    "submission = pd.read_csv('sample_submission.csv')\n",
    "submission['target'] = predict\n",
    "submission.to_csv('my_submission_01.csv', index=False)"
   ]
  }
 ],
 "metadata": {
  "colab": {
   "collapsed_sections": [
    "IcNetPZ_wo0x",
    "8VFQ1NEowo0z",
    "mlRig9lIvBr2"
   ],
   "name": "megafon_geo_hw.ipynb",
   "provenance": []
  },
  "kernelspec": {
   "display_name": "Python 3",
   "language": "python",
   "name": "python3"
  },
  "language_info": {
   "codemirror_mode": {
    "name": "ipython",
    "version": 3
   },
   "file_extension": ".py",
   "mimetype": "text/x-python",
   "name": "python",
   "nbconvert_exporter": "python",
   "pygments_lexer": "ipython3",
   "version": "3.8.5"
  }
 },
 "nbformat": 4,
 "nbformat_minor": 1
}
