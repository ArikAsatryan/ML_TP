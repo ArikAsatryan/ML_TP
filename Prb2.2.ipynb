{
 "cells": [
  {
   "cell_type": "code",
   "execution_count": 1,
   "metadata": {},
   "outputs": [],
   "source": [
    "import numpy as np\n",
    "import pandas as pd\n",
    "import matplotlib.pyplot as plt"
   ]
  },
  {
   "cell_type": "code",
   "execution_count": 15,
   "metadata": {},
   "outputs": [],
   "source": [
    "data = np.loadtxt('HW2_labels.txt',  delimiter=',')\n",
    "y_predict, y_true = data[:, :2], data[:, -1]"
   ]
  },
  {
   "cell_type": "code",
   "execution_count": 21,
   "metadata": {},
   "outputs": [
    {
     "data": {
      "text/plain": [
       "array([[0.98352826, 0.01647175],\n",
       "       [0.7889117 , 0.21108827],\n",
       "       [0.32833612, 0.67166388],\n",
       "       ...,\n",
       "       [0.03518832, 0.96481168],\n",
       "       [0.33458501, 0.66541499],\n",
       "       [0.92001009, 0.07998994]])"
      ]
     },
     "execution_count": 21,
     "metadata": {},
     "output_type": "execute_result"
    }
   ],
   "source": [
    "y_predict"
   ]
  },
  {
   "cell_type": "code",
   "execution_count": 25,
   "metadata": {},
   "outputs": [
    {
     "data": {
      "text/plain": [
       "0"
      ]
     },
     "execution_count": 25,
     "metadata": {},
     "output_type": "execute_result"
    }
   ],
   "source": [
    "np.sum((y_predict[:,0] == y_predict[:,1]).astype(int))"
   ]
  },
  {
   "cell_type": "code",
   "execution_count": 78,
   "metadata": {},
   "outputs": [
    {
     "data": {
      "text/plain": [
       "1.0"
      ]
     },
     "execution_count": 78,
     "metadata": {},
     "output_type": "execute_result"
    }
   ],
   "source": [
    "def accuracy_score(y_true, y_predict, percent=None):\n",
    "    percent = 50 if percent == None else percent\n",
    "    if percent > 100 or percent < 0:\n",
    "        return -1\n",
    "    \n",
    "    threshold = percent/100\n",
    "    count = (int)(y_predict.shape[0] * threshold)    \n",
    "    predict = y_predict[:count].argmax(axis = 1)\n",
    "\n",
    "    \n",
    "    #TP = if predict == 1 and y_true == 1\n",
    "    TP = np.sum(np.array([predict[i] == 1 and y_true[i] == 1 for i in range(predict.shape[0])]))\n",
    "    \n",
    "    #TN = if predict == 0 and y_true == 0\n",
    "    TN = np.sum(np.array([predict[i] == 0 and y_true[i] == 0 for i in range(predict.shape[0])]))\n",
    "    \n",
    "    #FP = if predict == 1 and y_true == 0\n",
    "    FP = np.sum(np.array([predict[i] == 1 and y_true[i] == 0 for i in range(predict.shape[0])]))\n",
    "    \n",
    "    #FN = if predict == 0 and y_true == 1\n",
    "    FN = np.sum(np.array([predict[i] == 0 and y_true[i] == 1 for i in range(predict.shape[0])]))\n",
    "    \n",
    "    result = (TP + TN)/(TP + TN + FP + FN)\n",
    "    return result\n",
    "     \n",
    "accuracy_score(y_true, y_predict)"
   ]
  },
  {
   "cell_type": "code",
   "execution_count": 81,
   "metadata": {},
   "outputs": [
    {
     "data": {
      "text/plain": [
       "1.0"
      ]
     },
     "execution_count": 81,
     "metadata": {},
     "output_type": "execute_result"
    }
   ],
   "source": [
    "def precision_score(y_true, y_predict, percent=None):\n",
    "    percent = 50 if percent == None else percent\n",
    "    if percent > 100 or percent < 0:\n",
    "        return -1\n",
    "    \n",
    "    threshold = percent/100\n",
    "    count = (int)(y_predict.shape[0] * threshold)    \n",
    "    predict = y_predict[:count].argmax(axis = 1)\n",
    "\n",
    "    TP = np.sum(np.array([predict[i] == 1 and y_true[i] == 1 for i in range(predict.shape[0])]))\n",
    "    TN = np.sum(np.array([predict[i] == 0 and y_true[i] == 0 for i in range(predict.shape[0])]))\n",
    "    FP = np.sum(np.array([predict[i] == 1 and y_true[i] == 0 for i in range(predict.shape[0])]))\n",
    "    FN = np.sum(np.array([predict[i] == 0 and y_true[i] == 1 for i in range(predict.shape[0])]))\n",
    "    return TP / (TP + FP)\n",
    "\n",
    "precision_score(y_true, y_predict)"
   ]
  },
  {
   "cell_type": "code",
   "execution_count": 89,
   "metadata": {},
   "outputs": [
    {
     "data": {
      "text/plain": [
       "1.0"
      ]
     },
     "execution_count": 89,
     "metadata": {},
     "output_type": "execute_result"
    }
   ],
   "source": [
    "def recall_score(y_true, y_predict, percent=None):\n",
    "    percent = 50 if percent == None else percent\n",
    "    if percent > 100 or percent < 0:\n",
    "        return -1\n",
    "    \n",
    "    threshold = percent/100\n",
    "    count = (int)(y_predict.shape[0] * threshold)    \n",
    "    predict = y_predict[:count].argmax(axis = 1)\n",
    "\n",
    "    TP = np.sum(np.array([predict[i] == 1 and y_true[i] == 1 for i in range(predict.shape[0])]))\n",
    "    TN = np.sum(np.array([predict[i] == 0 and y_true[i] == 0 for i in range(predict.shape[0])]))\n",
    "    FP = np.sum(np.array([predict[i] == 1 and y_true[i] == 0 for i in range(predict.shape[0])]))\n",
    "    FN = np.sum(np.array([predict[i] == 0 and y_true[i] == 1 for i in range(predict.shape[0])]))\n",
    "    return TP / (TP + FN)\n",
    "\n",
    "recall_score(y_true, y_predict,80)"
   ]
  },
  {
   "cell_type": "code",
   "execution_count": 88,
   "metadata": {},
   "outputs": [
    {
     "data": {
      "text/plain": [
       "1.0"
      ]
     },
     "execution_count": 88,
     "metadata": {},
     "output_type": "execute_result"
    }
   ],
   "source": [
    "def f1_score(y_true, y_predict, percent=None):\n",
    "    percent = 50 if percent == None else percent\n",
    "    if percent > 100 or percent < 0:\n",
    "        return -1  \n",
    "    \n",
    "    recall = recall_score(y_true, y_predict, percent)\n",
    "    precision = precision_score(y_true, y_predict, percent)\n",
    "    return 2*(precision * recall)/(precision + recall)\n",
    "\n",
    "f1_score(y_true, y_predict)"
   ]
  },
  {
   "cell_type": "code",
   "execution_count": 95,
   "metadata": {},
   "outputs": [
    {
     "data": {
      "text/plain": [
       "3.811459789099225"
      ]
     },
     "execution_count": 95,
     "metadata": {},
     "output_type": "execute_result"
    }
   ],
   "source": [
    "def lift_score(y_true, y_predict, percent=None):\n",
    "    percent = 50 if percent == None else percent\n",
    "    if percent > 100 or percent < 0:\n",
    "        return -1\n",
    "    \n",
    "    threshold = percent/100\n",
    "    count = (int)(y_predict.shape[0] * threshold)    \n",
    "    predict = y_predict[:count].argmax(axis = 1)\n",
    "\n",
    "    precision = precision_score(y_true, y_predict, percent)\n",
    "    TP = np.sum(np.array([predict[i] == 1 and y_true[i] == 1 for i in range(predict.shape[0])]))\n",
    "    FN = np.sum(np.array([predict[i] == 0 and y_true[i] == 1 for i in range(predict.shape[0])]))\n",
    "    return precision * predict.shape[0]  / (TP + FN)\n",
    "\n",
    "lift_score(y_true, y_predict,100)"
   ]
  }
 ],
 "metadata": {
  "kernelspec": {
   "display_name": "Python 3",
   "language": "python",
   "name": "python3"
  },
  "language_info": {
   "codemirror_mode": {
    "name": "ipython",
    "version": 3
   },
   "file_extension": ".py",
   "mimetype": "text/x-python",
   "name": "python",
   "nbconvert_exporter": "python",
   "pygments_lexer": "ipython3",
   "version": "3.8.5"
  }
 },
 "nbformat": 4,
 "nbformat_minor": 4
}
